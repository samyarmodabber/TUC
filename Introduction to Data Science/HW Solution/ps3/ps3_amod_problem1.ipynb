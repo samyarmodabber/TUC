{
 "cells": [
  {
   "cell_type": "markdown",
   "metadata": {},
   "source": [
    "# Introduction to Data Science\n",
    "## Lab 3: Regression"
   ]
  },
  {
   "cell_type": "markdown",
   "metadata": {},
   "source": [
    "The previous exercises gave an introduction to Python, Numpy and Pandas. Beginning with this exercise, we shift our focus to statistical learning itself. To this end, we will employ the module scikit-learn which offers many functions we will cover over the remaining semester."
   ]
  },
  {
   "cell_type": "markdown",
   "metadata": {},
   "source": [
    "### Part A: Linear regression for the Advertising dataset"
   ]
  },
  {
   "cell_type": "markdown",
   "metadata": {},
   "source": [
    "If not already done, please download the file [Advertising.csv](https://www.tu-chemnitz.de/mathematik/numa/lehre/ds-2019/Exercises/ps3/Advertising.csv) and move it into the current directory on the Jupyter Hub."
   ]
  },
  {
   "cell_type": "markdown",
   "metadata": {},
   "source": [
    "**Task**: Import the *Advertising* dataset using `pandas` `read_csv` function. Ensure, that the first column is treated as the index column."
   ]
  },
  {
   "cell_type": "code",
   "execution_count": 34,
   "metadata": {
    "deletable": false,
    "nbgrader": {
     "cell_type": "code",
     "checksum": "5bc404a50048cbd3310c7f72d759d89a",
     "grade": false,
     "grade_id": "cell-8d64ab6b1a68631f",
     "locked": false,
     "schema_version": 3,
     "solution": true,
     "task": false
    }
   },
   "outputs": [
    {
     "name": "stdout",
     "output_type": "stream",
     "text": [
      "      TV  radio  newspaper  sales\n",
      "1  230.1   37.8       69.2   22.1\n",
      "2   44.5   39.3       45.1   10.4\n",
      "3   17.2   45.9       69.3    9.3\n"
     ]
    }
   ],
   "source": [
    "import pandas as pd\n",
    "import numpy as np\n",
    "\n",
    "# YOUR CODE HERE\n",
    "adv = pd.read_csv('Advertising.csv', index_col=0)\n",
    "# Print first entries of adv\n",
    "print(adv.head(3))"
   ]
  },
  {
   "cell_type": "code",
   "execution_count": 35,
   "metadata": {
    "deletable": false,
    "editable": false,
    "nbgrader": {
     "cell_type": "code",
     "checksum": "31e44968e45e337d38e76bc706db30b6",
     "grade": true,
     "grade_id": "cell-b1115ea7f17d9f4b",
     "locked": true,
     "points": 1,
     "schema_version": 3,
     "solution": false,
     "task": false
    }
   },
   "outputs": [],
   "source": [
    "assert len(adv.index) == 200\n",
    "assert adv.TV.mean() == 147.0425\n",
    "assert adv.shape == (200,4)"
   ]
  },
  {
   "cell_type": "markdown",
   "metadata": {},
   "source": [
    "For convenience, we extract the values from this `pandas`-DataFrame.\n",
    "This can be done with the method `values`, which returns a `numpy` array.\n",
    "\n",
    "**Task**: Extract the data in the following manner:\n",
    "- `X` contains all predictor variables, i.e., the values from the columns `TV`, `Radio` and `Newspaper`.\n",
    "- `Y` contains the dependent variable `Sales`"
   ]
  },
  {
   "cell_type": "code",
   "execution_count": 4,
   "metadata": {
    "deletable": false,
    "nbgrader": {
     "cell_type": "code",
     "checksum": "c2c554648df65c96215bbe534fcaf0c4",
     "grade": false,
     "grade_id": "cell-f0d1c2f7e6986c87",
     "locked": false,
     "schema_version": 3,
     "solution": true,
     "task": false
    }
   },
   "outputs": [],
   "source": [
    "X = adv.values[:,0:3]\n",
    "Y = adv.values[:,3]"
   ]
  },
  {
   "cell_type": "code",
   "execution_count": 5,
   "metadata": {
    "deletable": false,
    "editable": false,
    "nbgrader": {
     "cell_type": "code",
     "checksum": "cfc8f9558132e42bc7e6433a10e65e9b",
     "grade": true,
     "grade_id": "cell-6af75eca942f8185",
     "locked": true,
     "points": 1,
     "schema_version": 3,
     "solution": false,
     "task": false
    }
   },
   "outputs": [],
   "source": [
    "assert X.shape == (200,3)\n",
    "assert Y.shape == (200,)\n",
    "assert type(X) == np.ndarray\n",
    "assert type(Y) == np.ndarray"
   ]
  },
  {
   "cell_type": "markdown",
   "metadata": {},
   "source": [
    "Note that the variables `X` and `Y` contain only the values itself, and no further information like the column title.\n",
    "\n",
    "Using the `numpy` function `hsplit`, we can split an array horizontally.\n",
    "This will become handy in many circumstances.\n",
    "Here, we split the 2-dimensional numpy array `X` into three \n",
    "**2**-dimensional slices `tv`, `radio` and `news`.\n",
    "Note that the returned arrays have still the second dimension (which is one)!"
   ]
  },
  {
   "cell_type": "code",
   "execution_count": 6,
   "metadata": {},
   "outputs": [],
   "source": [
    "tv, radio, news = np.hsplit(X,3)"
   ]
  },
  {
   "cell_type": "markdown",
   "metadata": {},
   "source": [
    "Compute for each of the 3 predictor variables **TV**, **radio** and **newspaper** simple (1-dimensional) linear regressions, e.g.\n",
    "\n",
    "$$ y^{TV}_i \\approx \\beta_0^{TV} + \\beta_1^{TV} \\, x_i^{TV}$$\n",
    "\n",
    "Use the following function:\n",
    "\n",
    "    from sklearn.linear_model import LinearRegression\n",
    "    \n",
    "Store the intercepts, i.e., the values $\\beta_0$ in variables\n",
    "       \n",
    "    intercept_tv, intercept_radio and intercept_news\n",
    "    \n",
    "and the linear coefficients, i.e., the values $\\beta_1$ in variables\n",
    "\n",
    "    lincoef_tv, lincoef_radio and lincoeff_news\n",
    "\n",
    "To print your results in a nice fashion, you can use a command similar to\n",
    "\n",
    "    print('y = %5.4f + %5.4f x TV' % (intercept, lincoef))"
   ]
  },
  {
   "cell_type": "code",
   "execution_count": 7,
   "metadata": {
    "deletable": false,
    "nbgrader": {
     "cell_type": "code",
     "checksum": "e0455dd47c54c42d8fe3169ed3b2ba99",
     "grade": false,
     "grade_id": "cell-5cb14fe0e222492c",
     "locked": false,
     "schema_version": 3,
     "solution": true,
     "task": false
    }
   },
   "outputs": [
    {
     "name": "stdout",
     "output_type": "stream",
     "text": [
      "y = 7.0326 + 0.0475 x TV\n",
      "y = 9.3116 + 0.2025 x radio\n",
      "y = 12.3514 + 0.0547 x news\n"
     ]
    }
   ],
   "source": [
    "from sklearn.linear_model import LinearRegression\n",
    "LR = LinearRegression()\n",
    "\n",
    "reg_tv = LR.fit(tv,Y)\n",
    "intercept_tv = reg_tv.intercept_\n",
    "lincoef_tv = reg_tv.coef_\n",
    "print('y = %5.4f + %5.4f x TV' % (intercept_tv, lincoef_tv))\n",
    "\n",
    "reg_radio = LinearRegression().fit(radio,Y)\n",
    "intercept_radio = reg_radio.intercept_\n",
    "lincoef_radio = reg_radio.coef_\n",
    "print('y = %5.4f + %5.4f x radio' % (intercept_radio, lincoef_radio))\n",
    "\n",
    "reg_news = LinearRegression().fit(news,Y)\n",
    "intercept_news = reg_news.intercept_\n",
    "lincoef_news = reg_news.coef_\n",
    "print('y = %5.4f + %5.4f x news' % (intercept_news, lincoef_news))"
   ]
  },
  {
   "cell_type": "code",
   "execution_count": 8,
   "metadata": {
    "deletable": false,
    "editable": false,
    "nbgrader": {
     "cell_type": "code",
     "checksum": "6fee455dec1e4bbaafb6cbe4552dbde4",
     "grade": true,
     "grade_id": "cell-ed24b27d868aff40",
     "locked": true,
     "points": 1,
     "schema_version": 3,
     "solution": false,
     "task": false
    }
   },
   "outputs": [],
   "source": [
    "assert np.abs(intercept_tv-7.0326) < 1e-4\n",
    "assert np.abs(lincoef_tv-0.0475) < 1e-4"
   ]
  },
  {
   "cell_type": "markdown",
   "metadata": {},
   "source": [
    "You should observe, that the regression coefficients for **TV** and **newspaper** are very similar.\n",
    "As you already know from the lecture, it is not satisfying from a mathematical point of view to restrict our investigation to the absolute values of the coefficients.\n"
   ]
  },
  {
   "cell_type": "markdown",
   "metadata": {},
   "source": [
    "### Part B: Assessing the quality of a linear fit."
   ]
  },
  {
   "cell_type": "markdown",
   "metadata": {},
   "source": [
    "In the lecture you learned about different measures for assessing the quality of a linear fit.\n",
    "In the last exercise, we already implemented a function to compute the mean squared error (MSE).\n",
    "\n",
    "This time, we want to compare the $R^2$ scores. You can use the method `score()` of a `LinearRegression` to get the $R^2$ values.\n",
    "Remember that this value is the proportion of variability in $Y$ explained using **TV**, **radio** or **newspaper** as predictor in a 1-dimensional linear regression fit.\n",
    "\n",
    "**Task**: Compute the $R^2$ scores and store them in variables\n",
    "    \n",
    "    R2_tv, R2_radio, R2_news"
   ]
  },
  {
   "cell_type": "code",
   "execution_count": 9,
   "metadata": {
    "deletable": false,
    "nbgrader": {
     "cell_type": "code",
     "checksum": "4c9021fae88e5026f06552e4b278e329",
     "grade": false,
     "grade_id": "cell-fd3b6790a9e543c0",
     "locked": false,
     "schema_version": 3,
     "solution": true,
     "task": false
    }
   },
   "outputs": [
    {
     "name": "stdout",
     "output_type": "stream",
     "text": [
      "R^2 for TV:         0.611875050850071\n",
      "R^2 for radio:      0.33203245544529525\n",
      "R^2 for newspaper:  0.05212044544430516\n"
     ]
    }
   ],
   "source": [
    "R2_tv = reg_tv.score(tv,Y)\n",
    "print(\"R^2 for TV:        \", R2_tv)\n",
    "\n",
    "R2_radio = reg_radio.score(radio,Y)\n",
    "print(\"R^2 for radio:     \", R2_radio)\n",
    "\n",
    "R2_news = reg_news.score(news,Y)\n",
    "print(\"R^2 for newspaper: \", R2_news)"
   ]
  },
  {
   "cell_type": "code",
   "execution_count": 10,
   "metadata": {
    "deletable": false,
    "editable": false,
    "nbgrader": {
     "cell_type": "code",
     "checksum": "ab00ea68c91893ff86e23ca78c996761",
     "grade": true,
     "grade_id": "cell-b9cdf81fe534585a",
     "locked": true,
     "points": 1,
     "schema_version": 3,
     "solution": false,
     "task": false
    }
   },
   "outputs": [],
   "source": [
    "assert np.abs(R2_tv - 0.611875050850071) < 1e-9"
   ]
  },
  {
   "cell_type": "markdown",
   "metadata": {},
   "source": [
    "### Part C: Predicting values"
   ]
  },
  {
   "cell_type": "markdown",
   "metadata": {},
   "source": [
    "Now we want to compute the predicted value of sales if we restrict our prediction to one input, i.e. **TV**, **radio** or **newspaper**, resp.\n",
    "Predict the values $\\hat{y}^{TV}$ $\\hat{y}^{radio}$ and $\\hat{y}^{newspaper}$ using the `LinearRegression`-method `predict()` and store them in variables\n",
    "\n",
    "    y_tv, y_radio, y_news"
   ]
  },
  {
   "cell_type": "code",
   "execution_count": 11,
   "metadata": {
    "deletable": false,
    "nbgrader": {
     "cell_type": "code",
     "checksum": "6fe1e5444a4de153ad0630265e51d1a0",
     "grade": false,
     "grade_id": "cell-9e5459d7aaa2dfc8",
     "locked": false,
     "schema_version": 3,
     "solution": true,
     "task": false
    }
   },
   "outputs": [],
   "source": [
    "y_tv = reg_tv.predict(tv)\n",
    "\n",
    "y_radio = reg_radio.predict(radio)\n",
    "\n",
    "y_news = reg_news.predict(news)"
   ]
  },
  {
   "cell_type": "code",
   "execution_count": 12,
   "metadata": {
    "deletable": false,
    "editable": false,
    "nbgrader": {
     "cell_type": "code",
     "checksum": "a61f2d22b1f0a69c6ab82f77ca5dbf8f",
     "grade": true,
     "grade_id": "cell-71f652a968725ea2",
     "locked": true,
     "points": 1,
     "schema_version": 3,
     "solution": false,
     "task": false
    }
   },
   "outputs": [],
   "source": [
    "assert np.abs(y_tv.mean() -14.0225) < 1e-5\n",
    "assert np.abs(y_tv.std() - 4.071006120646744) < 1e-5"
   ]
  },
  {
   "cell_type": "markdown",
   "metadata": {},
   "source": [
    "### Part D: Plotting\n",
    "Plot the datapoints as well as the corresponding regression line for each of the inputs  **TV**, **radio** or **newspaper**.\n",
    "\n",
    "You can use the functions `subplots` or `fig.add_subplot` to arrange the plots in one figure."
   ]
  },
  {
   "cell_type": "code",
   "execution_count": 13,
   "metadata": {
    "deletable": false,
    "nbgrader": {
     "cell_type": "code",
     "checksum": "30331b1e6bf24bcf82d20fb8e3865fc1",
     "grade": true,
     "grade_id": "cell-f5323561f0d02b4a",
     "locked": false,
     "points": 1,
     "schema_version": 3,
     "solution": true,
     "task": false
    }
   },
   "outputs": [
    {
     "data": {
      "image/png": "[encoded data removed]",
      "text/plain": [
       "<Figure size 1152x648 with 3 Axes>"
      ]
     },
     "metadata": {
      "needs_background": "light"
     },
     "output_type": "display_data"
    }
   ],
   "source": [
    "# We plot our findings using subplots\n",
    "import matplotlib.pyplot as plt\n",
    "plt.rcParams['figure.figsize'] = (16,9)\n",
    "\n",
    "fig = plt.figure()\n",
    "#########  TV  ########\n",
    "fig.add_subplot(1,3,1)\n",
    "tv_range = np.arange(tv.min(), tv.max(), 0.1)\n",
    "plt.plot(tv_range, intercept_tv+tv_range*lincoef_tv)\n",
    "plt.plot(tv,Y, 'or')\n",
    "plt.xlabel('TV budget')\n",
    "plt.ylabel('sales')\n",
    "plt.title('Lin. regr. TV')\n",
    "\n",
    "######### radio #########\n",
    "fig.add_subplot(1,3,2)\n",
    "radio_range = np.arange(radio.min(), radio.max(), 0.1)\n",
    "plt.plot(radio_range, intercept_radio + radio_range*lincoef_radio)\n",
    "plt.plot(radio,Y, 'ob')\n",
    "plt.xlabel('radio budget')\n",
    "plt.ylabel('sales')\n",
    "plt.title('Lin. regr. radio')\n",
    "\n",
    "######### radio #########\n",
    "\n",
    "fig.add_subplot(1,3,3)\n",
    "news_range = np.arange(news.min(), news.max(), 0.1)\n",
    "plt.plot(news_range, intercept_news + news_range*lincoef_news)\n",
    "plt.plot(news,Y, 'sg')\n",
    "plt.xlabel('news budget')\n",
    "plt.ylabel('sales')\n",
    "plt.title('Lin. regr. newspaper');\n"
   ]
  },
  {
   "cell_type": "markdown",
   "metadata": {},
   "source": [
    "### Part E: Statistical functions"
   ]
  },
  {
   "cell_type": "markdown",
   "metadata": {},
   "source": [
    "Take a closer look at the correlation matrix for the `DataFrame` `adv`.\n",
    "You can use the method `corr()` that is implemented for pandas \n",
    "`DataFrames`.\n",
    "Which features are correlated most strongly?"
   ]
  },
  {
   "cell_type": "code",
   "execution_count": 15,
   "metadata": {
    "deletable": false,
    "editable": false,
    "nbgrader": {
     "cell_type": "code",
     "checksum": "d52f531524556769438cc4f17d1630ab",
     "grade": false,
     "grade_id": "cell-4ba6cf2f14622849",
     "locked": true,
     "schema_version": 3,
     "solution": false,
     "task": false
    },
    "scrolled": true
   },
   "outputs": [
    {
     "data": {
      "text/html": [
       "<div>\n",
       "<style scoped>\n",
       "    .dataframe tbody tr th:only-of-type {\n",
       "        vertical-align: middle;\n",
       "    }\n",
       "\n",
       "    .dataframe tbody tr th {\n",
       "        vertical-align: top;\n",
       "    }\n",
       "\n",
       "    .dataframe thead th {\n",
       "        text-align: right;\n",
       "    }\n",
       "</style>\n",
       "<table border=\"1\" class=\"dataframe\">\n",
       "  <thead>\n",
       "    <tr style=\"text-align: right;\">\n",
       "      <th></th>\n",
       "      <th>TV</th>\n",
       "      <th>radio</th>\n",
       "      <th>newspaper</th>\n",
       "      <th>sales</th>\n",
       "    </tr>\n",
       "  </thead>\n",
       "  <tbody>\n",
       "    <tr>\n",
       "      <th>TV</th>\n",
       "      <td>1.000000</td>\n",
       "      <td>0.054809</td>\n",
       "      <td>0.056648</td>\n",
       "      <td>0.782224</td>\n",
       "    </tr>\n",
       "    <tr>\n",
       "      <th>radio</th>\n",
       "      <td>0.054809</td>\n",
       "      <td>1.000000</td>\n",
       "      <td>0.354104</td>\n",
       "      <td>0.576223</td>\n",
       "    </tr>\n",
       "    <tr>\n",
       "      <th>newspaper</th>\n",
       "      <td>0.056648</td>\n",
       "      <td>0.354104</td>\n",
       "      <td>1.000000</td>\n",
       "      <td>0.228299</td>\n",
       "    </tr>\n",
       "    <tr>\n",
       "      <th>sales</th>\n",
       "      <td>0.782224</td>\n",
       "      <td>0.576223</td>\n",
       "      <td>0.228299</td>\n",
       "      <td>1.000000</td>\n",
       "    </tr>\n",
       "  </tbody>\n",
       "</table>\n",
       "</div>"
      ],
      "text/plain": [
       "                 TV     radio  newspaper     sales\n",
       "TV         1.000000  0.054809   0.056648  0.782224\n",
       "radio      0.054809  1.000000   0.354104  0.576223\n",
       "newspaper  0.056648  0.354104   1.000000  0.228299\n",
       "sales      0.782224  0.576223   0.228299  1.000000"
      ]
     },
     "execution_count": 15,
     "metadata": {},
     "output_type": "execute_result"
    }
   ],
   "source": [
    "adv.corr()\n"
   ]
  },
  {
   "cell_type": "code",
   "execution_count": 33,
   "metadata": {},
   "outputs": [
    {
     "data": {
      "text/html": [
       "<style  type=\"text/css\" >\n",
       "#T_60d945f3_1dbf_11eb_86ca_28b2bd93ada9row0_col0,#T_60d945f3_1dbf_11eb_86ca_28b2bd93ada9row1_col1,#T_60d945f3_1dbf_11eb_86ca_28b2bd93ada9row2_col2,#T_60d945f3_1dbf_11eb_86ca_28b2bd93ada9row3_col3{\n",
       "            background-color:  #b40426;\n",
       "            color:  #f1f1f1;\n",
       "        }#T_60d945f3_1dbf_11eb_86ca_28b2bd93ada9row0_col1,#T_60d945f3_1dbf_11eb_86ca_28b2bd93ada9row0_col2,#T_60d945f3_1dbf_11eb_86ca_28b2bd93ada9row1_col0,#T_60d945f3_1dbf_11eb_86ca_28b2bd93ada9row2_col0,#T_60d945f3_1dbf_11eb_86ca_28b2bd93ada9row2_col3{\n",
       "            background-color:  #3b4cc0;\n",
       "            color:  #f1f1f1;\n",
       "        }#T_60d945f3_1dbf_11eb_86ca_28b2bd93ada9row0_col3{\n",
       "            background-color:  #f7a688;\n",
       "            color:  #000000;\n",
       "        }#T_60d945f3_1dbf_11eb_86ca_28b2bd93ada9row1_col2{\n",
       "            background-color:  #a3c2fe;\n",
       "            color:  #000000;\n",
       "        }#T_60d945f3_1dbf_11eb_86ca_28b2bd93ada9row1_col3{\n",
       "            background-color:  #cfdaea;\n",
       "            color:  #000000;\n",
       "        }#T_60d945f3_1dbf_11eb_86ca_28b2bd93ada9row2_col1{\n",
       "            background-color:  #a5c3fe;\n",
       "            color:  #000000;\n",
       "        }#T_60d945f3_1dbf_11eb_86ca_28b2bd93ada9row3_col0{\n",
       "            background-color:  #f29072;\n",
       "            color:  #000000;\n",
       "        }#T_60d945f3_1dbf_11eb_86ca_28b2bd93ada9row3_col1{\n",
       "            background-color:  #ead5c9;\n",
       "            color:  #000000;\n",
       "        }#T_60d945f3_1dbf_11eb_86ca_28b2bd93ada9row3_col2{\n",
       "            background-color:  #7597f6;\n",
       "            color:  #000000;\n",
       "        }</style><table id=\"T_60d945f3_1dbf_11eb_86ca_28b2bd93ada9\" ><thead>    <tr>        <th class=\"blank level0\" ></th>        <th class=\"col_heading level0 col0\" >TV</th>        <th class=\"col_heading level0 col1\" >radio</th>        <th class=\"col_heading level0 col2\" >newspaper</th>        <th class=\"col_heading level0 col3\" >sales</th>    </tr></thead><tbody>\n",
       "                <tr>\n",
       "                        <th id=\"T_60d945f3_1dbf_11eb_86ca_28b2bd93ada9level0_row0\" class=\"row_heading level0 row0\" >TV</th>\n",
       "                        <td id=\"T_60d945f3_1dbf_11eb_86ca_28b2bd93ada9row0_col0\" class=\"data row0 col0\" >1.000000</td>\n",
       "                        <td id=\"T_60d945f3_1dbf_11eb_86ca_28b2bd93ada9row0_col1\" class=\"data row0 col1\" >0.054809</td>\n",
       "                        <td id=\"T_60d945f3_1dbf_11eb_86ca_28b2bd93ada9row0_col2\" class=\"data row0 col2\" >0.056648</td>\n",
       "                        <td id=\"T_60d945f3_1dbf_11eb_86ca_28b2bd93ada9row0_col3\" class=\"data row0 col3\" >0.782224</td>\n",
       "            </tr>\n",
       "            <tr>\n",
       "                        <th id=\"T_60d945f3_1dbf_11eb_86ca_28b2bd93ada9level0_row1\" class=\"row_heading level0 row1\" >radio</th>\n",
       "                        <td id=\"T_60d945f3_1dbf_11eb_86ca_28b2bd93ada9row1_col0\" class=\"data row1 col0\" >0.054809</td>\n",
       "                        <td id=\"T_60d945f3_1dbf_11eb_86ca_28b2bd93ada9row1_col1\" class=\"data row1 col1\" >1.000000</td>\n",
       "                        <td id=\"T_60d945f3_1dbf_11eb_86ca_28b2bd93ada9row1_col2\" class=\"data row1 col2\" >0.354104</td>\n",
       "                        <td id=\"T_60d945f3_1dbf_11eb_86ca_28b2bd93ada9row1_col3\" class=\"data row1 col3\" >0.576223</td>\n",
       "            </tr>\n",
       "            <tr>\n",
       "                        <th id=\"T_60d945f3_1dbf_11eb_86ca_28b2bd93ada9level0_row2\" class=\"row_heading level0 row2\" >newspaper</th>\n",
       "                        <td id=\"T_60d945f3_1dbf_11eb_86ca_28b2bd93ada9row2_col0\" class=\"data row2 col0\" >0.056648</td>\n",
       "                        <td id=\"T_60d945f3_1dbf_11eb_86ca_28b2bd93ada9row2_col1\" class=\"data row2 col1\" >0.354104</td>\n",
       "                        <td id=\"T_60d945f3_1dbf_11eb_86ca_28b2bd93ada9row2_col2\" class=\"data row2 col2\" >1.000000</td>\n",
       "                        <td id=\"T_60d945f3_1dbf_11eb_86ca_28b2bd93ada9row2_col3\" class=\"data row2 col3\" >0.228299</td>\n",
       "            </tr>\n",
       "            <tr>\n",
       "                        <th id=\"T_60d945f3_1dbf_11eb_86ca_28b2bd93ada9level0_row3\" class=\"row_heading level0 row3\" >sales</th>\n",
       "                        <td id=\"T_60d945f3_1dbf_11eb_86ca_28b2bd93ada9row3_col0\" class=\"data row3 col0\" >0.782224</td>\n",
       "                        <td id=\"T_60d945f3_1dbf_11eb_86ca_28b2bd93ada9row3_col1\" class=\"data row3 col1\" >0.576223</td>\n",
       "                        <td id=\"T_60d945f3_1dbf_11eb_86ca_28b2bd93ada9row3_col2\" class=\"data row3 col2\" >0.228299</td>\n",
       "                        <td id=\"T_60d945f3_1dbf_11eb_86ca_28b2bd93ada9row3_col3\" class=\"data row3 col3\" >1.000000</td>\n",
       "            </tr>\n",
       "    </tbody></table>"
      ],
      "text/plain": [
       "<pandas.io.formats.style.Styler at 0x1eba3261730>"
      ]
     },
     "execution_count": 33,
     "metadata": {},
     "output_type": "execute_result"
    }
   ],
   "source": [
    "corr = adv.corr()\n",
    "corr.style.background_gradient(cmap='coolwarm')"
   ]
  },
  {
   "cell_type": "markdown",
   "metadata": {
    "deletable": false,
    "editable": false,
    "nbgrader": {
     "cell_type": "markdown",
     "checksum": "fb0744d989515ed6dca84235f5ddf361",
     "grade": false,
     "grade_id": "cell-aada4e9553f481e3",
     "locked": true,
     "schema_version": 3,
     "solution": false,
     "task": false
    }
   },
   "source": [
    "Name the two features, that are correlated most strongly in the next cell!"
   ]
  },
  {
   "cell_type": "markdown",
   "metadata": {
    "deletable": false,
    "nbgrader": {
     "cell_type": "markdown",
     "checksum": "e8fd522b3d24dca209b8dafbd21e2da4",
     "grade": true,
     "grade_id": "cell-3d9e79b4a9566134",
     "locked": false,
     "points": 1,
     "schema_version": 3,
     "solution": true,
     "task": false
    }
   },
   "source": [
    "`TV` and `sales` are the two features correlated most strongly. Or if one **does not interpret sales** as feature, then `newspaper` and `radio`."
   ]
  },
  {
   "cell_type": "markdown",
   "metadata": {},
   "source": [
    "Investigate the statistical significance of the medium **newspaper** in a linear regression involving only this feature. Use a **t-test** for this purpose as described on slide 16 in the document 03_IntroDS_Regression.pdf of the lecture notes.\n",
    "\n",
    "You should observe the following values:\n",
    "\n",
    "|Coefficient | Estimate | SE | t-statistic | p-value|\n",
    "|:-----------|----------|----|-------------|--------|\n",
    "| $\\beta_0$  | 12.351   | 0.621 | 19.88 | < 0.0001 |\n",
    "| $\\beta_{newspaper}$   | 0.055 | 0.017 | 3.30 | 0.00115\n",
    "\n",
    "\n",
    "You should use `scipy` to get the $t$-distribution using\n",
    "\n",
    "    from scipy.stats import t\n",
    "    \n",
    "The cumulative distribution function at a point `x` for `n` degrees of freedom can than be called by\n",
    "\n",
    "    t.cdf(x, n)"
   ]
  },
  {
   "cell_type": "code",
   "execution_count": 16,
   "metadata": {
    "deletable": false,
    "nbgrader": {
     "cell_type": "code",
     "checksum": "77835196b87fb3e28536cb54c67e297c",
     "grade": true,
     "grade_id": "cell-02461ff24a250328",
     "locked": false,
     "points": 3,
     "schema_version": 3,
     "solution": true,
     "task": false
    }
   },
   "outputs": [
    {
     "name": "stdout",
     "output_type": "stream",
     "text": [
      "Intercept: 12.3514\n",
      "Lin. coef:  0.0547\n",
      "\n",
      "std-error Intercept:  0.6214\n",
      "std-error Lin. coef:  0.0166\n",
      "\n",
      "t-statistic Intercept:  19.88\n",
      "t-statistic Lin. coef:   3.30\n",
      "\n",
      "P-value Intercept: 0.00000\n",
      "P-value Lin. coef: 0.00115\n"
     ]
    }
   ],
   "source": [
    "from scipy.stats import t\n",
    "\n",
    "def SimpleLinearRegression (x, y, print_results=False):\n",
    "    n=len(x)\n",
    "    if(x.shape!=y.shape):\n",
    "        print('Error: The shapes of x and y are not same', x.shape, y.shape)\n",
    "        return \n",
    "    \n",
    "    x_mean=x.mean()\n",
    "    y_mean=y.mean()\n",
    "\n",
    "    SXX=((x-x_mean)**2).sum()\n",
    "    SXY=((x-x_mean)*(y-y_mean)).sum()\n",
    "\n",
    "    beta_1 = SXY/SXX\n",
    "    beta_0=y_mean-beta_1*x_mean\n",
    "\n",
    "    RSS=((y-beta_0-beta_1*x)**2).sum()\n",
    "    RSE= np.sqrt(RSS/(n-2))\n",
    "\n",
    "    SE0=np.sqrt(RSE**2*(1/n+x_mean**2/SXX))\n",
    "    SE1=np.sqrt(RSS/(n-2)/SXX)\n",
    "\n",
    "    tstat_0 = beta_0/SE0\n",
    "    tstat_1 = beta_1/SE1\n",
    "\n",
    "    pval_0 = (1-t.cdf(tstat_0, n-1))*2\n",
    "    pval_1 = (1-t.cdf(tstat_1, n-1))*2\n",
    "    \n",
    "    results={'beta_0':beta_0,'beta_1':beta_1, \n",
    "            'SE0':SE0, 'SE1':SE1, \n",
    "            'tstat_0':tstat_0, 'tstat_1':tstat_1, \n",
    "            'pval_0':pval_0, 'pval_1':pval_1}\n",
    "    if (print_results):\n",
    "        print(\"Intercept: %7.4f\" % beta_0)\n",
    "        print(\"Lin. coef: %7.4f\" % beta_1)\n",
    "        print(\"\")\n",
    "        print(\"std-error Intercept: %7.4f\" %  SE0)\n",
    "        print(\"std-error Lin. coef: %7.4f\" % SE1)\n",
    "        print(\"\")\n",
    "        print(\"t-statistic Intercept: %6.2f\" % tstat_0)\n",
    "        print(\"t-statistic Lin. coef: %6.2f\" % tstat_1)\n",
    "        print(\"\")\n",
    "        print(\"P-value Intercept: %7.5f\" % pval_0)\n",
    "        print(\"P-value Lin. coef: %7.5f\" % pval_1)\n",
    "    return results\n",
    "\n",
    "\n",
    "y=Y.reshape(-1,1)\n",
    "results = SimpleLinearRegression(news,y, print_results=True)"
   ]
  },
  {
   "cell_type": "markdown",
   "metadata": {},
   "source": [
    "### Part F: Linear regression on all prectictors"
   ]
  },
  {
   "cell_type": "markdown",
   "metadata": {},
   "source": [
    "Now construct a linear regression on all three predictor variables, i.e.\n",
    "\n",
    "$$y_i ≈ \\beta_0 + \\beta_{TV} x^{TV}_i + \\beta_{radio} x^{radio}_i + \\beta_{newspaper} x^{newspaper}_i$$\n",
    "\n",
    "Ensure that the intercept and linear regression coefficients are stored in the variables\n",
    "\n",
    "    beta_0, beta_tv, beta_radio and beta_news"
   ]
  },
  {
   "cell_type": "code",
   "execution_count": 17,
   "metadata": {
    "deletable": false,
    "nbgrader": {
     "cell_type": "code",
     "checksum": "ff72f2ca6f70c41a81c2cd4885650d83",
     "grade": false,
     "grade_id": "cell-59ddc25633526b2d",
     "locked": false,
     "schema_version": 3,
     "solution": true,
     "task": false
    }
   },
   "outputs": [
    {
     "name": "stdout",
     "output_type": "stream",
     "text": [
      "y = 2.9389 + 0.0458 x TV + 0.1885 x radio + -0.0010 x newspaper\n"
     ]
    }
   ],
   "source": [
    "from sklearn.linear_model import LinearRegression\n",
    "LR = LinearRegression()\n",
    "\n",
    "reg = LR.fit(X,Y)\n",
    "beta_tv, beta_radio, beta_news = reg.coef_\n",
    "beta_0 = reg.intercept_\n",
    "\n",
    "print('y = %5.4f + %5.4f x TV + %5.4f x radio + %5.4f x newspaper' % (beta_0, beta_tv, beta_radio, beta_news))"
   ]
  },
  {
   "cell_type": "code",
   "execution_count": 18,
   "metadata": {
    "deletable": false,
    "editable": false,
    "nbgrader": {
     "cell_type": "code",
     "checksum": "f14a98d83af5cb0fdb5e0f1d66a3c04a",
     "grade": true,
     "grade_id": "cell-cd23d2ff6972429b",
     "locked": true,
     "points": 1,
     "schema_version": 3,
     "solution": false,
     "task": false
    }
   },
   "outputs": [],
   "source": [
    "assert np.abs(beta_0 - 2.9389) < 1e-4"
   ]
  },
  {
   "cell_type": "markdown",
   "metadata": {},
   "source": [
    "What portion of the variance (between 0 and 1) is explained by this linear regression fit? Store your answer in the variable `explained_var`."
   ]
  },
  {
   "cell_type": "code",
   "execution_count": 19,
   "metadata": {
    "deletable": false,
    "nbgrader": {
     "cell_type": "code",
     "checksum": "d54de71df8d393960cf28d2075e589bd",
     "grade": false,
     "grade_id": "cell-9cb2dad97c8c9bf5",
     "locked": false,
     "schema_version": 3,
     "solution": true,
     "task": false
    }
   },
   "outputs": [],
   "source": [
    "explained_var = reg.score(X,Y)"
   ]
  },
  {
   "cell_type": "code",
   "execution_count": 20,
   "metadata": {
    "deletable": false,
    "editable": false,
    "nbgrader": {
     "cell_type": "code",
     "checksum": "b92bfbccdcc7db52b276587d0d799aa8",
     "grade": true,
     "grade_id": "cell-66b0fe342bdf5b49",
     "locked": true,
     "points": 1,
     "schema_version": 3,
     "solution": false,
     "task": false
    }
   },
   "outputs": [
    {
     "name": "stdout",
     "output_type": "stream",
     "text": [
      "The portion of the variance that can be explained by the full model is about 0.897211\n"
     ]
    }
   ],
   "source": [
    "print('The portion of the variance that can be explained by the full model is about %8.6f' % explained_var)\n"
   ]
  },
  {
   "cell_type": "markdown",
   "metadata": {},
   "source": [
    "Now perform a linear regression that incorporates only the predictors **TV** and **radio**.\n",
    "Compute the $R^2$-value of this linear regression model and compare it to the $R^2$-value of the full multiple linear regression."
   ]
  },
  {
   "cell_type": "code",
   "execution_count": 21,
   "metadata": {
    "deletable": false,
    "nbgrader": {
     "cell_type": "code",
     "checksum": "edd1d18a9dc1f3d8653c5fdc4ab659aa",
     "grade": false,
     "grade_id": "cell-caee2298f250d394",
     "locked": false,
     "schema_version": 3,
     "solution": true,
     "task": false
    }
   },
   "outputs": [],
   "source": [
    "from sklearn.linear_model import LinearRegression\n",
    "LR = LinearRegression()\n",
    "\n",
    "tv_radio=adv[['TV','radio']]\n",
    "reg_tv_radio = LR.fit(tv_radio,Y)\n",
    "R2_tv_radio = reg_tv_radio.score(tv_radio,Y)"
   ]
  },
  {
   "cell_type": "code",
   "execution_count": 22,
   "metadata": {
    "deletable": false,
    "editable": false,
    "nbgrader": {
     "cell_type": "code",
     "checksum": "91d08d7fd84051ca3ae902008c1f59f8",
     "grade": true,
     "grade_id": "cell-664727b9fc60e7e8",
     "locked": true,
     "points": 1,
     "schema_version": 3,
     "solution": false,
     "task": false
    }
   },
   "outputs": [
    {
     "name": "stdout",
     "output_type": "stream",
     "text": [
      "The R^2 score for the model using TV and Radio as predictors is 0.897194\n"
     ]
    }
   ],
   "source": [
    "print('The R^2 score for the model using TV and Radio as predictors is %8.6f' % R2_tv_radio)\n"
   ]
  },
  {
   "cell_type": "markdown",
   "metadata": {},
   "source": [
    "You should observe that the $R^2$-score for the linear regression fit incorporating all three features is only marginally larger than the score using only **TV** and **radio** for the prediction.\n",
    "Thus, it might be sufficient to exclude the **feature** newspaper from our prediction.\n",
    "\n",
    "The procedure we did today is called *feature selection* is should be one of the first steps in every statistical learning problem."
   ]
  },
  {
   "cell_type": "markdown",
   "metadata": {
    "deletable": false,
    "editable": false,
    "nbgrader": {
     "cell_type": "markdown",
     "checksum": "8d5bda1ca8646d2ae49b11784c1029b1",
     "grade": false,
     "grade_id": "cell-694eb0d911bd5ca5",
     "locked": true,
     "schema_version": 3,
     "solution": false,
     "task": false
    }
   },
   "source": [
    "### Part G: Computing the t-statistic for the full model\n",
    "\n",
    "We have already seen, that the **t-test** comes in handy when one has to decide whether a coefficient for a single feature is significant or not.\n",
    "As has been outlined in the lecture, one can also use the t-test in a multiple linear regression fit\n",
    "\n",
    "$$ Y = X \\beta + \\varepsilon $$\n",
    "\n",
    "while the intercept is incorporated into $X$, i.e. a column containing only ones is stacked in front of the original matrix $X$.\n",
    "\n",
    "The formula to compute the test statistic in this generalized setting is\n",
    "\n",
    "$$ t_j = \\frac{\\hat{\\beta}_j}{\\hat{\\sigma} \\sqrt{v_j}} $$\n",
    "\n",
    "while $\\hat \\beta_j$ is the $j$-th entry of the coefficient vector\n",
    "\n",
    "$$ \\hat \\beta = (X^\\top X)^{-1} X^\\top y, $$\n",
    "\n",
    "$\\hat{\\sigma}$ is the unbiased estimate of $\\sigma$, which is determined by\n",
    "\n",
    "$$ \\hat{\\sigma} = \\sqrt{\\frac{1}{n-p-1} \\, \\sum_{i=1}^n (y_i - \\hat{y}_i)^2} $$\n",
    "\n",
    "and $v_j$ is the $j$-th diagonal element of the matrix $(X^\\top X)^{-1}$.\n",
    "\n",
    "Then $t_j$ is distributed according to a $t$-distribution with $n-p-1$ degrees of freedom (dofs). \n",
    "\n",
    "**Task**: Compute the values in the following statistic and try to print it in a similar way. \n",
    "\n",
    "|  Coefficient     | Estimate  | SE    | t-statistic | p-value |\n",
    "|:-----------------|-----------|-------|-------------|---------|\n",
    "| $\\beta_0$        | 2.939     |0.3119 | 9.42        | < 0.0001|\n",
    "| $\\beta_{TV}$     | 0.046     |0.0014 | 32.81       | < 0.0001|\n",
    "| $\\beta_{radio}$  | 0.189     |0.0086 | 21.89       | < 0.0001|\n",
    "| $\\beta_{news}$   | −0.001    |0.0059 | −0.18       | 0.8599  |\n",
    "\n",
    "\n"
   ]
  },
  {
   "cell_type": "code",
   "execution_count": 23,
   "metadata": {
    "deletable": false,
    "nbgrader": {
     "cell_type": "code",
     "checksum": "58c7450ce29d9163c261b6459343e995",
     "grade": true,
     "grade_id": "cell-5de872312430d808",
     "locked": false,
     "points": 3,
     "schema_version": 3,
     "solution": true,
     "task": false
    }
   },
   "outputs": [
    {
     "name": "stdout",
     "output_type": "stream",
     "text": [
      "beta_0:  2.9389\n",
      "std-error_0:  0.3119\n",
      "t-statistic_0:   9.42\n",
      "P-value_0: 0.00000\n",
      "\n",
      "beta_1:  0.0458\n",
      "std-error_1:  0.0014\n",
      "t-statistic_1:  32.81\n",
      "P-value_1: 0.00000\n",
      "\n",
      "beta_2:  0.1885\n",
      "std-error_2:  0.0086\n",
      "t-statistic_2:  21.89\n",
      "P-value_2: 0.00000\n",
      "\n",
      "beta_3: -0.0010\n",
      "std-error_3:  0.0059\n",
      "t-statistic_3:  -0.18\n",
      "P-value_3: 0.85992\n",
      "\n"
     ]
    }
   ],
   "source": [
    "import scipy.linalg as LA\n",
    "\n",
    "\n",
    "def MultipleLinearRegression(X,Y, print_results=False):\n",
    "    \n",
    "    n, p = X.shape\n",
    "    if(n!=len(y)):\n",
    "        print('Error: The shapes of x and y are not mach', n, len(y))\n",
    "        return\n",
    "    df=n-p-1\n",
    "    X1=np.insert(X, 0, 1, axis=1)\n",
    "    \n",
    "    M=LA.inv(X1.T@X1)\n",
    "    v=M.diagonal()\n",
    "    beta=M@X1.T@Y\n",
    "    Y_=X1@beta\n",
    "    \n",
    "    #tstat abd pvalue\n",
    "    SYY = ((Y-Y_)**2).sum()\n",
    "    sigma=np.sqrt(SYY/df)\n",
    "    \n",
    "    SE = sigma*np.sqrt(v)\n",
    "    tstat = beta/SE\n",
    "    pval = 2*(1-t.cdf(abs(tstat), df))\n",
    "    \n",
    "    if (print_results):\n",
    "        for i in range(p+1):\n",
    "            print(f\"beta_{i}: {beta[i]:7.4f}\")\n",
    "            print(f\"std-error_{i}: {SE[i]:7.4f}\")           \n",
    "            print(f\"t-statistic_{i}: {tstat[i]:6.2f}\")\n",
    "            print(f\"P-value_{i}: {pval[i]:7.5f}\\n\")\n",
    "    \n",
    "    results={'beta': beta, 'tstat': tstat, 'pval':pval}\n",
    "    return results\n",
    "\n",
    "results=MultipleLinearRegression(X,Y,True)"
   ]
  }
 ],
 "metadata": {
  "kernelspec": {
   "display_name": "Python 3",
   "language": "python",
   "name": "python3"
  },
  "language_info": {
   "codemirror_mode": {
    "name": "ipython",
    "version": 3
   },
   "file_extension": ".py",
   "mimetype": "text/x-python",
   "name": "python",
   "nbconvert_exporter": "python",
   "pygments_lexer": "ipython3",
   "version": "3.8.3"
  }
 },
 "nbformat": 4,
 "nbformat_minor": 1
}
