{
 "cells": [
  {
   "cell_type": "markdown",
   "metadata": {
    "deletable": false,
    "editable": false,
    "nbgrader": {
     "cell_type": "markdown",
     "checksum": "75998ad0be7bb835fdd23aa33879a397",
     "grade": false,
     "grade_id": "cell-d3f1af4753cf0349",
     "locked": true,
     "schema_version": 3,
     "solution": false,
     "task": false
    }
   },
   "source": [
    "# Introduction to Data Science\n",
    "## Lab 6: Test for importance of a subset of predictors"
   ]
  },
  {
   "cell_type": "markdown",
   "metadata": {
    "deletable": false,
    "editable": false,
    "nbgrader": {
     "cell_type": "markdown",
     "checksum": "5c1912f1ab3cd263923b8a3e7c9bddbd",
     "grade": false,
     "grade_id": "cell-eb893e9a7222f145",
     "locked": true,
     "schema_version": 3,
     "solution": false,
     "task": false
    }
   },
   "source": [
    "In this problem, we want to investigate another data set.\n",
    "The data come from a study of [Stamey et al. (1989)](https://www.sciencedirect.com/science/article/pii/S002253471741175X?via%3Dihub).\n",
    "It consists of some clinical measurements of 97 patients, who where about to receive a prostatectomy.\n",
    "\n",
    "The predictors are:\n",
    "* lcavol - Logarithm of cancer volume\n",
    "* lweight - Logarithm of prostate weight\n",
    "* age - Age of patient\n",
    "* lbph - Logarithm of amount of benign prostatic hyperplasia\n",
    "* svi - Seminal vesicle invasion\n",
    "* lcp - Logarithm of capsular penetration\n",
    "* gleason - Gleason score\n",
    "* pgg45 - Percent of Gleason scores 4 or 5\n",
    "\n",
    "The variable that we want to predict is:\n",
    "* lpsa - Level of prostate-specific antigen\n",
    "\n",
    "There are no missing values."
   ]
  },
  {
   "cell_type": "markdown",
   "metadata": {
    "deletable": false,
    "editable": false,
    "nbgrader": {
     "cell_type": "markdown",
     "checksum": "6b5e48f45d24dcfa618d880891342751",
     "grade": false,
     "grade_id": "cell-505cbe735d8eeabd",
     "locked": true,
     "schema_version": 3,
     "solution": false,
     "task": false
    }
   },
   "source": [
    "The first task is to download and import the `prostate` data set.\n",
    "You can find it [here](https://bildungsportal.sachsen.de/opal/auth/RepositoryEntry/26393509888/CourseNode/102441889726288/ps6).\n",
    "\n",
    "Taking a short look at the data reveals that the data is seperated by tabs.\n",
    "You can use the convenient `pandas` method `read_csv` with the options `sep = \"\\t\"` and `index_col = 0`."
   ]
  },
  {
   "cell_type": "code",
   "execution_count": 1,
   "metadata": {
    "deletable": false,
    "editable": false,
    "nbgrader": {
     "cell_type": "code",
     "checksum": "68f85a36d393578762f6d609ff9ef7cd",
     "grade": false,
     "grade_id": "cell-04d76c8cb3e66529",
     "locked": true,
     "schema_version": 3,
     "solution": false,
     "task": false
    }
   },
   "outputs": [],
   "source": [
    "import pandas as pd\n",
    "\n",
    "# Import prostate cancer dataset\n",
    "pc = pd.read_csv('prostate.data', sep=\"\\t\", index_col=0)"
   ]
  },
  {
   "cell_type": "markdown",
   "metadata": {
    "deletable": false,
    "editable": false,
    "nbgrader": {
     "cell_type": "markdown",
     "checksum": "50bfaecc8bee359c78b77ed2416154b5",
     "grade": false,
     "grade_id": "cell-8b7539177e190d44",
     "locked": true,
     "schema_version": 3,
     "solution": false,
     "task": false
    }
   },
   "source": [
    "The method `head` of a `pd.DataFrame` prints by default the first 5 rows of the `DataFrame`, which is suitable for getting an overview of the data.\n",
    "\n",
    "**Task**: Try it!"
   ]
  },
  {
   "cell_type": "code",
   "execution_count": 2,
   "metadata": {
    "deletable": false,
    "nbgrader": {
     "cell_type": "code",
     "checksum": "399ea4f51277c6192611fb11f8b21149",
     "grade": true,
     "grade_id": "cell-62a814ce0129cf1c",
     "locked": false,
     "points": 1,
     "schema_version": 3,
     "solution": true,
     "task": false
    }
   },
   "outputs": [
    {
     "data": {
      "text/html": [
       "<div>\n",
       "<style scoped>\n",
       "    .dataframe tbody tr th:only-of-type {\n",
       "        vertical-align: middle;\n",
       "    }\n",
       "\n",
       "    .dataframe tbody tr th {\n",
       "        vertical-align: top;\n",
       "    }\n",
       "\n",
       "    .dataframe thead th {\n",
       "        text-align: right;\n",
       "    }\n",
       "</style>\n",
       "<table border=\"1\" class=\"dataframe\">\n",
       "  <thead>\n",
       "    <tr style=\"text-align: right;\">\n",
       "      <th></th>\n",
       "      <th>lcavol</th>\n",
       "      <th>lweight</th>\n",
       "      <th>age</th>\n",
       "      <th>lbph</th>\n",
       "      <th>svi</th>\n",
       "      <th>lcp</th>\n",
       "      <th>gleason</th>\n",
       "      <th>pgg45</th>\n",
       "      <th>lpsa</th>\n",
       "      <th>train</th>\n",
       "    </tr>\n",
       "  </thead>\n",
       "  <tbody>\n",
       "    <tr>\n",
       "      <th>1</th>\n",
       "      <td>-0.579818</td>\n",
       "      <td>2.769459</td>\n",
       "      <td>50</td>\n",
       "      <td>-1.386294</td>\n",
       "      <td>0</td>\n",
       "      <td>-1.386294</td>\n",
       "      <td>6</td>\n",
       "      <td>0</td>\n",
       "      <td>-0.430783</td>\n",
       "      <td>T</td>\n",
       "    </tr>\n",
       "    <tr>\n",
       "      <th>2</th>\n",
       "      <td>-0.994252</td>\n",
       "      <td>3.319626</td>\n",
       "      <td>58</td>\n",
       "      <td>-1.386294</td>\n",
       "      <td>0</td>\n",
       "      <td>-1.386294</td>\n",
       "      <td>6</td>\n",
       "      <td>0</td>\n",
       "      <td>-0.162519</td>\n",
       "      <td>T</td>\n",
       "    </tr>\n",
       "    <tr>\n",
       "      <th>3</th>\n",
       "      <td>-0.510826</td>\n",
       "      <td>2.691243</td>\n",
       "      <td>74</td>\n",
       "      <td>-1.386294</td>\n",
       "      <td>0</td>\n",
       "      <td>-1.386294</td>\n",
       "      <td>7</td>\n",
       "      <td>20</td>\n",
       "      <td>-0.162519</td>\n",
       "      <td>T</td>\n",
       "    </tr>\n",
       "    <tr>\n",
       "      <th>4</th>\n",
       "      <td>-1.203973</td>\n",
       "      <td>3.282789</td>\n",
       "      <td>58</td>\n",
       "      <td>-1.386294</td>\n",
       "      <td>0</td>\n",
       "      <td>-1.386294</td>\n",
       "      <td>6</td>\n",
       "      <td>0</td>\n",
       "      <td>-0.162519</td>\n",
       "      <td>T</td>\n",
       "    </tr>\n",
       "    <tr>\n",
       "      <th>5</th>\n",
       "      <td>0.751416</td>\n",
       "      <td>3.432373</td>\n",
       "      <td>62</td>\n",
       "      <td>-1.386294</td>\n",
       "      <td>0</td>\n",
       "      <td>-1.386294</td>\n",
       "      <td>6</td>\n",
       "      <td>0</td>\n",
       "      <td>0.371564</td>\n",
       "      <td>T</td>\n",
       "    </tr>\n",
       "  </tbody>\n",
       "</table>\n",
       "</div>"
      ],
      "text/plain": [
       "     lcavol   lweight  age      lbph  svi       lcp  gleason  pgg45      lpsa  \\\n",
       "1 -0.579818  2.769459   50 -1.386294    0 -1.386294        6      0 -0.430783   \n",
       "2 -0.994252  3.319626   58 -1.386294    0 -1.386294        6      0 -0.162519   \n",
       "3 -0.510826  2.691243   74 -1.386294    0 -1.386294        7     20 -0.162519   \n",
       "4 -1.203973  3.282789   58 -1.386294    0 -1.386294        6      0 -0.162519   \n",
       "5  0.751416  3.432373   62 -1.386294    0 -1.386294        6      0  0.371564   \n",
       "\n",
       "  train  \n",
       "1     T  \n",
       "2     T  \n",
       "3     T  \n",
       "4     T  \n",
       "5     T  "
      ]
     },
     "execution_count": 2,
     "metadata": {},
     "output_type": "execute_result"
    }
   ],
   "source": [
    "# YOUR CODE HERE\n",
    "pc.head()"
   ]
  },
  {
   "cell_type": "markdown",
   "metadata": {
    "deletable": false,
    "editable": false,
    "nbgrader": {
     "cell_type": "markdown",
     "checksum": "7339c24a2ab8666c9d720db6fdd07bb2",
     "grade": false,
     "grade_id": "cell-dfc617de98a26c2a",
     "locked": true,
     "schema_version": 3,
     "solution": false,
     "task": false
    }
   },
   "source": [
    "As you can see, there is a column named **train**, which is either `\"T\"` (True) or `\"F\"` (False).\n",
    "This means that the data has already been split up into a training and a test set, which we will use in some minutes."
   ]
  },
  {
   "cell_type": "markdown",
   "metadata": {
    "deletable": false,
    "editable": false,
    "nbgrader": {
     "cell_type": "markdown",
     "checksum": "cb244a052aea092f4e34a4fedf1a2ce9",
     "grade": false,
     "grade_id": "cell-1bc39fbcd62ea9c3",
     "locked": true,
     "schema_version": 3,
     "solution": false,
     "task": false
    }
   },
   "source": [
    "**Task**: You should alse take a look at the correlation matrix using the method `corr`.\n",
    "What do you observe, especially concerning the correlation between the features?"
   ]
  },
  {
   "cell_type": "code",
   "execution_count": 3,
   "metadata": {
    "deletable": false,
    "nbgrader": {
     "cell_type": "code",
     "checksum": "6a47c290b31734f9f28ea1099f25d594",
     "grade": true,
     "grade_id": "cell-b48f0eca1685a99e",
     "locked": false,
     "points": 1,
     "schema_version": 3,
     "solution": true,
     "task": false
    }
   },
   "outputs": [
    {
     "data": {
      "text/html": [
       "<style  type=\"text/css\" >\n",
       "#T_46c0d339_34ae_11eb_85f5_54ee752b6fb0row0_col0,#T_46c0d339_34ae_11eb_85f5_54ee752b6fb0row1_col1,#T_46c0d339_34ae_11eb_85f5_54ee752b6fb0row2_col2,#T_46c0d339_34ae_11eb_85f5_54ee752b6fb0row3_col3,#T_46c0d339_34ae_11eb_85f5_54ee752b6fb0row4_col4,#T_46c0d339_34ae_11eb_85f5_54ee752b6fb0row5_col5,#T_46c0d339_34ae_11eb_85f5_54ee752b6fb0row6_col6,#T_46c0d339_34ae_11eb_85f5_54ee752b6fb0row7_col7,#T_46c0d339_34ae_11eb_85f5_54ee752b6fb0row8_col8{\n",
       "            background-color:  #b40426;\n",
       "            color:  #f1f1f1;\n",
       "        }#T_46c0d339_34ae_11eb_85f5_54ee752b6fb0row0_col1{\n",
       "            background-color:  #88abfd;\n",
       "            color:  #000000;\n",
       "        }#T_46c0d339_34ae_11eb_85f5_54ee752b6fb0row0_col2{\n",
       "            background-color:  #6180e9;\n",
       "            color:  #000000;\n",
       "        }#T_46c0d339_34ae_11eb_85f5_54ee752b6fb0row0_col3,#T_46c0d339_34ae_11eb_85f5_54ee752b6fb0row4_col1{\n",
       "            background-color:  #5a78e4;\n",
       "            color:  #000000;\n",
       "        }#T_46c0d339_34ae_11eb_85f5_54ee752b6fb0row0_col4{\n",
       "            background-color:  #eed0c0;\n",
       "            color:  #000000;\n",
       "        }#T_46c0d339_34ae_11eb_85f5_54ee752b6fb0row0_col5{\n",
       "            background-color:  #f7b497;\n",
       "            color:  #000000;\n",
       "        }#T_46c0d339_34ae_11eb_85f5_54ee752b6fb0row0_col6{\n",
       "            background-color:  #bfd3f6;\n",
       "            color:  #000000;\n",
       "        }#T_46c0d339_34ae_11eb_85f5_54ee752b6fb0row0_col7{\n",
       "            background-color:  #bbd1f8;\n",
       "            color:  #000000;\n",
       "        }#T_46c0d339_34ae_11eb_85f5_54ee752b6fb0row0_col8{\n",
       "            background-color:  #f7b396;\n",
       "            color:  #000000;\n",
       "        }#T_46c0d339_34ae_11eb_85f5_54ee752b6fb0row1_col0,#T_46c0d339_34ae_11eb_85f5_54ee752b6fb0row1_col2{\n",
       "            background-color:  #90b2fe;\n",
       "            color:  #000000;\n",
       "        }#T_46c0d339_34ae_11eb_85f5_54ee752b6fb0row1_col3,#T_46c0d339_34ae_11eb_85f5_54ee752b6fb0row5_col6{\n",
       "            background-color:  #d9dce1;\n",
       "            color:  #000000;\n",
       "        }#T_46c0d339_34ae_11eb_85f5_54ee752b6fb0row1_col4{\n",
       "            background-color:  #82a6fb;\n",
       "            color:  #000000;\n",
       "        }#T_46c0d339_34ae_11eb_85f5_54ee752b6fb0row1_col5,#T_46c0d339_34ae_11eb_85f5_54ee752b6fb0row6_col2{\n",
       "            background-color:  #7093f3;\n",
       "            color:  #000000;\n",
       "        }#T_46c0d339_34ae_11eb_85f5_54ee752b6fb0row1_col6,#T_46c0d339_34ae_11eb_85f5_54ee752b6fb0row2_col8,#T_46c0d339_34ae_11eb_85f5_54ee752b6fb0row3_col0,#T_46c0d339_34ae_11eb_85f5_54ee752b6fb0row3_col4,#T_46c0d339_34ae_11eb_85f5_54ee752b6fb0row3_col5,#T_46c0d339_34ae_11eb_85f5_54ee752b6fb0row3_col7,#T_46c0d339_34ae_11eb_85f5_54ee752b6fb0row4_col2,#T_46c0d339_34ae_11eb_85f5_54ee752b6fb0row4_col3,#T_46c0d339_34ae_11eb_85f5_54ee752b6fb0row6_col1{\n",
       "            background-color:  #3b4cc0;\n",
       "            color:  #f1f1f1;\n",
       "        }#T_46c0d339_34ae_11eb_85f5_54ee752b6fb0row1_col7{\n",
       "            background-color:  #445acc;\n",
       "            color:  #f1f1f1;\n",
       "        }#T_46c0d339_34ae_11eb_85f5_54ee752b6fb0row1_col8{\n",
       "            background-color:  #a5c3fe;\n",
       "            color:  #000000;\n",
       "        }#T_46c0d339_34ae_11eb_85f5_54ee752b6fb0row2_col0{\n",
       "            background-color:  #7da0f9;\n",
       "            color:  #000000;\n",
       "        }#T_46c0d339_34ae_11eb_85f5_54ee752b6fb0row2_col1{\n",
       "            background-color:  #a2c1ff;\n",
       "            color:  #000000;\n",
       "        }#T_46c0d339_34ae_11eb_85f5_54ee752b6fb0row2_col3,#T_46c0d339_34ae_11eb_85f5_54ee752b6fb0row8_col1{\n",
       "            background-color:  #c0d4f5;\n",
       "            color:  #000000;\n",
       "        }#T_46c0d339_34ae_11eb_85f5_54ee752b6fb0row2_col4{\n",
       "            background-color:  #7699f6;\n",
       "            color:  #000000;\n",
       "        }#T_46c0d339_34ae_11eb_85f5_54ee752b6fb0row2_col5{\n",
       "            background-color:  #6485ec;\n",
       "            color:  #000000;\n",
       "        }#T_46c0d339_34ae_11eb_85f5_54ee752b6fb0row2_col6{\n",
       "            background-color:  #84a7fc;\n",
       "            color:  #000000;\n",
       "        }#T_46c0d339_34ae_11eb_85f5_54ee752b6fb0row2_col7{\n",
       "            background-color:  #80a3fa;\n",
       "            color:  #000000;\n",
       "        }#T_46c0d339_34ae_11eb_85f5_54ee752b6fb0row3_col1{\n",
       "            background-color:  #c3d5f4;\n",
       "            color:  #000000;\n",
       "        }#T_46c0d339_34ae_11eb_85f5_54ee752b6fb0row3_col2{\n",
       "            background-color:  #92b4fe;\n",
       "            color:  #000000;\n",
       "        }#T_46c0d339_34ae_11eb_85f5_54ee752b6fb0row3_col6{\n",
       "            background-color:  #4055c8;\n",
       "            color:  #f1f1f1;\n",
       "        }#T_46c0d339_34ae_11eb_85f5_54ee752b6fb0row3_col8{\n",
       "            background-color:  #3e51c5;\n",
       "            color:  #f1f1f1;\n",
       "        }#T_46c0d339_34ae_11eb_85f5_54ee752b6fb0row4_col0{\n",
       "            background-color:  #e3d9d3;\n",
       "            color:  #000000;\n",
       "        }#T_46c0d339_34ae_11eb_85f5_54ee752b6fb0row4_col5{\n",
       "            background-color:  #f7b599;\n",
       "            color:  #000000;\n",
       "        }#T_46c0d339_34ae_11eb_85f5_54ee752b6fb0row4_col6{\n",
       "            background-color:  #97b8ff;\n",
       "            color:  #000000;\n",
       "        }#T_46c0d339_34ae_11eb_85f5_54ee752b6fb0row4_col7{\n",
       "            background-color:  #c4d5f3;\n",
       "            color:  #000000;\n",
       "        }#T_46c0d339_34ae_11eb_85f5_54ee752b6fb0row4_col8{\n",
       "            background-color:  #d7dce3;\n",
       "            color:  #000000;\n",
       "        }#T_46c0d339_34ae_11eb_85f5_54ee752b6fb0row5_col0{\n",
       "            background-color:  #f7b89c;\n",
       "            color:  #000000;\n",
       "        }#T_46c0d339_34ae_11eb_85f5_54ee752b6fb0row5_col1{\n",
       "            background-color:  #5e7de7;\n",
       "            color:  #000000;\n",
       "        }#T_46c0d339_34ae_11eb_85f5_54ee752b6fb0row5_col2{\n",
       "            background-color:  #3d50c3;\n",
       "            color:  #f1f1f1;\n",
       "        }#T_46c0d339_34ae_11eb_85f5_54ee752b6fb0row5_col3{\n",
       "            background-color:  #506bda;\n",
       "            color:  #000000;\n",
       "        }#T_46c0d339_34ae_11eb_85f5_54ee752b6fb0row5_col4{\n",
       "            background-color:  #f7ad90;\n",
       "            color:  #000000;\n",
       "        }#T_46c0d339_34ae_11eb_85f5_54ee752b6fb0row5_col7,#T_46c0d339_34ae_11eb_85f5_54ee752b6fb0row8_col4{\n",
       "            background-color:  #f2cbb7;\n",
       "            color:  #000000;\n",
       "        }#T_46c0d339_34ae_11eb_85f5_54ee752b6fb0row5_col8{\n",
       "            background-color:  #d1dae9;\n",
       "            color:  #000000;\n",
       "        }#T_46c0d339_34ae_11eb_85f5_54ee752b6fb0row6_col0,#T_46c0d339_34ae_11eb_85f5_54ee752b6fb0row7_col0{\n",
       "            background-color:  #c5d6f2;\n",
       "            color:  #000000;\n",
       "        }#T_46c0d339_34ae_11eb_85f5_54ee752b6fb0row6_col3,#T_46c0d339_34ae_11eb_85f5_54ee752b6fb0row7_col3{\n",
       "            background-color:  #6a8bef;\n",
       "            color:  #000000;\n",
       "        }#T_46c0d339_34ae_11eb_85f5_54ee752b6fb0row6_col4,#T_46c0d339_34ae_11eb_85f5_54ee752b6fb0row8_col7{\n",
       "            background-color:  #b7cff9;\n",
       "            color:  #000000;\n",
       "        }#T_46c0d339_34ae_11eb_85f5_54ee752b6fb0row6_col5{\n",
       "            background-color:  #e1dad6;\n",
       "            color:  #000000;\n",
       "        }#T_46c0d339_34ae_11eb_85f5_54ee752b6fb0row6_col7{\n",
       "            background-color:  #f5a081;\n",
       "            color:  #000000;\n",
       "        }#T_46c0d339_34ae_11eb_85f5_54ee752b6fb0row6_col8{\n",
       "            background-color:  #89acfd;\n",
       "            color:  #000000;\n",
       "        }#T_46c0d339_34ae_11eb_85f5_54ee752b6fb0row7_col1{\n",
       "            background-color:  #4a63d3;\n",
       "            color:  #f1f1f1;\n",
       "        }#T_46c0d339_34ae_11eb_85f5_54ee752b6fb0row7_col2{\n",
       "            background-color:  #7396f5;\n",
       "            color:  #000000;\n",
       "        }#T_46c0d339_34ae_11eb_85f5_54ee752b6fb0row7_col4{\n",
       "            background-color:  #dddcdc;\n",
       "            color:  #000000;\n",
       "        }#T_46c0d339_34ae_11eb_85f5_54ee752b6fb0row7_col5{\n",
       "            background-color:  #f5c1a9;\n",
       "            color:  #000000;\n",
       "        }#T_46c0d339_34ae_11eb_85f5_54ee752b6fb0row7_col6{\n",
       "            background-color:  #f59f80;\n",
       "            color:  #000000;\n",
       "        }#T_46c0d339_34ae_11eb_85f5_54ee752b6fb0row7_col8{\n",
       "            background-color:  #9fbfff;\n",
       "            color:  #000000;\n",
       "        }#T_46c0d339_34ae_11eb_85f5_54ee752b6fb0row8_col0{\n",
       "            background-color:  #f6a283;\n",
       "            color:  #000000;\n",
       "        }#T_46c0d339_34ae_11eb_85f5_54ee752b6fb0row8_col2{\n",
       "            background-color:  #4c66d6;\n",
       "            color:  #000000;\n",
       "        }#T_46c0d339_34ae_11eb_85f5_54ee752b6fb0row8_col3{\n",
       "            background-color:  #8badfd;\n",
       "            color:  #000000;\n",
       "        }#T_46c0d339_34ae_11eb_85f5_54ee752b6fb0row8_col5{\n",
       "            background-color:  #ead5c9;\n",
       "            color:  #000000;\n",
       "        }#T_46c0d339_34ae_11eb_85f5_54ee752b6fb0row8_col6{\n",
       "            background-color:  #a9c6fd;\n",
       "            color:  #000000;\n",
       "        }</style><table id=\"T_46c0d339_34ae_11eb_85f5_54ee752b6fb0\" ><thead>    <tr>        <th class=\"blank level0\" ></th>        <th class=\"col_heading level0 col0\" >lcavol</th>        <th class=\"col_heading level0 col1\" >lweight</th>        <th class=\"col_heading level0 col2\" >age</th>        <th class=\"col_heading level0 col3\" >lbph</th>        <th class=\"col_heading level0 col4\" >svi</th>        <th class=\"col_heading level0 col5\" >lcp</th>        <th class=\"col_heading level0 col6\" >gleason</th>        <th class=\"col_heading level0 col7\" >pgg45</th>        <th class=\"col_heading level0 col8\" >lpsa</th>    </tr></thead><tbody>\n",
       "                <tr>\n",
       "                        <th id=\"T_46c0d339_34ae_11eb_85f5_54ee752b6fb0level0_row0\" class=\"row_heading level0 row0\" >lcavol</th>\n",
       "                        <td id=\"T_46c0d339_34ae_11eb_85f5_54ee752b6fb0row0_col0\" class=\"data row0 col0\" >1.000000</td>\n",
       "                        <td id=\"T_46c0d339_34ae_11eb_85f5_54ee752b6fb0row0_col1\" class=\"data row0 col1\" >0.280521</td>\n",
       "                        <td id=\"T_46c0d339_34ae_11eb_85f5_54ee752b6fb0row0_col2\" class=\"data row0 col2\" >0.225000</td>\n",
       "                        <td id=\"T_46c0d339_34ae_11eb_85f5_54ee752b6fb0row0_col3\" class=\"data row0 col3\" >0.027350</td>\n",
       "                        <td id=\"T_46c0d339_34ae_11eb_85f5_54ee752b6fb0row0_col4\" class=\"data row0 col4\" >0.538845</td>\n",
       "                        <td id=\"T_46c0d339_34ae_11eb_85f5_54ee752b6fb0row0_col5\" class=\"data row0 col5\" >0.675310</td>\n",
       "                        <td id=\"T_46c0d339_34ae_11eb_85f5_54ee752b6fb0row0_col6\" class=\"data row0 col6\" >0.432417</td>\n",
       "                        <td id=\"T_46c0d339_34ae_11eb_85f5_54ee752b6fb0row0_col7\" class=\"data row0 col7\" >0.433652</td>\n",
       "                        <td id=\"T_46c0d339_34ae_11eb_85f5_54ee752b6fb0row0_col8\" class=\"data row0 col8\" >0.734460</td>\n",
       "            </tr>\n",
       "            <tr>\n",
       "                        <th id=\"T_46c0d339_34ae_11eb_85f5_54ee752b6fb0level0_row1\" class=\"row_heading level0 row1\" >lweight</th>\n",
       "                        <td id=\"T_46c0d339_34ae_11eb_85f5_54ee752b6fb0row1_col0\" class=\"data row1 col0\" >0.280521</td>\n",
       "                        <td id=\"T_46c0d339_34ae_11eb_85f5_54ee752b6fb0row1_col1\" class=\"data row1 col1\" >1.000000</td>\n",
       "                        <td id=\"T_46c0d339_34ae_11eb_85f5_54ee752b6fb0row1_col2\" class=\"data row1 col2\" >0.347969</td>\n",
       "                        <td id=\"T_46c0d339_34ae_11eb_85f5_54ee752b6fb0row1_col3\" class=\"data row1 col3\" >0.442264</td>\n",
       "                        <td id=\"T_46c0d339_34ae_11eb_85f5_54ee752b6fb0row1_col4\" class=\"data row1 col4\" >0.155385</td>\n",
       "                        <td id=\"T_46c0d339_34ae_11eb_85f5_54ee752b6fb0row1_col5\" class=\"data row1 col5\" >0.164537</td>\n",
       "                        <td id=\"T_46c0d339_34ae_11eb_85f5_54ee752b6fb0row1_col6\" class=\"data row1 col6\" >0.056882</td>\n",
       "                        <td id=\"T_46c0d339_34ae_11eb_85f5_54ee752b6fb0row1_col7\" class=\"data row1 col7\" >0.107354</td>\n",
       "                        <td id=\"T_46c0d339_34ae_11eb_85f5_54ee752b6fb0row1_col8\" class=\"data row1 col8\" >0.433319</td>\n",
       "            </tr>\n",
       "            <tr>\n",
       "                        <th id=\"T_46c0d339_34ae_11eb_85f5_54ee752b6fb0level0_row2\" class=\"row_heading level0 row2\" >age</th>\n",
       "                        <td id=\"T_46c0d339_34ae_11eb_85f5_54ee752b6fb0row2_col0\" class=\"data row2 col0\" >0.225000</td>\n",
       "                        <td id=\"T_46c0d339_34ae_11eb_85f5_54ee752b6fb0row2_col1\" class=\"data row2 col1\" >0.347969</td>\n",
       "                        <td id=\"T_46c0d339_34ae_11eb_85f5_54ee752b6fb0row2_col2\" class=\"data row2 col2\" >1.000000</td>\n",
       "                        <td id=\"T_46c0d339_34ae_11eb_85f5_54ee752b6fb0row2_col3\" class=\"data row2 col3\" >0.350186</td>\n",
       "                        <td id=\"T_46c0d339_34ae_11eb_85f5_54ee752b6fb0row2_col4\" class=\"data row2 col4\" >0.117658</td>\n",
       "                        <td id=\"T_46c0d339_34ae_11eb_85f5_54ee752b6fb0row2_col5\" class=\"data row2 col5\" >0.127668</td>\n",
       "                        <td id=\"T_46c0d339_34ae_11eb_85f5_54ee752b6fb0row2_col6\" class=\"data row2 col6\" >0.268892</td>\n",
       "                        <td id=\"T_46c0d339_34ae_11eb_85f5_54ee752b6fb0row2_col7\" class=\"data row2 col7\" >0.276112</td>\n",
       "                        <td id=\"T_46c0d339_34ae_11eb_85f5_54ee752b6fb0row2_col8\" class=\"data row2 col8\" >0.169593</td>\n",
       "            </tr>\n",
       "            <tr>\n",
       "                        <th id=\"T_46c0d339_34ae_11eb_85f5_54ee752b6fb0level0_row3\" class=\"row_heading level0 row3\" >lbph</th>\n",
       "                        <td id=\"T_46c0d339_34ae_11eb_85f5_54ee752b6fb0row3_col0\" class=\"data row3 col0\" >0.027350</td>\n",
       "                        <td id=\"T_46c0d339_34ae_11eb_85f5_54ee752b6fb0row3_col1\" class=\"data row3 col1\" >0.442264</td>\n",
       "                        <td id=\"T_46c0d339_34ae_11eb_85f5_54ee752b6fb0row3_col2\" class=\"data row3 col2\" >0.350186</td>\n",
       "                        <td id=\"T_46c0d339_34ae_11eb_85f5_54ee752b6fb0row3_col3\" class=\"data row3 col3\" >1.000000</td>\n",
       "                        <td id=\"T_46c0d339_34ae_11eb_85f5_54ee752b6fb0row3_col4\" class=\"data row3 col4\" >-0.085843</td>\n",
       "                        <td id=\"T_46c0d339_34ae_11eb_85f5_54ee752b6fb0row3_col5\" class=\"data row3 col5\" >-0.006999</td>\n",
       "                        <td id=\"T_46c0d339_34ae_11eb_85f5_54ee752b6fb0row3_col6\" class=\"data row3 col6\" >0.077820</td>\n",
       "                        <td id=\"T_46c0d339_34ae_11eb_85f5_54ee752b6fb0row3_col7\" class=\"data row3 col7\" >0.078460</td>\n",
       "                        <td id=\"T_46c0d339_34ae_11eb_85f5_54ee752b6fb0row3_col8\" class=\"data row3 col8\" >0.179809</td>\n",
       "            </tr>\n",
       "            <tr>\n",
       "                        <th id=\"T_46c0d339_34ae_11eb_85f5_54ee752b6fb0level0_row4\" class=\"row_heading level0 row4\" >svi</th>\n",
       "                        <td id=\"T_46c0d339_34ae_11eb_85f5_54ee752b6fb0row4_col0\" class=\"data row4 col0\" >0.538845</td>\n",
       "                        <td id=\"T_46c0d339_34ae_11eb_85f5_54ee752b6fb0row4_col1\" class=\"data row4 col1\" >0.155385</td>\n",
       "                        <td id=\"T_46c0d339_34ae_11eb_85f5_54ee752b6fb0row4_col2\" class=\"data row4 col2\" >0.117658</td>\n",
       "                        <td id=\"T_46c0d339_34ae_11eb_85f5_54ee752b6fb0row4_col3\" class=\"data row4 col3\" >-0.085843</td>\n",
       "                        <td id=\"T_46c0d339_34ae_11eb_85f5_54ee752b6fb0row4_col4\" class=\"data row4 col4\" >1.000000</td>\n",
       "                        <td id=\"T_46c0d339_34ae_11eb_85f5_54ee752b6fb0row4_col5\" class=\"data row4 col5\" >0.673111</td>\n",
       "                        <td id=\"T_46c0d339_34ae_11eb_85f5_54ee752b6fb0row4_col6\" class=\"data row4 col6\" >0.320412</td>\n",
       "                        <td id=\"T_46c0d339_34ae_11eb_85f5_54ee752b6fb0row4_col7\" class=\"data row4 col7\" >0.457648</td>\n",
       "                        <td id=\"T_46c0d339_34ae_11eb_85f5_54ee752b6fb0row4_col8\" class=\"data row4 col8\" >0.566218</td>\n",
       "            </tr>\n",
       "            <tr>\n",
       "                        <th id=\"T_46c0d339_34ae_11eb_85f5_54ee752b6fb0level0_row5\" class=\"row_heading level0 row5\" >lcp</th>\n",
       "                        <td id=\"T_46c0d339_34ae_11eb_85f5_54ee752b6fb0row5_col0\" class=\"data row5 col0\" >0.675310</td>\n",
       "                        <td id=\"T_46c0d339_34ae_11eb_85f5_54ee752b6fb0row5_col1\" class=\"data row5 col1\" >0.164537</td>\n",
       "                        <td id=\"T_46c0d339_34ae_11eb_85f5_54ee752b6fb0row5_col2\" class=\"data row5 col2\" >0.127668</td>\n",
       "                        <td id=\"T_46c0d339_34ae_11eb_85f5_54ee752b6fb0row5_col3\" class=\"data row5 col3\" >-0.006999</td>\n",
       "                        <td id=\"T_46c0d339_34ae_11eb_85f5_54ee752b6fb0row5_col4\" class=\"data row5 col4\" >0.673111</td>\n",
       "                        <td id=\"T_46c0d339_34ae_11eb_85f5_54ee752b6fb0row5_col5\" class=\"data row5 col5\" >1.000000</td>\n",
       "                        <td id=\"T_46c0d339_34ae_11eb_85f5_54ee752b6fb0row5_col6\" class=\"data row5 col6\" >0.514830</td>\n",
       "                        <td id=\"T_46c0d339_34ae_11eb_85f5_54ee752b6fb0row5_col7\" class=\"data row5 col7\" >0.631528</td>\n",
       "                        <td id=\"T_46c0d339_34ae_11eb_85f5_54ee752b6fb0row5_col8\" class=\"data row5 col8\" >0.548813</td>\n",
       "            </tr>\n",
       "            <tr>\n",
       "                        <th id=\"T_46c0d339_34ae_11eb_85f5_54ee752b6fb0level0_row6\" class=\"row_heading level0 row6\" >gleason</th>\n",
       "                        <td id=\"T_46c0d339_34ae_11eb_85f5_54ee752b6fb0row6_col0\" class=\"data row6 col0\" >0.432417</td>\n",
       "                        <td id=\"T_46c0d339_34ae_11eb_85f5_54ee752b6fb0row6_col1\" class=\"data row6 col1\" >0.056882</td>\n",
       "                        <td id=\"T_46c0d339_34ae_11eb_85f5_54ee752b6fb0row6_col2\" class=\"data row6 col2\" >0.268892</td>\n",
       "                        <td id=\"T_46c0d339_34ae_11eb_85f5_54ee752b6fb0row6_col3\" class=\"data row6 col3\" >0.077820</td>\n",
       "                        <td id=\"T_46c0d339_34ae_11eb_85f5_54ee752b6fb0row6_col4\" class=\"data row6 col4\" >0.320412</td>\n",
       "                        <td id=\"T_46c0d339_34ae_11eb_85f5_54ee752b6fb0row6_col5\" class=\"data row6 col5\" >0.514830</td>\n",
       "                        <td id=\"T_46c0d339_34ae_11eb_85f5_54ee752b6fb0row6_col6\" class=\"data row6 col6\" >1.000000</td>\n",
       "                        <td id=\"T_46c0d339_34ae_11eb_85f5_54ee752b6fb0row6_col7\" class=\"data row6 col7\" >0.751905</td>\n",
       "                        <td id=\"T_46c0d339_34ae_11eb_85f5_54ee752b6fb0row6_col8\" class=\"data row6 col8\" >0.368987</td>\n",
       "            </tr>\n",
       "            <tr>\n",
       "                        <th id=\"T_46c0d339_34ae_11eb_85f5_54ee752b6fb0level0_row7\" class=\"row_heading level0 row7\" >pgg45</th>\n",
       "                        <td id=\"T_46c0d339_34ae_11eb_85f5_54ee752b6fb0row7_col0\" class=\"data row7 col0\" >0.433652</td>\n",
       "                        <td id=\"T_46c0d339_34ae_11eb_85f5_54ee752b6fb0row7_col1\" class=\"data row7 col1\" >0.107354</td>\n",
       "                        <td id=\"T_46c0d339_34ae_11eb_85f5_54ee752b6fb0row7_col2\" class=\"data row7 col2\" >0.276112</td>\n",
       "                        <td id=\"T_46c0d339_34ae_11eb_85f5_54ee752b6fb0row7_col3\" class=\"data row7 col3\" >0.078460</td>\n",
       "                        <td id=\"T_46c0d339_34ae_11eb_85f5_54ee752b6fb0row7_col4\" class=\"data row7 col4\" >0.457648</td>\n",
       "                        <td id=\"T_46c0d339_34ae_11eb_85f5_54ee752b6fb0row7_col5\" class=\"data row7 col5\" >0.631528</td>\n",
       "                        <td id=\"T_46c0d339_34ae_11eb_85f5_54ee752b6fb0row7_col6\" class=\"data row7 col6\" >0.751905</td>\n",
       "                        <td id=\"T_46c0d339_34ae_11eb_85f5_54ee752b6fb0row7_col7\" class=\"data row7 col7\" >1.000000</td>\n",
       "                        <td id=\"T_46c0d339_34ae_11eb_85f5_54ee752b6fb0row7_col8\" class=\"data row7 col8\" >0.422316</td>\n",
       "            </tr>\n",
       "            <tr>\n",
       "                        <th id=\"T_46c0d339_34ae_11eb_85f5_54ee752b6fb0level0_row8\" class=\"row_heading level0 row8\" >lpsa</th>\n",
       "                        <td id=\"T_46c0d339_34ae_11eb_85f5_54ee752b6fb0row8_col0\" class=\"data row8 col0\" >0.734460</td>\n",
       "                        <td id=\"T_46c0d339_34ae_11eb_85f5_54ee752b6fb0row8_col1\" class=\"data row8 col1\" >0.433319</td>\n",
       "                        <td id=\"T_46c0d339_34ae_11eb_85f5_54ee752b6fb0row8_col2\" class=\"data row8 col2\" >0.169593</td>\n",
       "                        <td id=\"T_46c0d339_34ae_11eb_85f5_54ee752b6fb0row8_col3\" class=\"data row8 col3\" >0.179809</td>\n",
       "                        <td id=\"T_46c0d339_34ae_11eb_85f5_54ee752b6fb0row8_col4\" class=\"data row8 col4\" >0.566218</td>\n",
       "                        <td id=\"T_46c0d339_34ae_11eb_85f5_54ee752b6fb0row8_col5\" class=\"data row8 col5\" >0.548813</td>\n",
       "                        <td id=\"T_46c0d339_34ae_11eb_85f5_54ee752b6fb0row8_col6\" class=\"data row8 col6\" >0.368987</td>\n",
       "                        <td id=\"T_46c0d339_34ae_11eb_85f5_54ee752b6fb0row8_col7\" class=\"data row8 col7\" >0.422316</td>\n",
       "                        <td id=\"T_46c0d339_34ae_11eb_85f5_54ee752b6fb0row8_col8\" class=\"data row8 col8\" >1.000000</td>\n",
       "            </tr>\n",
       "    </tbody></table>"
      ],
      "text/plain": [
       "<pandas.io.formats.style.Styler at 0x23bbcf20070>"
      ]
     },
     "execution_count": 3,
     "metadata": {},
     "output_type": "execute_result"
    }
   ],
   "source": [
    "# YOUR CODE HERE\n",
    "corr = pc.corr()\n",
    "corr.style.background_gradient(cmap='coolwarm')"
   ]
  },
  {
   "cell_type": "markdown",
   "metadata": {
    "deletable": false,
    "editable": false,
    "nbgrader": {
     "cell_type": "markdown",
     "checksum": "643823d9654bbe82794c6a3d1b9c6949",
     "grade": false,
     "grade_id": "cell-10742305a16beda7",
     "locked": true,
     "schema_version": 3,
     "solution": false,
     "task": false
    }
   },
   "source": [
    "You should observe that there are many predictor variables that have a high correlation.\n",
    "High correlation is always an *indicator* of multiple features having similar effects on the independent variable."
   ]
  },
  {
   "cell_type": "markdown",
   "metadata": {
    "deletable": false,
    "editable": false,
    "nbgrader": {
     "cell_type": "markdown",
     "checksum": "a8567efa4d9b9a52f7ba216ad94852de",
     "grade": false,
     "grade_id": "cell-8a405ebfdf734fd5",
     "locked": true,
     "schema_version": 3,
     "solution": false,
     "task": false
    }
   },
   "source": [
    "From now on, we concentrate on the numerical values of the data set:\n",
    "- extract the predictors of the dataset as a `numpy.array` $X$ using the method `values` of a `pd.DataFrame`\n",
    "- extract the column **lspa** as a `numpy.array` $y$"
   ]
  },
  {
   "cell_type": "code",
   "execution_count": 4,
   "metadata": {
    "deletable": false,
    "nbgrader": {
     "cell_type": "code",
     "checksum": "ea6e3a26b10426febb61144dc79bb4b2",
     "grade": false,
     "grade_id": "cell-75db3b8e79b3c7b3",
     "locked": false,
     "schema_version": 3,
     "solution": true,
     "task": false
    }
   },
   "outputs": [],
   "source": [
    "# YOUR CODE HERE\n",
    "import numpy as np\n",
    "\n",
    "\n",
    "predictor = pc.keys()[:-2] #OR predictor = [\"lcavol\",\"lweight\",\"age\",\"lbph\",\"svi\",\"lcp\",\"gleason\",\"pgg45\"]\n",
    "\n",
    "\n",
    "#First Solution\n",
    "X=np.array(pc[predictor])\n",
    "y=np.array(pc[\"lpsa\"])\n",
    "\n",
    "# OR by iloc\n",
    "# X=pc.iloc[:,0:8].values\n",
    "# y=pc.iloc[:,8].values\n",
    "\n",
    "# wrong solution\n",
    "# X1=pc.values[:,:-2]\n",
    "# y1=pc.values[:,-2]\n",
    "# I used X1 and y1 but it makes error in multipleTTest function. They have difference types.\n",
    "# type(X[0,0])==type(X1[0,0])"
   ]
  },
  {
   "cell_type": "code",
   "execution_count": 5,
   "metadata": {
    "deletable": false,
    "editable": false,
    "nbgrader": {
     "cell_type": "code",
     "checksum": "33e19bdd634a0e0a3ae65dff1a62dbac",
     "grade": true,
     "grade_id": "cell-7c379d1604861a94",
     "locked": true,
     "points": 1,
     "schema_version": 3,
     "solution": false,
     "task": false
    }
   },
   "outputs": [],
   "source": [
    "import numpy as np\n",
    "\n",
    "assert np.abs(X.mean() - 12.514554639313143) < 1e-10\n",
    "assert np.abs(y.mean() - 2.4783868783505154) < 1e-10\n",
    "assert X.shape == (97,8)\n",
    "assert y.shape == (97,)"
   ]
  },
  {
   "cell_type": "markdown",
   "metadata": {
    "deletable": false,
    "editable": false,
    "nbgrader": {
     "cell_type": "markdown",
     "checksum": "9f519005cdfbdefaa8818a7376652183",
     "grade": false,
     "grade_id": "cell-da34f8777fc4dada",
     "locked": true,
     "schema_version": 3,
     "solution": false,
     "task": false
    }
   },
   "source": [
    "Before we further analyze our data, we want to normalize the predictor variables.\n",
    "This technique is often necessary when comparing different kinds of inputs.\n",
    "\n",
    "Here, we want to normalize the **predictor variables** such that the *normalized predictor variables* have mean $0$ and variance $1$.\n",
    "\n",
    "**Caution**: There are a lot of functions that sound like they're doing the right thing, but there are a lot more ways to normalize a data set, e.g. $l^2$-normalization etc."
   ]
  },
  {
   "cell_type": "markdown",
   "metadata": {
    "deletable": false,
    "editable": false,
    "nbgrader": {
     "cell_type": "markdown",
     "checksum": "2e94075ae423dfd7a368ad8c1f50d8ca",
     "grade": false,
     "grade_id": "cell-59f260869b31429f",
     "locked": true,
     "schema_version": 3,
     "solution": false,
     "task": false
    }
   },
   "source": [
    "**Task**: Normalize the predictor variables, you can use the function `scale` from `scikit-learn`:\n",
    "\n",
    "        from sklearn.preprocessing import scale\n",
    "\n",
    "You should name the normalized variable `Xnorm`, otherwise the following code might not work."
   ]
  },
  {
   "cell_type": "code",
   "execution_count": 6,
   "metadata": {
    "deletable": false,
    "nbgrader": {
     "cell_type": "code",
     "checksum": "dca6eec6fd56c56ec108664baab8582d",
     "grade": false,
     "grade_id": "cell-06c9aa04d05180bc",
     "locked": false,
     "schema_version": 3,
     "solution": true,
     "task": false
    }
   },
   "outputs": [],
   "source": [
    "# YOUR CODE HERE\n",
    "from sklearn.preprocessing import scale\n",
    "Xnorm = scale(X)"
   ]
  },
  {
   "cell_type": "code",
   "execution_count": 7,
   "metadata": {
    "deletable": false,
    "editable": false,
    "nbgrader": {
     "cell_type": "code",
     "checksum": "26cfe881454e6f0ed3a8cdfeb401c909",
     "grade": true,
     "grade_id": "cell-f05591af5072d7d6",
     "locked": true,
     "points": 1,
     "schema_version": 3,
     "solution": false,
     "task": false
    }
   },
   "outputs": [],
   "source": [
    "assert max(abs(Xnorm.mean(axis=0))) < 1e-10\n",
    "assert max(abs(Xnorm.var(axis=0)-1)) < 1e-10"
   ]
  },
  {
   "cell_type": "markdown",
   "metadata": {
    "deletable": false,
    "editable": false,
    "nbgrader": {
     "cell_type": "markdown",
     "checksum": "33a6c46a515a4e5dc5c02d93e0fbe494",
     "grade": false,
     "grade_id": "cell-be8c7d7eef70202a",
     "locked": true,
     "schema_version": 3,
     "solution": false,
     "task": false
    }
   },
   "source": [
    "The next step is to devide the data set into a training and a test data set.\n",
    "We can extract the column **train** by\n",
    "\n",
    "    train = (pc[\"train\"]==\"T\")\n",
    "    \n",
    "which is simply a `pandas Series` object containing the values `True` and `False`.\n",
    "The nice thing about this object is that we can use this *filter* to get our training data by\n",
    "\n",
    "    Xtrain = Xnorm[train,:]\n",
    "    \n",
    "The same indexing can be applied to $y$.\n",
    "\n",
    "**Task**: Extract the training samples and save the new variables under `Xtrain` and `ytrain`."
   ]
  },
  {
   "cell_type": "code",
   "execution_count": 8,
   "metadata": {
    "deletable": false,
    "nbgrader": {
     "cell_type": "code",
     "checksum": "500edd9201a8addff12b22c2efe4190d",
     "grade": false,
     "grade_id": "cell-4d64145820558ddc",
     "locked": false,
     "schema_version": 3,
     "solution": true,
     "task": false
    }
   },
   "outputs": [],
   "source": [
    "# YOUR CODE HERE\n",
    "train = pc[\"train\"]==\"T\"\n",
    "Xtrain = Xnorm[train,:]\n",
    "ytrain = y[train]"
   ]
  },
  {
   "cell_type": "code",
   "execution_count": 9,
   "metadata": {
    "deletable": false,
    "editable": false,
    "nbgrader": {
     "cell_type": "code",
     "checksum": "c8b919e5d4785116266979d12e5b991a",
     "grade": true,
     "grade_id": "cell-93a67a49cfd901ea",
     "locked": true,
     "points": 1,
     "schema_version": 3,
     "solution": false,
     "task": false
    }
   },
   "outputs": [],
   "source": [
    "assert abs(Xtrain[-1,-1] - 1.9822513682855871) < 1e-10\n",
    "assert abs(Xtrain.mean() - 0.011451538411465602) < 1e-10\n",
    "assert Xtrain.shape == (67,8)\n",
    "\n",
    "assert abs(ytrain[50] - 3.3928290999999997) < 1e-10\n",
    "assert abs(ytrain.mean() - 2.4523450850746267) < 1e-10\n",
    "assert ytrain.shape == (67,)"
   ]
  },
  {
   "cell_type": "markdown",
   "metadata": {
    "deletable": false,
    "editable": false,
    "nbgrader": {
     "cell_type": "markdown",
     "checksum": "4f8791bfb871fd5fc49d8d3228964e8e",
     "grade": false,
     "grade_id": "cell-ed8ef2a6c514abb7",
     "locked": true,
     "schema_version": 3,
     "solution": false,
     "task": false
    }
   },
   "source": [
    "Now, we want to fit a linear regression model on our **training set** using all of the predictor variables.\n",
    "In the last tutorials, we have employed `numpy`s methods `polyfit` and `polyval`.\n",
    "Here, you should use the following class:\n",
    "\n",
    "    from sklearn.linear_model import LinearRegression\n",
    "    \n",
    "Have a look at its documentation and fit the model.\n",
    "Store the trained intercept in the variable `intercept` as well as the regression coefficients (as a list) in the variable `coeffs`."
   ]
  },
  {
   "cell_type": "code",
   "execution_count": 10,
   "metadata": {
    "deletable": false,
    "nbgrader": {
     "cell_type": "code",
     "checksum": "02af79b9ee93d317e51a12411e4aab3a",
     "grade": false,
     "grade_id": "cell-6d868b7aa18e75f6",
     "locked": false,
     "schema_version": 3,
     "solution": true,
     "task": false
    }
   },
   "outputs": [],
   "source": [
    "# YOUR CODE HERE\n",
    "from sklearn.linear_model import LinearRegression\n",
    "LR = LinearRegression()\n",
    "\n",
    "reg = LR.fit(Xtrain,ytrain)\n",
    "intercept = reg.intercept_\n",
    "coeffs = reg.coef_"
   ]
  },
  {
   "cell_type": "code",
   "execution_count": 11,
   "metadata": {
    "deletable": false,
    "editable": false,
    "nbgrader": {
     "cell_type": "code",
     "checksum": "7aa54103ef923124a3ad464c5f77e557",
     "grade": true,
     "grade_id": "cell-2b4ce902b975c47a",
     "locked": true,
     "points": 2,
     "schema_version": 3,
     "solution": false,
     "task": false
    }
   },
   "outputs": [],
   "source": [
    "assert abs(intercept - 2.464932922123745) < 1e-10\n",
    "assert abs(np.mean(coeffs) - 0.15837992642962145) < 1e-10"
   ]
  },
  {
   "cell_type": "markdown",
   "metadata": {
    "deletable": false,
    "editable": false,
    "nbgrader": {
     "cell_type": "markdown",
     "checksum": "10cfb5f1f71b7978772b6ed0f44ff8f5",
     "grade": false,
     "grade_id": "cell-2c0bb12f770fc1b6",
     "locked": true,
     "schema_version": 3,
     "solution": false,
     "task": false
    }
   },
   "source": [
    "In OPAL, you find the file `multipleTTest.py`.\n",
    "After downloading the file, you can import it using\n",
    "    \n",
    "    from multipleTTest import multipleTTest\n",
    "\n",
    "This function enhances the capability of our previous method `computeTStatistic` slightly:\n",
    "* You may now also provide a `labels` object that contains the names of the predictor variables and modifies only the output table. You can get the labels of a `pandas DataFrame` by\n",
    "    \n",
    "        labels = pc.keys()\n",
    "     \n",
    "* Additionally, the function `multipleTTest` returns the residual sum of squares of the linear regression fit. \n",
    "* You may set the optional input variable `includeIntercept` to `True`. This appends the intercept in the estimate, and you have not to put a column containing only ones by yourself.\n",
    "\n",
    "**Task**: Execute the function for this data set. Store the RSS value as `RSS1`. Store also the number of variables in this model as `p1` (count the intercept as one variable!).\n",
    "How many variables are not significant at a threshold of 5 %?\n",
    "Store your answer in the variable 'notSign1'."
   ]
  },
  {
   "cell_type": "code",
   "execution_count": 12,
   "metadata": {
    "deletable": false,
    "nbgrader": {
     "cell_type": "code",
     "checksum": "283714980220f6ecbfdbb8f86342a1c7",
     "grade": false,
     "grade_id": "cell-6ada2c15c960c6b6",
     "locked": false,
     "schema_version": 3,
     "solution": true,
     "task": false
    }
   },
   "outputs": [
    {
     "name": "stdout",
     "output_type": "stream",
     "text": [
      "|  Coefficient | Estimate |    SE    | t-statistic |  p-value  |\n",
      "---------------------------------------------------------------\n",
      "|  Intercept   |   2.465  |  0.0893  |    27.60    | < 0.0001  |\n",
      "|     lcavol   |   0.676  |  0.1260  |     5.37    | < 0.0001  |\n",
      "|    lweight   |   0.262  |  0.0951  |     2.75    |   0.0079  |\n",
      "|        age   |  -0.141  |  0.1008  |    -1.40    |   0.1681  |\n",
      "|       lbph   |   0.209  |  0.1017  |     2.06    |   0.0443  |\n",
      "|        svi   |   0.304  |  0.1230  |     2.47    |   0.0165  |\n",
      "|        lcp   |  -0.287  |  0.1537  |    -1.87    |   0.0670  |\n",
      "|    gleason   |  -0.021  |  0.1445  |    -0.15    |   0.8839  |\n",
      "|      pgg45   |   0.266  |  0.1528  |     1.74    |   0.0875  |\n",
      "RSS = 29.426384459908395\n",
      "For ['age', 'lcp', 'gleason', 'pgg45'] the p-value > 0.05, so they are not significate\n"
     ]
    }
   ],
   "source": [
    "# YOUR CODE HERE\n",
    "from multipleTTest import multipleTTest\n",
    "\n",
    "p1=len(predictor)+1\n",
    "\n",
    "RSS1=multipleTTest(Xtrain ,ytrain , True, predictor)\n",
    "\n",
    "\n",
    "notSign = ['age', 'lcp', 'gleason', 'pgg45']\n",
    "notSign1=len(notSign)\n",
    "\n",
    "print (f'RSS = {RSS1}')\n",
    "print (f\"For {notSign} the p-value > 0.05, so they are not significate\")"
   ]
  },
  {
   "cell_type": "code",
   "execution_count": 13,
   "metadata": {
    "deletable": false,
    "editable": false,
    "nbgrader": {
     "cell_type": "code",
     "checksum": "ce963c775e9e45065fb5ae446827c702",
     "grade": true,
     "grade_id": "cell-c13af06a1faa4ac4",
     "locked": true,
     "points": 2,
     "schema_version": 3,
     "solution": false,
     "task": false
    }
   },
   "outputs": [],
   "source": [
    "assert p1 == 9\n",
    "assert abs(RSS1 - 29.4263844599084) < 1e-10\n",
    "assert 'notSign1' in locals()\n"
   ]
  },
  {
   "cell_type": "markdown",
   "metadata": {
    "deletable": false,
    "editable": false,
    "nbgrader": {
     "cell_type": "markdown",
     "checksum": "2ac4e1de10e8f600d625ae30e907f0aa",
     "grade": false,
     "grade_id": "cell-aff68d0577de7ebb",
     "locked": true,
     "schema_version": 3,
     "solution": false,
     "task": false
    }
   },
   "source": [
    "We want to compare the fit containing all predictor variables against a model containing only those variables that are significant at the $5~\\%$ level. The variables that we exclude should be `age`, `lcp`, `gleason` and `pgg45`.\n",
    "\n",
    "**Task**: Use the function `multipleTTest` to perform a test using only the significant variables.\n",
    "Store the residual sum of squares as `RSS0` and the number of variables as `p0`."
   ]
  },
  {
   "cell_type": "code",
   "execution_count": 14,
   "metadata": {
    "deletable": false,
    "nbgrader": {
     "cell_type": "code",
     "checksum": "8d9acb885394e069026e63a8b46b4314",
     "grade": false,
     "grade_id": "cell-f51321bcd10789a7",
     "locked": false,
     "schema_version": 3,
     "solution": true,
     "task": false
    }
   },
   "outputs": [
    {
     "name": "stdout",
     "output_type": "stream",
     "text": [
      "|  Coefficient | Estimate |    SE    | t-statistic |  p-value  |\n",
      "---------------------------------------------------------------\n",
      "|  Intercept   |   2.471  |  0.0890  |    27.77    | < 0.0001  |\n",
      "|     lcavol   |   0.593  |  0.1085  |     5.46    | < 0.0001  |\n",
      "|    lweight   |   0.230  |  0.0941  |     2.44    |   0.0175  |\n",
      "|        svi   |   0.277  |  0.1125  |     2.46    |   0.0167  |\n",
      "|       lbph   |   0.202  |  0.1016  |     1.99    |   0.0512  |\n"
     ]
    }
   ],
   "source": [
    "# YOUR CODE HERE\n",
    "from multipleTTest import multipleTTest\n",
    "\n",
    "sing = list(set(predictor)-set(notSign))\n",
    "\n",
    "X0 = pc[sing]\n",
    "X0norm = scale(X0)\n",
    "X0train = X0norm[train,:]\n",
    "p0=len(sing)+1\n",
    "\n",
    "RSS0=multipleTTest(X0train ,ytrain , True, sing)"
   ]
  },
  {
   "cell_type": "code",
   "execution_count": 15,
   "metadata": {
    "deletable": false,
    "editable": false,
    "nbgrader": {
     "cell_type": "code",
     "checksum": "9d8015f4fdb31f55ec5edb3ebf73c3e9",
     "grade": true,
     "grade_id": "cell-946379ec2bc62a02",
     "locked": true,
     "points": 2,
     "schema_version": 3,
     "solution": false,
     "task": false
    }
   },
   "outputs": [],
   "source": [
    "assert p0 == 5\n"
   ]
  },
  {
   "cell_type": "markdown",
   "metadata": {
    "deletable": false,
    "editable": false,
    "nbgrader": {
     "cell_type": "markdown",
     "checksum": "c7ea4a9dbdf248714d3c4fb664497a36",
     "grade": false,
     "grade_id": "cell-5d331a02b212f7b5",
     "locked": true,
     "schema_version": 3,
     "solution": false,
     "task": false
    }
   },
   "source": [
    "According to the lecture, 03_IntroDS_Regression.pdf slide 34, we may now test the reduced model against the full model using an appropriate $F$-statistic.\n",
    "Thus, we test the null hypothesis is:\n",
    "\n",
    "$$ \\textbf{H}_0: \\beta_{\\text{age}} = \\beta_{\\text{lcp}} = \\beta_{\\text{gleason}} = \\beta_{\\text{pgg45}} = 0$$\n",
    "\n",
    "against\n",
    "\n",
    "$$ \\textbf{H}_1: \\text{at least one of the variables } \\beta_{\\text{age}}, \\beta_{\\text{lcp}}, \\beta_{\\text{gleason}}, \\beta_{\\text{pgg45}} \\text{ is not zero } $$\n",
    "\n",
    "We can do this by computing the $F$-stastitic:\n",
    "\n",
    "$$ F = \\frac{(RSS_0 - RSS_1) / (p_1 - p_0)}{RSS_1 / (n - p_1)} $$\n",
    "\n",
    "while $n$ is the number of training samples.\n",
    "\n",
    "According to our assumptions, $F$ will have an $F$-distribution with $(p_1-p_0, n-p_1)$ degrees of freedom.\n",
    "\n",
    "**Task**: Compute the value of the test statistic and store it in a variable `F`."
   ]
  },
  {
   "cell_type": "code",
   "execution_count": 16,
   "metadata": {
    "deletable": false,
    "nbgrader": {
     "cell_type": "code",
     "checksum": "c0acaf09ea47e825dba6d7349e5dc8bc",
     "grade": false,
     "grade_id": "cell-348ff63a3e9ae6d1",
     "locked": false,
     "schema_version": 3,
     "solution": true,
     "task": false
    }
   },
   "outputs": [
    {
     "data": {
      "text/plain": [
       "1.669754884637527"
      ]
     },
     "execution_count": 16,
     "metadata": {},
     "output_type": "execute_result"
    }
   ],
   "source": [
    "# YOUR CODE HERE\n",
    "df1=p1-p0\n",
    "df2=len(ytrain)-p1\n",
    "F=((RSS0-RSS1)/df1)/(RSS1/df2)\n",
    "F"
   ]
  },
  {
   "cell_type": "code",
   "execution_count": 17,
   "metadata": {
    "deletable": false,
    "editable": false,
    "nbgrader": {
     "cell_type": "code",
     "checksum": "03078066568547262cfeaa5b93a84d29",
     "grade": true,
     "grade_id": "cell-94f2551615bec23c",
     "locked": true,
     "points": 1,
     "schema_version": 3,
     "solution": false,
     "task": false
    }
   },
   "outputs": [],
   "source": [
    "assert 'F' in locals()\n"
   ]
  },
  {
   "cell_type": "markdown",
   "metadata": {
    "deletable": false,
    "editable": false,
    "nbgrader": {
     "cell_type": "markdown",
     "checksum": "8dc1f74160759f11e8867d48ca3ababf",
     "grade": false,
     "grade_id": "cell-75a2e3c93b1433f5",
     "locked": true,
     "schema_version": 3,
     "solution": false,
     "task": false
    }
   },
   "source": [
    "To compute the $p$-value, we may import the $F$-distribution by\n",
    "\n",
    "    from scipy.stats import f\n",
    "    \n",
    "**Task**: Determine the corresponding $p$-value and store the value in a variable `pval`.\n",
    "Assuming a level of significance of 5%, can we safely reject the null hypothesis? Store either `True` or `False` in the variable `reject_null`."
   ]
  },
  {
   "cell_type": "code",
   "execution_count": 18,
   "metadata": {
    "deletable": false,
    "nbgrader": {
     "cell_type": "code",
     "checksum": "ca1428cbf972504cc8b69f5f3eda1535",
     "grade": false,
     "grade_id": "cell-b4943a831c958b55",
     "locked": false,
     "schema_version": 3,
     "solution": true,
     "task": false
    }
   },
   "outputs": [
    {
     "name": "stdout",
     "output_type": "stream",
     "text": [
      "pval=0.16933707265225018 and reject null = False\n"
     ]
    }
   ],
   "source": [
    "# YOUR CODE HERE\n",
    "from scipy.stats import f\n",
    "pval = 1-f.cdf(F,df1,df2)\n",
    "reject_null = (pval<0.05)\n",
    "\n",
    "print(f'pval={pval} and reject null = {reject_null}')"
   ]
  },
  {
   "cell_type": "code",
   "execution_count": 19,
   "metadata": {
    "deletable": false,
    "editable": false,
    "nbgrader": {
     "cell_type": "code",
     "checksum": "eef1b6db097b10eaaf668b3dc8fd2e74",
     "grade": true,
     "grade_id": "cell-bf8f4276b433f952",
     "locked": true,
     "points": 2,
     "schema_version": 3,
     "solution": false,
     "task": false
    }
   },
   "outputs": [],
   "source": [
    "assert 'pval' in locals()\n",
    "assert 'reject_null' in locals()\n"
   ]
  }
 ],
 "metadata": {
  "kernelspec": {
   "display_name": "Python 3",
   "language": "python",
   "name": "python3"
  },
  "language_info": {
   "codemirror_mode": {
    "name": "ipython",
    "version": 3
   },
   "file_extension": ".py",
   "mimetype": "text/x-python",
   "name": "python",
   "nbconvert_exporter": "python",
   "pygments_lexer": "ipython3",
   "version": "3.8.3"
  }
 },
 "nbformat": 4,
 "nbformat_minor": 2
}
