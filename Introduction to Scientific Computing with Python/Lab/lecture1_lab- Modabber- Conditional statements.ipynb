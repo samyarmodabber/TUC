{
 "cells": [
  {
   "cell_type": "markdown",
   "metadata": {},
   "source": [
    "# Conditional statements\n",
    "\n",
    "Conditional statements allow to branch in dependence of a boolean condition.\n",
    "\n",
    "In python this can be done with if-then-else constructs like in this first examples\n"
   ]
  },
  {
   "cell_type": "code",
   "execution_count": 346,
   "metadata": {},
   "outputs": [
    {
     "name": "stdout",
     "output_type": "stream",
     "text": [
      "k is 3\n"
     ]
    }
   ],
   "source": [
    "# smallest example without else-branch\n",
    "k=3\n",
    "if (k==3):\n",
    "    print(\"k is 3\")\n"
   ]
  },
  {
   "cell_type": "code",
   "execution_count": 347,
   "metadata": {},
   "outputs": [
    {
     "name": "stdout",
     "output_type": "stream",
     "text": [
      "k is not 3\n"
     ]
    }
   ],
   "source": [
    "# here with else-branch\n",
    "k=5\n",
    "if (k==3):\n",
    "    print(\"k is 3\")\n",
    "else:\n",
    "    print(\"k is not 3\")\n"
   ]
  },
  {
   "cell_type": "markdown",
   "metadata": {},
   "source": [
    "Please denote the : after the if/else and the indentiation, which is crucial. "
   ]
  },
  {
   "cell_type": "markdown",
   "metadata": {},
   "source": [
    "## Task 1: simple tests\n",
    "Write a function which takes 2 integer arguments **a** and **b** and prints out \n",
    " * **a<b**, **a=b**, **a>b** depending on the values of a and b"
   ]
  },
  {
   "cell_type": "code",
   "execution_count": 348,
   "metadata": {},
   "outputs": [],
   "source": [
    "def simple1(a,b):\n",
    "    if a>b:\n",
    "        print('%d > %d' % (a,b))\n",
    "    elif a<b:\n",
    "        print('%d < %d' % (a,b))\n",
    "    else:\n",
    "        print('%d = %d' % (a,b))"
   ]
  },
  {
   "cell_type": "code",
   "execution_count": 349,
   "metadata": {},
   "outputs": [
    {
     "name": "stdout",
     "output_type": "stream",
     "text": [
      "1 < 3\n",
      "3 > 1\n",
      "5 = 5\n"
     ]
    }
   ],
   "source": [
    "simple1(1,3)\n",
    "simple1(3,1)\n",
    "simple1(5,5)"
   ]
  },
  {
   "cell_type": "markdown",
   "metadata": {},
   "source": [
    "# Task 2: a switch like statement\n",
    "Write a fuction which takes 1 integer argument **d** in range 0..7 and then \n",
    "prints out the name of the weekday for\n",
    " * d=0 -> \"Monday\" \n",
    " * ...\n",
    " * d=7 -> \"Sunday\"\n",
    " \n",
    "Write it **readable**.\n",
    "What happens if d is not in correct range? What can you do then?"
   ]
  },
  {
   "cell_type": "code",
   "execution_count": 350,
   "metadata": {},
   "outputs": [],
   "source": [
    "#Solution with list\n",
    "def weekday(d):\n",
    "    days=['Monday', 'Tuesday', 'Wednesday', 'Thursday', 'Friday', 'Saturday','Sunday']\n",
    "    if (d in range(7)):\n",
    "        print(days[d])\n",
    "    else:\n",
    "        print('you must put number between 0 to 6')"
   ]
  },
  {
   "cell_type": "code",
   "execution_count": 351,
   "metadata": {},
   "outputs": [
    {
     "name": "stdout",
     "output_type": "stream",
     "text": [
      "Monday\n",
      "Thursday\n",
      "you must put number between 0 to 6\n",
      "you must put number between 0 to 6\n",
      "you must put number between 0 to 6\n"
     ]
    }
   ],
   "source": [
    "weekday(0)\n",
    "weekday(3)\n",
    "weekday(7)\n",
    "weekday(9)\n",
    "weekday(\"gaga\")"
   ]
  },
  {
   "cell_type": "code",
   "execution_count": 352,
   "metadata": {},
   "outputs": [],
   "source": [
    "#Solution with class\n",
    "def weekday2(d):\n",
    "    days={ 0:'Monday', 1:'Tuesday', 2:'Wednesday', 3:'Thursday',4:'Friday',5:'Saturday',6:'Sunday'}\n",
    "    print (days.get(d,'you must put number between 0 to 6'))"
   ]
  },
  {
   "cell_type": "code",
   "execution_count": 353,
   "metadata": {},
   "outputs": [
    {
     "name": "stdout",
     "output_type": "stream",
     "text": [
      "Monday\n",
      "Thursday\n",
      "you must put number between 0 to 6\n",
      "you must put number between 0 to 6\n",
      "you must put number between 0 to 6\n"
     ]
    }
   ],
   "source": [
    "weekday2(0)\n",
    "weekday2(3)\n",
    "weekday2(7)\n",
    "weekday2(9)\n",
    "weekday2(\"gaga\")"
   ]
  },
  {
   "cell_type": "markdown",
   "metadata": {},
   "source": [
    "# The for loop\n",
    "\n",
    "If you want to do something for lets say 10 times you can use the for loop like"
   ]
  },
  {
   "cell_type": "code",
   "execution_count": 354,
   "metadata": {},
   "outputs": [
    {
     "name": "stdout",
     "output_type": "stream",
     "text": [
      "Hello World 0 of 10\n",
      "Hello World 1 of 10\n",
      "Hello World 2 of 10\n",
      "Hello World 3 of 10\n",
      "Hello World 4 of 10\n",
      "Hello World 5 of 10\n",
      "Hello World 6 of 10\n",
      "Hello World 7 of 10\n",
      "Hello World 8 of 10\n",
      "Hello World 9 of 10\n"
     ]
    }
   ],
   "source": [
    "n=10\n",
    "for i in range(n):\n",
    "    print(\"Hello World %d of %d\" % (i,n))"
   ]
  },
  {
   "cell_type": "markdown",
   "metadata": {},
   "source": [
    "# The while loop \n",
    "\n",
    "When you did not know how many times you like to do the while-loop is a good choice, for example"
   ]
  },
  {
   "cell_type": "code",
   "execution_count": 355,
   "metadata": {},
   "outputs": [
    {
     "name": "stdout",
     "output_type": "stream",
     "text": [
      "x= 0.000000\n",
      "x= 0.200000\n",
      "x= 0.400000\n",
      "x= 0.600000\n",
      "x= 0.800000\n"
     ]
    }
   ],
   "source": [
    "h=0.2\n",
    "x=0\n",
    "while (x<1):\n",
    "    print(\"x= %f\" % (x))\n",
    "    x=x+h"
   ]
  },
  {
   "cell_type": "markdown",
   "metadata": {},
   "source": [
    "# Task 3: \n",
    "Write a function which takes a string argument **s** like **Hello python** and then it prints out \n",
    " * in the first  line: **H**\n",
    " * in the second line: **He**\n",
    " *  ...\n",
    " * in the last line: **Hello python**   \n",
    "every line one character more.\n",
    "\n",
    "Implement this at first with a for loop and then with a while loop\n",
    "        "
   ]
  },
  {
   "cell_type": "code",
   "execution_count": 356,
   "metadata": {},
   "outputs": [],
   "source": [
    "def sillywriter_for(s):\n",
    "    s=str(s)\n",
    "    for i in range(len(s)+1):\n",
    "        print(s[:i])"
   ]
  },
  {
   "cell_type": "code",
   "execution_count": 357,
   "metadata": {},
   "outputs": [
    {
     "name": "stdout",
     "output_type": "stream",
     "text": [
      "\n",
      "H\n",
      "He\n",
      "Hel\n",
      "Hell\n",
      "Hello\n",
      "Hello \n",
      "Hello W\n",
      "Hello Wo\n",
      "Hello Wor\n",
      "Hello Worl\n",
      "Hello World\n",
      "\n",
      "A\n",
      "\n",
      "\n",
      "1\n",
      "12\n",
      "123\n"
     ]
    }
   ],
   "source": [
    "sillywriter_for(\"Hello World\")\n",
    "sillywriter_for(\"A\")\n",
    "sillywriter_for(\"\")\n",
    "sillywriter_for(123)\n",
    "\n"
   ]
  },
  {
   "cell_type": "code",
   "execution_count": 358,
   "metadata": {},
   "outputs": [],
   "source": [
    "def sillywriter_while(s):\n",
    "    s=str(s)\n",
    "    i=0\n",
    "    while i<len(s)+1:\n",
    "        print(s[:i])\n",
    "        i+=1"
   ]
  },
  {
   "cell_type": "code",
   "execution_count": 359,
   "metadata": {},
   "outputs": [
    {
     "name": "stdout",
     "output_type": "stream",
     "text": [
      "\n",
      "H\n",
      "He\n",
      "Hel\n",
      "Hell\n",
      "Hello\n",
      "Hello \n",
      "Hello W\n",
      "Hello Wo\n",
      "Hello Wor\n",
      "Hello Worl\n",
      "Hello World\n",
      "\n",
      "A\n",
      "\n",
      "\n",
      "1\n",
      "12\n",
      "123\n"
     ]
    }
   ],
   "source": [
    "sillywriter_while(\"Hello World\")\n",
    "sillywriter_while(\"A\")\n",
    "sillywriter_while(\"\")\n",
    "sillywriter_while(123)"
   ]
  },
  {
   "cell_type": "code",
   "execution_count": null,
   "metadata": {},
   "outputs": [],
   "source": []
  },
  {
   "cell_type": "markdown",
   "metadata": {},
   "source": [
    "# Breaking loops\n",
    "\n",
    "Sometimes it comes up that we can leave a loop or continue with the next iteration. Therefore you have \n",
    " * **break** to leave the loop immediatly\n",
    " * **continue** to go on with the next iteration\n",
    " \n",
    "As examples see: \n",
    " "
   ]
  },
  {
   "cell_type": "code",
   "execution_count": 360,
   "metadata": {},
   "outputs": [
    {
     "name": "stdout",
     "output_type": "stream",
     "text": [
      "i=0\n",
      "i=1\n",
      "i=2\n",
      "i=3\n",
      "i=4\n",
      "loop is done\n"
     ]
    }
   ],
   "source": [
    "n=20\n",
    "for i in range(n):\n",
    "    print(\"i=%d\" % (i))\n",
    "    if (i>3):\n",
    "        break  \n",
    "print(\"loop is done\")    \n",
    "    "
   ]
  },
  {
   "cell_type": "code",
   "execution_count": 361,
   "metadata": {},
   "outputs": [
    {
     "name": "stdout",
     "output_type": "stream",
     "text": [
      "i=0\n",
      "more code after\n",
      "i=1\n",
      "more code after\n",
      "i=2\n",
      "more code after\n",
      "i=3\n",
      "more code after\n",
      "i=4\n",
      "i=5\n",
      "i=6\n",
      "i=7\n",
      "i=8\n",
      "i=9\n",
      "loop is done\n"
     ]
    }
   ],
   "source": [
    "n=10\n",
    "for i in range(n):\n",
    "    print(\"i=%d\" % (i))\n",
    "    if (i>3):\n",
    "        continue\n",
    "    print(\"more code after\")    \n",
    "    \n",
    "    \n",
    "print(\"loop is done\")    \n",
    " "
   ]
  },
  {
   "cell_type": "markdown",
   "metadata": {},
   "source": [
    "# Task 4 \n",
    "Write a function which takes a string argument **s** which returns the first occurence of the letter g.\n",
    "So it should return\n",
    "* 6 for s=\"abcdefghijkl\"\n",
    "* 0 for s=\"gaga\"\n",
    "* something useful for s=\"abc\" --> think about it.\n",
    "\n",
    "\n",
    "Make no useless loops if you got it.\n"
   ]
  },
  {
   "cell_type": "code",
   "execution_count": 362,
   "metadata": {},
   "outputs": [],
   "source": [
    "def find_g(s):\n",
    "    s=str(s)\n",
    "    if ('g'in s):\n",
    "        for i in range(len(s)):\n",
    "            if 'g'==s[i]:\n",
    "                return i #return has the Break role in itself\n",
    "    else:\n",
    "        return 'The input does not have g.' "
   ]
  },
  {
   "cell_type": "code",
   "execution_count": 363,
   "metadata": {},
   "outputs": [
    {
     "name": "stdout",
     "output_type": "stream",
     "text": [
      "6\n",
      "0\n",
      "The input does not have g.\n",
      "The input does not have g.\n",
      "3\n"
     ]
    }
   ],
   "source": [
    "print ( find_g(\"abcdefghijkl\") )\n",
    "print ( find_g(\"gaga\") )\n",
    "print ( find_g(\"abc\") )\n",
    "print ( find_g(42) )\n",
    "print(find_g('drcg'))"
   ]
  },
  {
   "cell_type": "markdown",
   "metadata": {},
   "source": [
    "# Task 5 - The fizbaz-test\n",
    "In the so called fizbaz-test you have to print out the numbers i=1,2, ... n, **but**\n",
    "* if i is a multiple of 3 write out **fiz** instead of i\n",
    "* if i is a multiple of 5 write out **baz** instead of i\n",
    "* if i is a multiple of 3 and 5 write out **fizbaz** instead of i\n",
    "\n",
    "In the first variant fizbaz1(n) you can do this in 1 column, but in the second variant fizbaz2(n)\n",
    "do this in 3 colums, like \n",
    "~~~~\n",
    "  1       baz   fiz\n",
    "  2       fiz   baz\n",
    "  fiz     7      11\n",
    "  4       8     \n",
    "~~~~\n"
   ]
  },
  {
   "cell_type": "code",
   "execution_count": 364,
   "metadata": {},
   "outputs": [],
   "source": [
    "def fizbaz1(n):\n",
    "    a=[None]*n\n",
    "    for i in range(1,n+1):\n",
    "        if not(i%3 or i%5):\n",
    "            a[i-1]='fizbaz'\n",
    "        elif not i%3:\n",
    "            a[i-1]='fiz'\n",
    "        elif not i%5:\n",
    "            a[i-1]='baz'\n",
    "        else:\n",
    "            a[i-1]=str(i)\n",
    "    return a\n"
   ]
  },
  {
   "cell_type": "code",
   "execution_count": 365,
   "metadata": {},
   "outputs": [
    {
     "data": {
      "text/plain": [
       "['1',\n",
       " '2',\n",
       " 'fiz',\n",
       " '4',\n",
       " 'baz',\n",
       " 'fiz',\n",
       " '7',\n",
       " '8',\n",
       " 'fiz',\n",
       " 'baz',\n",
       " '11',\n",
       " 'fiz',\n",
       " '13',\n",
       " '14',\n",
       " 'fizbaz']"
      ]
     },
     "execution_count": 365,
     "metadata": {},
     "output_type": "execute_result"
    }
   ],
   "source": [
    "fizbaz1(15)"
   ]
  },
  {
   "cell_type": "code",
   "execution_count": 366,
   "metadata": {},
   "outputs": [],
   "source": [
    "def fizbaz2(n):\n",
    "    a=fizbaz1(n)\n",
    "    b=[]\n",
    "    for j in range(int(n/4)+1):\n",
    "        c=[]\n",
    "        for i in range(4):\n",
    "            if 4*j+i<n: c.append(a[4*j+i])\n",
    "        b.append(c)    \n",
    "    return b\n",
    "    #I did it without numpy, array and reshape."
   ]
  },
  {
   "cell_type": "code",
   "execution_count": 367,
   "metadata": {},
   "outputs": [
    {
     "data": {
      "text/plain": [
       "[['1', '2', 'fiz', '4'],\n",
       " ['baz', 'fiz', '7', '8'],\n",
       " ['fiz', 'baz', '11', 'fiz'],\n",
       " ['13', '14', 'fizbaz', '16'],\n",
       " ['17', 'fiz', '19', 'baz'],\n",
       " ['fiz', '22', '23', 'fiz'],\n",
       " ['baz', '26', 'fiz', '28'],\n",
       " ['29', 'fizbaz', '31', '32'],\n",
       " ['fiz', '34', 'baz', 'fiz'],\n",
       " ['37', '38', 'fiz', 'baz'],\n",
       " ['41', 'fiz', '43', '44'],\n",
       " ['fizbaz', '46', '47']]"
      ]
     },
     "execution_count": 367,
     "metadata": {},
     "output_type": "execute_result"
    }
   ],
   "source": [
    "c=fizbaz2(47)\n",
    "c"
   ]
  },
  {
   "cell_type": "markdown",
   "metadata": {},
   "source": [
    "# Understanding and completing the codes"
   ]
  },
  {
   "cell_type": "code",
   "execution_count": 368,
   "metadata": {},
   "outputs": [],
   "source": [
    "an_int = 2\n",
    "a_float = 11.5\n",
    "\n",
    "def print_numbers(an_int, a_float):\n",
    "    print(an_int, ',', a_float)"
   ]
  },
  {
   "cell_type": "markdown",
   "metadata": {},
   "source": [
    "What will this code produce? `print_numbers(5, 12.2)` produce?"
   ]
  },
  {
   "cell_type": "markdown",
   "metadata": {},
   "source": [
    "- A) 5 , 11.5\n",
    "- B) 2, 12.2 \n",
    "- C) 2 , 11.5 \n",
    "- D) 5 , 12.2\n",
    "- E) None"
   ]
  },
  {
   "cell_type": "markdown",
   "metadata": {},
   "source": [
    "Try this on your own."
   ]
  },
  {
   "cell_type": "code",
   "execution_count": 369,
   "metadata": {},
   "outputs": [
    {
     "name": "stdout",
     "output_type": "stream",
     "text": [
      "5 , 12.2\n"
     ]
    }
   ],
   "source": [
    "print_numbers(5, 12.2)"
   ]
  },
  {
   "cell_type": "markdown",
   "metadata": {},
   "source": [
    "Given the folllowing code"
   ]
  },
  {
   "cell_type": "code",
   "execution_count": 370,
   "metadata": {},
   "outputs": [],
   "source": [
    "def string_manipulator(string):\n",
    "    \n",
    "    output = ''\n",
    "    for char in string:\n",
    "        if char == 'a' or char == 'e':\n",
    "            char = 'z' \n",
    "        output = output + char\n",
    "    \n",
    "    return output"
   ]
  },
  {
   "cell_type": "code",
   "execution_count": 371,
   "metadata": {},
   "outputs": [
    {
     "name": "stdout",
     "output_type": "stream",
     "text": [
      "zbcdz\n"
     ]
    }
   ],
   "source": [
    "variable = 'abcde'\n",
    "manipulated_string = string_manipulator(variable)\n",
    "print(manipulated_string)"
   ]
  },
  {
   "cell_type": "markdown",
   "metadata": {},
   "source": [
    "## Task 6 \n",
    "I use an American keyboard but now someone used to a German keyboard is using it. Modify the above function so that when a variable `american` is set to `True` the letters `z` and `y` are swapped in a string. Give an example!"
   ]
  },
  {
   "cell_type": "code",
   "execution_count": 372,
   "metadata": {},
   "outputs": [],
   "source": [
    "def string_manipulator(string):\n",
    "    output=''\n",
    "    for char in string:\n",
    "        if char=='z':\n",
    "            output=output+'y'\n",
    "        elif char=='y':\n",
    "            output=output+'z'\n",
    "        else:\n",
    "            output=output+char\n",
    "    return output "
   ]
  },
  {
   "cell_type": "code",
   "execution_count": 373,
   "metadata": {},
   "outputs": [
    {
     "name": "stdout",
     "output_type": "stream",
     "text": [
      "qwertyuiop zxvcvbn yyzzz\n"
     ]
    }
   ],
   "source": [
    "s1=string_manipulator(\"qwertzuiop\")\n",
    "s2=string_manipulator(\"yxvcvbn\")\n",
    "s3=string_manipulator(\"zzyyy\")\n",
    "print(s1,s2,s3)"
   ]
  },
  {
   "cell_type": "markdown",
   "metadata": {},
   "source": [
    "## Task 7 \n",
    "\n",
    "Write a program that loads an integer and prints its **second digit from the left** and **third digit from the right.**\n",
    "\n",
    "If the number doesn't have two digits, then its second digit from the left doesn't exist and the program should print an informative message instead of that nonexistent digit. On the other hand, if the number has less than tree digits, its third digit from the right is zero."
   ]
  },
  {
   "cell_type": "code",
   "execution_count": 374,
   "metadata": {},
   "outputs": [],
   "source": [
    "\n",
    "def digitmod(n):\n",
    "    \"\"\"\n",
    "    A program that loads a natural number and prints its\n",
    "    1. second digit from the left,\n",
    "    2. third digit from the right.\n",
    "    If the number doesn't have two/three digits, the respective digits are\n",
    "    considered to be zero. \n",
    "    \"\"\"\n",
    "    if not isinstance(n,int):\n",
    "        print ('Please input an integer.')\n",
    "    elif abs(n)<100:\n",
    "        print ('The number has less that three digit.')\n",
    "    else:\n",
    "        number=str(abs(n))\n",
    "        print('For %d, second digit from the left is: %s and third digit from the right is: %s'% (n,number[1],number[-3]))    "
   ]
  },
  {
   "cell_type": "code",
   "execution_count": 375,
   "metadata": {},
   "outputs": [
    {
     "name": "stdout",
     "output_type": "stream",
     "text": [
      "For 1234567, second digit from the left is: 2 and third digit from the right is: 5\n",
      "For -1234567, second digit from the left is: 2 and third digit from the right is: 5\n",
      "For 100, second digit from the left is: 0 and third digit from the right is: 1\n",
      "The number has less that three digit.\n"
     ]
    }
   ],
   "source": [
    "digitmod(1234567)\n",
    "digitmod(-1234567)\n",
    "digitmod(100)\n",
    "digitmod(12)"
   ]
  },
  {
   "cell_type": "code",
   "execution_count": 376,
   "metadata": {},
   "outputs": [
    {
     "name": "stdout",
     "output_type": "stream",
     "text": [
      "Please input an integer.\n"
     ]
    }
   ],
   "source": [
    "digitmod('gfv')"
   ]
  },
  {
   "cell_type": "code",
   "execution_count": 377,
   "metadata": {},
   "outputs": [
    {
     "name": "stdout",
     "output_type": "stream",
     "text": [
      "Please input an integer.\n"
     ]
    }
   ],
   "source": [
    "digitmod(2.5)"
   ]
  },
  {
   "cell_type": "code",
   "execution_count": null,
   "metadata": {},
   "outputs": [],
   "source": []
  }
 ],
 "metadata": {
  "kernelspec": {
   "display_name": "Python 3",
   "language": "python",
   "name": "python3"
  },
  "language_info": {
   "codemirror_mode": {
    "name": "ipython",
    "version": 3
   },
   "file_extension": ".py",
   "mimetype": "text/x-python",
   "name": "python",
   "nbconvert_exporter": "python",
   "pygments_lexer": "ipython3",
   "version": "3.8.3"
  }
 },
 "nbformat": 4,
 "nbformat_minor": 2
}
