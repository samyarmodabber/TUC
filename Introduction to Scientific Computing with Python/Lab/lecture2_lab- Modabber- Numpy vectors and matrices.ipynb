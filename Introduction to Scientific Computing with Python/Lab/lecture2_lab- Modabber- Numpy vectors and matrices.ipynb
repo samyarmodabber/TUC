{
 "cells": [
  {
   "cell_type": "markdown",
   "metadata": {},
   "source": [
    "## Numpy  - vectors and matrices\n",
    "\n",
    "Let's start with numpy and working with vectors and matrices, at first we \n",
    "have a look on numpy arrays and try the matrix-vector-multiplication"
   ]
  },
  {
   "cell_type": "code",
   "execution_count": 1,
   "metadata": {},
   "outputs": [
    {
     "name": "stdout",
     "output_type": "stream",
     "text": [
      "[1.23, 2.23, 3.23, 4.23] <class 'list'>\n",
      "[[1.23 2.23 3.23 4.23]] <class 'numpy.ndarray'>\n",
      "2 (1, 4)\n",
      "[[1. 2. 3. 4.]\n",
      " [5. 6. 7. 8.]] <class 'numpy.ndarray'>\n",
      "2 (2, 4)\n"
     ]
    }
   ],
   "source": [
    "import numpy as np\n",
    "\n",
    "# have a list of values\n",
    "vl=[1.23,2.23,3.23,4.23]\n",
    "\n",
    "# and make it to a numpy array\n",
    "v=np.array([vl])\n",
    "\n",
    "print(vl,type(vl))\n",
    "print(v,type(v))\n",
    "print(v.ndim,v.shape)\n",
    "\n",
    "# create a matrix\n",
    "# see the value 1.0 instead of 1\n",
    "# what is the difference ? \n",
    "A=np.array( [[1.0,2,3,4],[5,6,7,8]] )\n",
    "\n",
    "print(A,type(A))\n",
    "print(A.ndim,A.shape)\n",
    "\n"
   ]
  },
  {
   "cell_type": "code",
   "execution_count": 2,
   "metadata": {},
   "outputs": [
    {
     "name": "stdout",
     "output_type": "stream",
     "text": [
      "6.0 <class 'numpy.float64'>\n"
     ]
    }
   ],
   "source": [
    "print(A[1,1],type(A[1,1]))\n",
    "#By use of 1.0 isted of 1, all entities type change to float "
   ]
  },
  {
   "cell_type": "markdown",
   "metadata": {},
   "source": [
    "Now we look at the matrix - vector multiplication, there is a pitfall for numpy-beginners, if you have a matrix A and a vector v and write ```b=A*v``` you get **not** what you want."
   ]
  },
  {
   "cell_type": "code",
   "execution_count": 3,
   "metadata": {},
   "outputs": [
    {
     "name": "stdout",
     "output_type": "stream",
     "text": [
      "[[ 1.23  4.46  9.69 16.92]\n",
      " [ 6.15 13.38 22.61 33.84]] <class 'numpy.ndarray'> 2 (2, 4)\n"
     ]
    }
   ],
   "source": [
    "# matrix-vector multiplication -- wrong way \n",
    "# the * is a simple array multiplication and NOT the matrix-multiplication\n",
    "b=A*v\n",
    "print(b,type(b),b.ndim,b.shape)"
   ]
  },
  {
   "cell_type": "markdown",
   "metadata": {},
   "source": [
    "Next try, instead of ```b=A*v``` we do \n",
    "  * make v from a row vector to the correct column vector -- try out what happens if you skip this\n",
    "  * use ```b=A.dot(u)``` or ```b=A@u``` for the matrix vector product"
   ]
  },
  {
   "cell_type": "code",
   "execution_count": 4,
   "metadata": {},
   "outputs": [
    {
     "name": "stdout",
     "output_type": "stream",
     "text": [
      "[[1.23]\n",
      " [2.23]\n",
      " [3.23]\n",
      " [4.23]] <class 'numpy.ndarray'> 2 (4, 1)\n",
      "[[32.3 ]\n",
      " [75.98]] <class 'numpy.ndarray'> 2 (2, 1)\n",
      "[[32.3 ]\n",
      " [75.98]] <class 'numpy.ndarray'> 2 (2, 1)\n"
     ]
    }
   ],
   "source": [
    "# matrix-vector multiplication again\n",
    "\n",
    "# make v from a row vector to a column vector\n",
    "# x.T gives in numpy the transposed of x\n",
    "u=v.T\n",
    "print(u,type(u),u.ndim,u.shape)\n",
    "\n",
    "b=A.dot(u)\n",
    "print(b,type(b),b.ndim,b.shape)\n",
    "\n",
    "#you can also use the @ operator for matrix multiplication\n",
    "c=A@u\n",
    "print(c,type(c),c.ndim,c.shape)\n"
   ]
  },
  {
   "cell_type": "markdown",
   "metadata": {},
   "source": [
    "## Task\n",
    "\n",
    "Play around with the next code blocks to understand the element access and data types"
   ]
  },
  {
   "cell_type": "code",
   "execution_count": 5,
   "metadata": {},
   "outputs": [
    {
     "name": "stdout",
     "output_type": "stream",
     "text": [
      "[[1. 2. 3. 4.]\n",
      " [5. 6. 7. 8.]]\n",
      "1.0\n",
      "7.0\n",
      "[[1 2 3 4]\n",
      " [5 6 7 8]]\n",
      "[[-1  2  3  4]\n",
      " [ 5  6  7 -3]]\n"
     ]
    }
   ],
   "source": [
    "# access to elements \n",
    "print(A)\n",
    "print(A[0,0])\n",
    "print(A[1,2])\n",
    "\n",
    "# try the next with 1.0 and 1 in the definition of A above \n",
    "A=np.array( [[1,2,3,4],[5,6,7,8]] )\n",
    "print(A)\n",
    "# what happens ? \n",
    "A[1,3]=-3.14\n",
    "A[0,0]=-1.68\n",
    "print(A)"
   ]
  },
  {
   "cell_type": "code",
   "execution_count": 6,
   "metadata": {},
   "outputs": [
    {
     "name": "stdout",
     "output_type": "stream",
     "text": [
      "[1 2 3 4]\n",
      "[1. 2. 3. 4.]\n",
      "[1 2 3 4]\n",
      "[1.5 2.5 3.  4. ]\n"
     ]
    }
   ],
   "source": [
    "x=np.array([1,2,3,4])\n",
    "print(x)\n",
    "y=np.array([1.0,2,3.0,4.0])\n",
    "print(y)\n",
    "\n",
    "x[0]=1.5\n",
    "y[0]=1.5\n",
    "y[1]=2.5\n",
    "print(x)\n",
    "print(y)\n",
    "\n"
   ]
  },
  {
   "cell_type": "markdown",
   "metadata": {},
   "source": [
    "## Task\n",
    "\n",
    "Write a function mymat(n) which takes a size argument n>0 and returns a regular nxn Matrix"
   ]
  },
  {
   "cell_type": "code",
   "execution_count": 7,
   "metadata": {},
   "outputs": [],
   "source": [
    "def mymat(n):\n",
    "    A=np.zeros((n,n))\n",
    "    for i in range(n):\n",
    "        A[i,i]=i+1\n",
    "    # TODO\n",
    "    return A"
   ]
  },
  {
   "cell_type": "code",
   "execution_count": 8,
   "metadata": {},
   "outputs": [
    {
     "name": "stdout",
     "output_type": "stream",
     "text": [
      "[[1. 0. 0.]\n",
      " [0. 2. 0.]\n",
      " [0. 0. 3.]]\n"
     ]
    }
   ],
   "source": [
    "print (mymat(3))"
   ]
  },
  {
   "cell_type": "markdown",
   "metadata": {},
   "source": [
    "## Task\n",
    "\n",
    "Now use your function to create for n=3,5,10 and 15 matrices A and right hand sides $$b = A \\cdot [1,1, ... 1]^T$$ and find out \n",
    "how you can use numpy.linalg.solve for solving linear systems Ax=b. Check if you get the correct solution $$[1,1,...1]^T$$"
   ]
  },
  {
   "cell_type": "code",
   "execution_count": 9,
   "metadata": {},
   "outputs": [
    {
     "name": "stdout",
     "output_type": "stream",
     "text": [
      "[1.         0.5        0.33333333 0.25       0.2       ]\n"
     ]
    }
   ],
   "source": [
    "n=5\n",
    "A=mymat(n)\n",
    "# TODO\n",
    "\n",
    "x = 0 # replace with solution of Ax=b\n",
    "x=np.linalg.solve(A,np.ones(n))\n",
    "print(x)"
   ]
  },
  {
   "cell_type": "markdown",
   "metadata": {},
   "source": [
    "# Toeplitz and circulant matrices \n",
    "\n",
    "We want to create a Toeplitz matrix and also a circulant matrix, both incredibly important in signal processing. \n",
    "\n",
    "Toeplitz matrices are constant along the diagonals from left to rigtht, the structure is\n",
    "$$T=\\left[ \\begin{matrix} a & b & c & d & e \\\\ f & a &  b &  c & d  \\\\ g & f & a &  b &  c \\\\ h& g & f & a &  b   \n",
    " \\\\ i & h & g & f & a  \\end{matrix} \\right] $$\n",
    "\n",
    "As you can see - a Toeplitz matrix is fully defined by setting the first row and the first column.\n",
    "\n",
    "# Task\n",
    "\n",
    "Write a function which takes 2 vectors **c** ( the first column )  and **r** (the first row) \n",
    "as numpy arrays and returns the Toeplitz matrix, defined by this vectors. "
   ]
  },
  {
   "cell_type": "code",
   "execution_count": 10,
   "metadata": {},
   "outputs": [],
   "source": [
    "def toeplitz(c,r):\n",
    "    if(r[0] != c[0] ):\n",
    "        raise ValueError('Error c[0] must be equal r[0] but  %f %f ' % (c[0],r[0]))\n",
    "        \n",
    "    # TODO\n",
    "    n=len(c)\n",
    "    if(len(r)!=n):\n",
    "        raise ValueError('The lenth of vectors should be equal')\n",
    "    T=np.zeros((n,n)) \n",
    "    \n",
    "    for i in range(n):\n",
    "            for j in range(n-i):\n",
    "                T[j,i+j]=r[i]\n",
    "                if i>0: T[i+j,j]=c[i]\n",
    "    return T"
   ]
  },
  {
   "cell_type": "code",
   "execution_count": 11,
   "metadata": {},
   "outputs": [
    {
     "name": "stdout",
     "output_type": "stream",
     "text": [
      "[[1. 2. 3. 4.]\n",
      " [5. 1. 2. 3.]\n",
      " [6. 5. 1. 2.]\n",
      " [7. 6. 5. 1.]]\n"
     ]
    }
   ],
   "source": [
    "\n",
    "r=np.array([1,2,3,4])\n",
    "c=np.array([1,5,6,7])\n",
    "T=toeplitz(c,r)\n",
    "print(T)"
   ]
  },
  {
   "cell_type": "markdown",
   "metadata": {},
   "source": [
    "\n",
    "## Circulant matrices \n",
    "\n",
    "Circulant matrices are square matrices and fully defined by its first column **c** and have the structure\n",
    "\n",
    "$$C=\\left[ \\begin{matrix} \n",
    "a & e & d & c & b \\\\ \n",
    "b & a & e & d & c  \\\\ \n",
    "c & b & a & e & d \\\\ \n",
    "d & c & b & a & e    \\\\ \n",
    "e & d & c & b & a  \\end{matrix} \\right] $$\n",
    "\n",
    "You can see that Circulant matrices are a special kind of Toeplitz matrices.\n",
    "\n",
    "## Task\n",
    "\n",
    "Write a function which takes a vector **c** as 1 numpy array \n",
    "and returns the Circulant matrix, defined by this vector. \n"
   ]
  },
  {
   "cell_type": "code",
   "execution_count": 12,
   "metadata": {},
   "outputs": [],
   "source": [
    "def circulant(c):\n",
    "    # TODO\n",
    "    n=len(c)\n",
    "    C=np.zeros((n,n)) \n",
    "    for j in range(n):\n",
    "        for i in range(j,j+n):\n",
    "            if i<n :\n",
    "                C[i,j]=c[i-j]\n",
    "            else:\n",
    "                C[i%n,j]=c[(i-j)%n]\n",
    "    return C\n",
    "    "
   ]
  },
  {
   "cell_type": "code",
   "execution_count": 13,
   "metadata": {},
   "outputs": [],
   "source": [
    "r=[3,5,7,9]\n",
    "C=circulant(r)"
   ]
  },
  {
   "cell_type": "code",
   "execution_count": 14,
   "metadata": {},
   "outputs": [
    {
     "name": "stdout",
     "output_type": "stream",
     "text": [
      "[[3. 9. 7. 5.]\n",
      " [5. 3. 9. 7.]\n",
      " [7. 5. 3. 9.]\n",
      " [9. 7. 5. 3.]]\n"
     ]
    }
   ],
   "source": [
    "print(C)\n"
   ]
  },
  {
   "cell_type": "markdown",
   "metadata": {},
   "source": [
    "# Fourier matrix\n",
    "\n",
    "The Fourier matrix $F$ of size $n \\times n$ is defined as\n",
    "$$\n",
    "F=\\frac{1}{\\sqrt{n}}\n",
    "\\left[\n",
    "\\begin{array}\n",
    "\\cdot & \\cdot & \\cdot \\\\\n",
    "\\cdot & \\omega^{jk} & \\cdot \\\\\n",
    "\\cdot & \\cdot & \\cdot \\\\\n",
    "\\end{array}\n",
    "\\right]_{j,k=0}^{n-1}\n",
    "$$\n",
    "where $\\omega$ is the n-th primitive root of unity, i.e. $$\\omega=e^{-2\\Pi i / n}$$\n",
    "\n",
    "## Task\n",
    "\n",
    "Write a function which computes for given size **n** the Fourier matrix $F$.\n",
    "\n",
    "(Later we will use scipy - there is the Fouriermatrix given as build in, but now we do it by hand)\n",
    "  * Hint 1 : The complex number **i** you can get in numpy as **1.j**\n",
    "  * Hint 2 : $\\Pi$ you get as np.pi\n",
    "  * Hint 3 : in complex computations initialize your data types correct, f.e. \n",
    "    ``` F=np.zeros((n,n),dtype=complex) ``` . Try out what happens if you do it as \n",
    "    ``` F=np.zeros((n,n)) ```\n"
   ]
  },
  {
   "cell_type": "code",
   "execution_count": 15,
   "metadata": {},
   "outputs": [],
   "source": [
    "def fourier(n):\n",
    "    # create a complex zero matrix\n",
    "    F=np.zeros((n,n),dtype=complex)\n",
    "    # TODO\n",
    "    for j in range(n):\n",
    "        for k in range(n):\n",
    "            F[j,k]= (np.exp(-2*j*k*np.pi*1.j/n))\n",
    "    return F/np.sqrt(n)"
   ]
  },
  {
   "cell_type": "code",
   "execution_count": 16,
   "metadata": {},
   "outputs": [
    {
     "name": "stdout",
     "output_type": "stream",
     "text": [
      "[[ 5.00000000e-01+0.0000000e+00j  5.00000000e-01+0.0000000e+00j\n",
      "   5.00000000e-01+0.0000000e+00j  5.00000000e-01+0.0000000e+00j]\n",
      " [ 5.00000000e-01+0.0000000e+00j  3.06161700e-17-5.0000000e-01j\n",
      "  -5.00000000e-01-6.1232340e-17j -9.18485099e-17+5.0000000e-01j]\n",
      " [ 5.00000000e-01+0.0000000e+00j -5.00000000e-01-6.1232340e-17j\n",
      "   5.00000000e-01+1.2246468e-16j -5.00000000e-01-1.8369702e-16j]\n",
      " [ 5.00000000e-01+0.0000000e+00j -9.18485099e-17+5.0000000e-01j\n",
      "  -5.00000000e-01-1.8369702e-16j  2.75545530e-16-5.0000000e-01j]]\n"
     ]
    }
   ],
   "source": [
    "F=fourier(4)\n",
    "print(F)\n"
   ]
  },
  {
   "cell_type": "markdown",
   "metadata": {},
   "source": [
    "## Diagonalization of a circulant matrix\n",
    "\n",
    "With the help of our Fouriermatrix $F$  we can diagonlize the circulant matrix $C$ with\n",
    "$$ D = \\bar{F}C F $$\n",
    "where $\\bar{F}$ is the complex conjugate matrix of $F$, let's try this out."
   ]
  },
  {
   "cell_type": "code",
   "execution_count": 17,
   "metadata": {},
   "outputs": [
    {
     "name": "stdout",
     "output_type": "stream",
     "text": [
      "[[ 2.40000000e+01+0.00000000e+00j -1.10218212e-15-8.88178420e-16j\n",
      "   0.00000000e+00-1.46957616e-15j  2.41836794e-15-1.77635684e-15j]\n",
      " [-7.77156117e-16+6.66133815e-16j -4.00000000e+00-4.00000000e+00j\n",
      "   2.22044605e-16+2.67814115e-16j -4.44089210e-16+4.44089210e-16j]\n",
      " [ 0.00000000e+00+1.46957616e-15j  4.17184002e-16+1.11022302e-16j\n",
      "  -4.00000000e+00+0.00000000e+00j -1.60812265e-16+4.44089210e-16j]\n",
      " [ 2.44249065e-15+2.22044605e-15j  4.44089210e-16-8.88178420e-16j\n",
      "   2.77007651e-31+2.67814115e-16j -4.00000000e+00+4.00000000e+00j]]\n"
     ]
    }
   ],
   "source": [
    "# matrix multiplication with the @ operator\n",
    "D=np.conjugate(F)@C@F\n",
    "print(D)\n"
   ]
  },
  {
   "cell_type": "markdown",
   "metadata": {},
   "source": [
    "The result $D$ is not very good readable because of the zeros written as small numbers in range $10^{-16}$. So we do some matrix cosmetic and cut off small numbers"
   ]
  },
  {
   "cell_type": "code",
   "execution_count": 18,
   "metadata": {},
   "outputs": [
    {
     "name": "stdout",
     "output_type": "stream",
     "text": [
      "[[24.  0.  0.  0.]\n",
      " [ 0. -4.  0.  0.]\n",
      " [ 0.  0. -4.  0.]\n",
      " [ 0.  0.  0. -4.]]\n"
     ]
    }
   ],
   "source": [
    "tol=1e-12\n",
    "D.real[abs(D.real) < tol] = 0.0\n",
    "D.imag[abs(D.imag) < tol] = 0.0\n",
    "\n",
    "print(D.real)\n",
    "#print(D.imag)\n"
   ]
  },
  {
   "cell_type": "markdown",
   "metadata": {},
   "source": [
    "\n",
    "Now $D$ looks like a diagonal matrix :-) \n",
    "\n",
    "The construction of $F$ and $C$ can be avoided if the **Fast Fourier Transfor (FFT)** is used and the complexity reduces to something that is $\\mathcal{O}(n\\mathrm{log}(n))$ rather than $\\mathcal{O}(n^2)$\n",
    "\n",
    "[here](https://math.mit.edu/icg/resources/teaching/18.085-spring2015/toeplitz.pdf) you can find the information of how to embedd a Toeplitz matrix into a circulant matrix. Implement this function and verify with a DFT of the double size that this is diagonalized using $F$.\n",
    "\n",
    "\n",
    "\n"
   ]
  },
  {
   "cell_type": "code",
   "execution_count": null,
   "metadata": {},
   "outputs": [],
   "source": []
  }
 ],
 "metadata": {
  "kernelspec": {
   "display_name": "Python 3",
   "language": "python",
   "name": "python3"
  },
  "language_info": {
   "codemirror_mode": {
    "name": "ipython",
    "version": 3
   },
   "file_extension": ".py",
   "mimetype": "text/x-python",
   "name": "python",
   "nbconvert_exporter": "python",
   "pygments_lexer": "ipython3",
   "version": "3.7.1"
  }
 },
 "nbformat": 4,
 "nbformat_minor": 4
}
