{
 "cells": [
  {
   "cell_type": "markdown",
   "metadata": {},
   "source": [
    "# SymPy -- symbolic computation\n",
    "\n",
    "Symbolic computation is the computation of mathematical objects in an analytical way. \n",
    "The mathematical objects are represented exactly and not only approximately. For example $\\sqrt{8}$ will not approximated as $\\sqrt{8} = 2.82842712475$, it will be done as:"
   ]
  },
  {
   "cell_type": "code",
   "execution_count": 2,
   "metadata": {},
   "outputs": [
    {
     "data": {
      "image/png": "[encoded data removed]",
      "text/latex": [
       "$$2 \\sqrt{2}$$"
      ],
      "text/plain": [
       "2⋅√2"
      ]
     },
     "execution_count": 2,
     "metadata": {},
     "output_type": "execute_result"
    }
   ],
   "source": [
    "import sympy as sp\n",
    "sp.init_printing()\n",
    "sp.sqrt(8)"
   ]
  },
  {
   "cell_type": "markdown",
   "metadata": {},
   "source": [
    "Furthermore one can define expressions, equations and more "
   ]
  },
  {
   "cell_type": "code",
   "execution_count": 36,
   "metadata": {},
   "outputs": [
    {
     "name": "stdout",
     "output_type": "stream",
     "text": [
      "x + 3*y\n"
     ]
    },
    {
     "data": {
      "image/png": "[encoded data removed]",
      "text/latex": [
       "$$x + 3 y + 1$$"
      ],
      "text/plain": [
       "x + 3⋅y + 1"
      ]
     },
     "execution_count": 36,
     "metadata": {},
     "output_type": "execute_result"
    }
   ],
   "source": [
    "x, y = sp.symbols('x y')\n",
    "expr=x+3*y\n",
    "print(expr)\n",
    "expr+1"
   ]
  },
  {
   "cell_type": "markdown",
   "metadata": {},
   "source": [
    "Differentiation, Integration, computation of limits is possible:"
   ]
  },
  {
   "cell_type": "code",
   "execution_count": 4,
   "metadata": {},
   "outputs": [
    {
     "data": {
      "image/png": "[encoded data removed]",
      "text/latex": [
       "$$6 x + \\cos{\\left (x \\right )} + 4$$"
      ],
      "text/plain": [
       "6⋅x + cos(x) + 4"
      ]
     },
     "execution_count": 4,
     "metadata": {},
     "output_type": "execute_result"
    }
   ],
   "source": [
    "sp.diff(sp.sin(x)+3*x**2+4*x,x)"
   ]
  },
  {
   "cell_type": "code",
   "execution_count": 5,
   "metadata": {},
   "outputs": [
    {
     "data": {
      "image/png": "[encoded data removed]",
      "text/latex": [
       "$$\\left(x^{2} - 2 x + 2\\right) e^{x}$$"
      ],
      "text/plain": [
       "⎛ 2          ⎞  x\n",
       "⎝x  - 2⋅x + 2⎠⋅ℯ "
      ]
     },
     "execution_count": 5,
     "metadata": {},
     "output_type": "execute_result"
    }
   ],
   "source": [
    "sp.integrate(x**2*sp.exp(x),x)\n"
   ]
  },
  {
   "cell_type": "code",
   "execution_count": 6,
   "metadata": {},
   "outputs": [
    {
     "data": {
      "image/png": "[encoded data removed]",
      "text/latex": [
       "$$-2 + 82 e^{10}$$"
      ],
      "text/plain": [
       "         10\n",
       "-2 + 82⋅ℯ  "
      ]
     },
     "execution_count": 6,
     "metadata": {},
     "output_type": "execute_result"
    }
   ],
   "source": [
    "sp.integrate(x**2*sp.exp(x),(x,0,10))\n"
   ]
  },
  {
   "cell_type": "code",
   "execution_count": 7,
   "metadata": {},
   "outputs": [
    {
     "data": {
      "image/png": "[encoded data removed]",
      "text/latex": [
       "$$1806168.19517415$$"
      ],
      "text/plain": [
       "1806168.19517415"
      ]
     },
     "execution_count": 7,
     "metadata": {},
     "output_type": "execute_result"
    }
   ],
   "source": [
    "sp.integrate(x**2*sp.exp(x),(x,0,10)).evalf()\n"
   ]
  },
  {
   "cell_type": "code",
   "execution_count": 8,
   "metadata": {},
   "outputs": [
    {
     "data": {
      "image/png": "[encoded data removed]",
      "text/latex": [
       "$$1$$"
      ],
      "text/plain": [
       "1"
      ]
     },
     "execution_count": 8,
     "metadata": {},
     "output_type": "execute_result"
    }
   ],
   "source": [
    "sp.limit(sp.sin(x)/x,x,0)"
   ]
  },
  {
   "cell_type": "markdown",
   "metadata": {},
   "source": [
    "## Task\n",
    "\n",
    "Differentiate, integrate some expressions of your choice and compute the limits of some series"
   ]
  },
  {
   "cell_type": "code",
   "execution_count": 9,
   "metadata": {},
   "outputs": [
    {
     "data": {
      "image/png": "[encoded data removed]",
      "text/latex": [
       "$$\\sqrt{\\tan{\\left (x \\right )}}$$"
      ],
      "text/plain": [
       "  ________\n",
       "╲╱ tan(x) "
      ]
     },
     "execution_count": 9,
     "metadata": {},
     "output_type": "execute_result"
    }
   ],
   "source": [
    "\n",
    "expr1=sp.sqrt(sp.tan(x))\n",
    "expr1"
   ]
  },
  {
   "cell_type": "code",
   "execution_count": 10,
   "metadata": {},
   "outputs": [
    {
     "data": {
      "image/png": "[encoded data removed]",
      "text/latex": [
       "$$\\frac{\\frac{\\tan^{2}{\\left (x \\right )}}{2} + \\frac{1}{2}}{\\sqrt{\\tan{\\left (x \\right )}}}$$"
      ],
      "text/plain": [
       "   2       \n",
       "tan (x)   1\n",
       "─────── + ─\n",
       "   2      2\n",
       "───────────\n",
       "   ________\n",
       " ╲╱ tan(x) "
      ]
     },
     "execution_count": 10,
     "metadata": {},
     "output_type": "execute_result"
    }
   ],
   "source": [
    "sp.diff(expr1)"
   ]
  },
  {
   "cell_type": "code",
   "execution_count": 11,
   "metadata": {},
   "outputs": [
    {
     "data": {
      "image/png": "[encoded data removed]",
      "text/latex": [
       "$$-0.257824531073655$$"
      ],
      "text/plain": [
       "-0.257824531073655"
      ]
     },
     "execution_count": 11,
     "metadata": {},
     "output_type": "execute_result"
    }
   ],
   "source": [
    "sp.integrate(expr1,(x,sp.pi/6,0)).evalf()"
   ]
  },
  {
   "cell_type": "markdown",
   "metadata": {},
   "source": [
    "\n",
    "### Floating point representation\n",
    "\n",
    "Sometimes it is useful to let SymPy evaluate a floating point approximation (up to a user specified number of digits).\n"
   ]
  },
  {
   "cell_type": "code",
   "execution_count": 12,
   "metadata": {},
   "outputs": [
    {
     "data": {
      "image/png": "[encoded data removed]",
      "text/latex": [
       "$$1.414213562$$"
      ],
      "text/plain": [
       "1.414213562"
      ]
     },
     "execution_count": 12,
     "metadata": {},
     "output_type": "execute_result"
    }
   ],
   "source": [
    "sp.sqrt(2).evalf(10)"
   ]
  },
  {
   "cell_type": "markdown",
   "metadata": {},
   "source": [
    "## Task\n",
    "\n",
    "Evaluate $\\pi$ from sympy with hundred digits. \n",
    "\n",
    "Then write a functions which uses Leibniz Formula \n",
    "$$ 1 - \\frac{1}{3} + \\frac{1}{5} -  \\frac{1}{7}  + \\frac{1}{9}  + - \\cdots = \\frac{\\pi}{4} $$\n",
    "to approximate $\\pi$ with $n$ summands from the formula above. Make a convergence test - how many summands you need to get $m=5$ digits of $\\pi$"
   ]
  },
  {
   "cell_type": "code",
   "execution_count": 38,
   "metadata": {},
   "outputs": [
    {
     "data": {
      "image/png": "[encoded data removed]",
      "text/latex": [
       "$$3.141592653589793238462643383279502884197169399375105820974944592307816406286208998628034825342117068$$"
      ],
      "text/plain": [
       "3.1415926535897932384626433832795028841971693993751058209749445923078164062862\n",
       "08998628034825342117068"
      ]
     },
     "execution_count": 38,
     "metadata": {},
     "output_type": "execute_result"
    }
   ],
   "source": [
    "# get 100 digits of pi \n",
    "pi100=sp.pi.evalf(100)\n",
    "pi100"
   ]
  },
  {
   "cell_type": "code",
   "execution_count": 44,
   "metadata": {},
   "outputs": [
    {
     "data": {
      "image/png": "[encoded data removed]",
      "text/latex": [
       "$$3.141592643589326$$"
      ],
      "text/plain": [
       "3.141592643589326"
      ]
     },
     "execution_count": 44,
     "metadata": {},
     "output_type": "execute_result"
    }
   ],
   "source": [
    "def piapprox(n):\n",
    "    p=0\n",
    "    for i in range(n):\n",
    "        p=p+(-1)**i/(2*i+1)\n",
    "    return 4*p\n",
    "\n",
    "piapprox(100000000)"
   ]
  },
  {
   "cell_type": "code",
   "execution_count": 103,
   "metadata": {},
   "outputs": [
    {
     "name": "stdout",
     "output_type": "stream",
     "text": [
      "3.141592653589793238462643383279502884197169399375105820974944592307816406286208998628034825342117068\n",
      "10000 3.1414926535900345\n",
      "process time: 34.703125\n"
     ]
    }
   ],
   "source": [
    "from time import process_time \n",
    "import numpy as np\n",
    "\n",
    "pi100=sp.pi.evalf(100)\n",
    "def pi_convergence_test(m):\n",
    "    n=1\n",
    "    while True:\n",
    "        if np.abs(pi100-piapprox(n))<0.1**(m+1):\n",
    "            break\n",
    "        n=n+1\n",
    "    print(n , piapprox(n))\n",
    "\n",
    "print(pi100)\n",
    "startTime= process_time()\n",
    "pi_convergence_test(3) #My laptop is slow for m=4,5\n",
    "\n",
    "print(\"process time:\", process_time()-startTime)"
   ]
  },
  {
   "cell_type": "markdown",
   "metadata": {},
   "source": [
    "## Solving equations\n",
    "\n",
    "Sympy can solve equations, for example roots of polynomials"
   ]
  },
  {
   "cell_type": "code",
   "execution_count": 30,
   "metadata": {},
   "outputs": [
    {
     "data": {
      "image/png": "[encoded data removed]",
      "text/latex": [
       "$$\\left [ -1, \\quad 4\\right ]$$"
      ],
      "text/plain": [
       "[-1, 4]"
      ]
     },
     "execution_count": 30,
     "metadata": {},
     "output_type": "execute_result"
    }
   ],
   "source": [
    "sp.solve(-x**2+3*x+4,x)"
   ]
  },
  {
   "cell_type": "markdown",
   "metadata": {},
   "source": [
    "Not all is possible in exact computation"
   ]
  },
  {
   "cell_type": "code",
   "execution_count": 31,
   "metadata": {},
   "outputs": [
    {
     "ename": "NotImplementedError",
     "evalue": "multiple generators [exp(x), sin(x)]\nNo algorithms are implemented to solve equation exp(x) - sin(x)",
     "output_type": "error",
     "traceback": [
      "\u001b[1;31m---------------------------------------------------------------------------\u001b[0m",
      "\u001b[1;31mNotImplementedError\u001b[0m                       Traceback (most recent call last)",
      "\u001b[1;32m<ipython-input-31-94031e630926>\u001b[0m in \u001b[0;36m<module>\u001b[1;34m\u001b[0m\n\u001b[1;32m----> 1\u001b[1;33m \u001b[0msp\u001b[0m\u001b[1;33m.\u001b[0m\u001b[0msolve\u001b[0m\u001b[1;33m(\u001b[0m\u001b[0msp\u001b[0m\u001b[1;33m.\u001b[0m\u001b[0mexp\u001b[0m\u001b[1;33m(\u001b[0m\u001b[0mx\u001b[0m\u001b[1;33m)\u001b[0m\u001b[1;33m-\u001b[0m\u001b[0msp\u001b[0m\u001b[1;33m.\u001b[0m\u001b[0msin\u001b[0m\u001b[1;33m(\u001b[0m\u001b[0mx\u001b[0m\u001b[1;33m)\u001b[0m\u001b[1;33m,\u001b[0m\u001b[0mx\u001b[0m\u001b[1;33m)\u001b[0m\u001b[1;33m\u001b[0m\u001b[1;33m\u001b[0m\u001b[0m\n\u001b[0m",
      "\u001b[1;32m~\\Anaconda3\\lib\\site-packages\\sympy\\solvers\\solvers.py\u001b[0m in \u001b[0;36msolve\u001b[1;34m(f, *symbols, **flags)\u001b[0m\n\u001b[0;32m   1160\u001b[0m     \u001b[1;31m###########################################################################\u001b[0m\u001b[1;33m\u001b[0m\u001b[1;33m\u001b[0m\u001b[1;33m\u001b[0m\u001b[0m\n\u001b[0;32m   1161\u001b[0m     \u001b[1;32mif\u001b[0m \u001b[0mbare_f\u001b[0m\u001b[1;33m:\u001b[0m\u001b[1;33m\u001b[0m\u001b[1;33m\u001b[0m\u001b[0m\n\u001b[1;32m-> 1162\u001b[1;33m         \u001b[0msolution\u001b[0m \u001b[1;33m=\u001b[0m \u001b[0m_solve\u001b[0m\u001b[1;33m(\u001b[0m\u001b[0mf\u001b[0m\u001b[1;33m[\u001b[0m\u001b[1;36m0\u001b[0m\u001b[1;33m]\u001b[0m\u001b[1;33m,\u001b[0m \u001b[1;33m*\u001b[0m\u001b[0msymbols\u001b[0m\u001b[1;33m,\u001b[0m \u001b[1;33m**\u001b[0m\u001b[0mflags\u001b[0m\u001b[1;33m)\u001b[0m\u001b[1;33m\u001b[0m\u001b[1;33m\u001b[0m\u001b[0m\n\u001b[0m\u001b[0;32m   1163\u001b[0m     \u001b[1;32melse\u001b[0m\u001b[1;33m:\u001b[0m\u001b[1;33m\u001b[0m\u001b[1;33m\u001b[0m\u001b[0m\n\u001b[0;32m   1164\u001b[0m         \u001b[0msolution\u001b[0m \u001b[1;33m=\u001b[0m \u001b[0m_solve_system\u001b[0m\u001b[1;33m(\u001b[0m\u001b[0mf\u001b[0m\u001b[1;33m,\u001b[0m \u001b[0msymbols\u001b[0m\u001b[1;33m,\u001b[0m \u001b[1;33m**\u001b[0m\u001b[0mflags\u001b[0m\u001b[1;33m)\u001b[0m\u001b[1;33m\u001b[0m\u001b[1;33m\u001b[0m\u001b[0m\n",
      "\u001b[1;32m~\\Anaconda3\\lib\\site-packages\\sympy\\solvers\\solvers.py\u001b[0m in \u001b[0;36m_solve\u001b[1;34m(f, *symbols, **flags)\u001b[0m\n\u001b[0;32m   1733\u001b[0m \u001b[1;33m\u001b[0m\u001b[0m\n\u001b[0;32m   1734\u001b[0m     \u001b[1;32mif\u001b[0m \u001b[0mresult\u001b[0m \u001b[1;32mis\u001b[0m \u001b[1;32mFalse\u001b[0m\u001b[1;33m:\u001b[0m\u001b[1;33m\u001b[0m\u001b[1;33m\u001b[0m\u001b[0m\n\u001b[1;32m-> 1735\u001b[1;33m         \u001b[1;32mraise\u001b[0m \u001b[0mNotImplementedError\u001b[0m\u001b[1;33m(\u001b[0m\u001b[1;34m'\\n'\u001b[0m\u001b[1;33m.\u001b[0m\u001b[0mjoin\u001b[0m\u001b[1;33m(\u001b[0m\u001b[1;33m[\u001b[0m\u001b[0mmsg\u001b[0m\u001b[1;33m,\u001b[0m \u001b[0mnot_impl_msg\u001b[0m \u001b[1;33m%\u001b[0m \u001b[0mf\u001b[0m\u001b[1;33m]\u001b[0m\u001b[1;33m)\u001b[0m\u001b[1;33m)\u001b[0m\u001b[1;33m\u001b[0m\u001b[1;33m\u001b[0m\u001b[0m\n\u001b[0m\u001b[0;32m   1736\u001b[0m \u001b[1;33m\u001b[0m\u001b[0m\n\u001b[0;32m   1737\u001b[0m     \u001b[1;32mif\u001b[0m \u001b[0mflags\u001b[0m\u001b[1;33m.\u001b[0m\u001b[0mget\u001b[0m\u001b[1;33m(\u001b[0m\u001b[1;34m'simplify'\u001b[0m\u001b[1;33m,\u001b[0m \u001b[1;32mTrue\u001b[0m\u001b[1;33m)\u001b[0m\u001b[1;33m:\u001b[0m\u001b[1;33m\u001b[0m\u001b[1;33m\u001b[0m\u001b[0m\n",
      "\u001b[1;31mNotImplementedError\u001b[0m: multiple generators [exp(x), sin(x)]\nNo algorithms are implemented to solve equation exp(x) - sin(x)"
     ]
    }
   ],
   "source": [
    "sp.solve(sp.exp(x)-sp.sin(x),x)"
   ]
  },
  {
   "cell_type": "markdown",
   "metadata": {},
   "source": [
    "but it can be approximated in a numerical way. Play around with different starting values."
   ]
  },
  {
   "cell_type": "code",
   "execution_count": 32,
   "metadata": {},
   "outputs": [
    {
     "data": {
      "image/png": "[encoded data removed]",
      "text/latex": [
       "$$-15.7079634186507$$"
      ],
      "text/plain": [
       "-15.7079634186507"
      ]
     },
     "execution_count": 32,
     "metadata": {},
     "output_type": "execute_result"
    }
   ],
   "source": [
    "sp.nsolve(sp.exp(x)-sp.sin(x),0)"
   ]
  },
  {
   "cell_type": "markdown",
   "metadata": {},
   "source": [
    "It is possible to solve systems, for example the intersection of a circle and a line:\n"
   ]
  },
  {
   "cell_type": "code",
   "execution_count": 33,
   "metadata": {},
   "outputs": [
    {
     "data": {
      "image/png": "[encoded data removed]",
      "text/latex": [
       "$$\\left [ \\left ( \\frac{1}{5} + \\frac{\\sqrt{179}}{10}, \\quad - \\frac{\\sqrt{179}}{5} + \\frac{1}{10}\\right ), \\quad \\left ( - \\frac{\\sqrt{179}}{10} + \\frac{1}{5}, \\quad \\frac{1}{10} + \\frac{\\sqrt{179}}{5}\\right )\\right ]$$"
      ],
      "text/plain": [
       "⎡⎛1   √179    √179   1 ⎞  ⎛  √179   1  1    √179⎞⎤\n",
       "⎢⎜─ + ────, - ──── + ──⎟, ⎜- ──── + ─, ── + ────⎟⎥\n",
       "⎣⎝5    10      5     10⎠  ⎝   10    5  10    5  ⎠⎦"
      ]
     },
     "execution_count": 33,
     "metadata": {},
     "output_type": "execute_result"
    }
   ],
   "source": [
    "eq1 = x**2 + y**2 - 9  # circle of radius 3\n",
    "eq2 = 2*x + y - sp.Rational(1,2)   # line y(x) = -2*x + 1/2 # rational solution\n",
    "#eq2 = 2*x + y - 1/2  # try out what happens here: float\n",
    "\n",
    "sp.solve([eq1, eq2], [x, y])\n"
   ]
  },
  {
   "cell_type": "markdown",
   "metadata": {},
   "source": [
    "## Task\n",
    "\n",
    "Make a geometrical interpretation to the following system of equations\n",
    "$$ x^2+y^2+z^2=1 $$\n",
    "$$ z=x^2+y^2 $$\n",
    "$$ y=0 $$\n",
    "and then solve this system, dump the solutions as expressions and as floating point numbers.\n",
    "Then interprete the solutions."
   ]
  },
  {
   "cell_type": "code",
   "execution_count": 34,
   "metadata": {},
   "outputs": [
    {
     "data": {
      "image/png": "[encoded data removed]",
      "text/latex": [
       "$$\\left [ \\left ( - \\sqrt{- \\frac{1}{2} + \\frac{\\sqrt{5}}{2}}, \\quad 0, \\quad - \\frac{1}{2} + \\frac{\\sqrt{5}}{2}\\right ), \\quad \\left ( \\sqrt{- \\frac{1}{2} + \\frac{\\sqrt{5}}{2}}, \\quad 0, \\quad - \\frac{1}{2} + \\frac{\\sqrt{5}}{2}\\right ), \\quad \\left ( - \\sqrt{- \\frac{\\sqrt{5}}{2} - \\frac{1}{2}}, \\quad 0, \\quad - \\frac{\\sqrt{5}}{2} - \\frac{1}{2}\\right ), \\quad \\left ( \\sqrt{- \\frac{\\sqrt{5}}{2} - \\frac{1}{2}}, \\quad 0, \\quad - \\frac{\\sqrt{5}}{2} - \\frac{1}{2}\\right )\\right ]$$"
      ],
      "text/plain": [
       "⎡⎛     __________             ⎞  ⎛    __________             ⎞  ⎛     ________\n",
       "⎢⎜    ╱   1   √5        1   √5⎟  ⎜   ╱   1   √5        1   √5⎟  ⎜    ╱   √5   \n",
       "⎢⎜-  ╱  - ─ + ── , 0, - ─ + ──⎟, ⎜  ╱  - ─ + ── , 0, - ─ + ──⎟, ⎜-  ╱  - ── - \n",
       "⎣⎝ ╲╱     2   2         2   2 ⎠  ⎝╲╱     2   2         2   2 ⎠  ⎝ ╲╱     2    \n",
       "\n",
       "__             ⎞  ⎛    __________             ⎞⎤\n",
       "1        √5   1⎟  ⎜   ╱   √5   1        √5   1⎟⎥\n",
       "─ , 0, - ── - ─⎟, ⎜  ╱  - ── - ─ , 0, - ── - ─⎟⎥\n",
       "2        2    2⎠  ⎝╲╱     2    2        2    2⎠⎦"
      ]
     },
     "execution_count": 34,
     "metadata": {},
     "output_type": "execute_result"
    }
   ],
   "source": [
    "z=sp.symbols('z') # x and y are already symbols \n",
    "\n",
    "eq1=x**2+y**2+z**2-1 #\n",
    "#eq1=x**2+y**2+z**2-1.0 # float\n",
    "eq2=z-x**2-y**2\n",
    "eq3=y\n",
    "sp.solve([eq1,eq2,eq3],[x,y,z])\n"
   ]
  },
  {
   "cell_type": "markdown",
   "metadata": {},
   "source": [
    "## Interprete the solutions:\n",
    "With subistute eq3 in eq1 and eq2 we have: \n",
    "$$ x^2+z^2=1 $$  \n",
    "$$ z=x^2$$\n",
    "Anf from these we have $$ x^2+x^4=1. $$\n",
    "This is a equation with degree 4 so it will have 4 solutions in complex number"
   ]
  },
  {
   "cell_type": "markdown",
   "metadata": {},
   "source": [
    "## Task\n",
    "\n",
    "Now define your own geometrical problem in the space $R^3$. It should have $4$ points in $R^3$ as solution."
   ]
  },
  {
   "cell_type": "code",
   "execution_count": 109,
   "metadata": {},
   "outputs": [
    {
     "data": {
      "image/png": "[encoded data removed]",
      "text/latex": [
       "$$\\left [ \\left ( -1, \\quad 0, \\quad 2\\right ), \\quad \\left ( 1, \\quad 0, \\quad 2\\right ), \\quad \\left ( - i, \\quad -2, \\quad 0\\right ), \\quad \\left ( i, \\quad -2, \\quad 0\\right )\\right ]$$"
      ],
      "text/plain": [
       "[(-1, 0, 2), (1, 0, 2), (-ⅈ, -2, 0), (ⅈ, -2, 0)]"
      ]
     },
     "execution_count": 109,
     "metadata": {},
     "output_type": "execute_result"
    }
   ],
   "source": [
    "# TODO\n",
    "x,y,z=sp.symbols('x y z') # define symbols \n",
    "\n",
    "eq1=x**2-1-y \n",
    "#eq1=x**2-1.0-y \n",
    "eq2=x**2+1-z\n",
    "eq3=y*z\n",
    "sp.solve([eq1,eq2,eq3],[x,y,z])"
   ]
  },
  {
   "cell_type": "markdown",
   "metadata": {},
   "source": [
    "## Task\n",
    "\n",
    "Now a task for integration and solving of equations. We consider the affine linear function\n",
    "$$y=m x + 1 \\quad m \\in R$$ \n",
    "and the parabola\n",
    "$$y=(x-1)^2$$\n",
    "\n",
    "Make a sketch of the functions (on a sheet of paper, not here) \n",
    "and then compute $m$ such that the area between the graphs of this functions is $1$.\n",
    "  * Hint 1 : you need the intersection points of the functions, depending on m\n",
    "  * Hint 2 : you get the area between the functions with integrals between the intersection points \n",
    "  * Hint 3 : then you have the area A(m) and can solve A(m)=1\n",
    "  * Hint 4 : check your solution at the end of all with a probe"
   ]
  },
  {
   "cell_type": "code",
   "execution_count": 110,
   "metadata": {},
   "outputs": [
    {
     "data": {
      "image/png": "[encoded data removed]",
      "text/latex": [
       "$$\\frac{m^{2} + 2 m}{m}$$"
      ],
      "text/plain": [
       " 2      \n",
       "m  + 2⋅m\n",
       "────────\n",
       "   m    "
      ]
     },
     "execution_count": 110,
     "metadata": {},
     "output_type": "execute_result"
    }
   ],
   "source": [
    "# TODO \n",
    "m=sp.symbols('m')\n",
    "eq1=y-m*x-1\n",
    "eq2=y-(x-1)**2\n",
    "P=sp.solve([eq1,eq2],[x,y])\n",
    "P[1][0]"
   ]
  },
  {
   "cell_type": "code",
   "execution_count": 111,
   "metadata": {},
   "outputs": [
    {
     "data": {
      "image/png": "[encoded data removed]",
      "text/latex": [
       "$$\\frac{\\left(- \\frac{m}{2} - 1\\right) \\left(m^{2} + 2 m\\right)^{2}}{m^{2}} + \\frac{\\left(m^{2} + 2 m\\right)^{3}}{3 m^{3}}$$"
      ],
      "text/plain": [
       "                    2              \n",
       "⎛  m    ⎞ ⎛ 2      ⎞              3\n",
       "⎜- ─ - 1⎟⋅⎝m  + 2⋅m⎠    ⎛ 2      ⎞ \n",
       "⎝  2    ⎠               ⎝m  + 2⋅m⎠ \n",
       "───────────────────── + ───────────\n",
       "           2                   3   \n",
       "          m                 3⋅m    "
      ]
     },
     "execution_count": 111,
     "metadata": {},
     "output_type": "execute_result"
    }
   ],
   "source": [
    "A=sp.integrate(eq1-eq2,[x,P[0][0],P[1][0]])\n",
    "A"
   ]
  },
  {
   "cell_type": "code",
   "execution_count": 112,
   "metadata": {},
   "outputs": [
    {
     "data": {
      "image/png": "[encoded data removed]",
      "text/latex": [
       "$$\\left [ -2 - \\sqrt[3]{6}, \\quad -2 - \\sqrt[3]{6} \\left(- \\frac{1}{2} - \\frac{\\sqrt{3} i}{2}\\right), \\quad -2 - \\sqrt[3]{6} \\left(- \\frac{1}{2} + \\frac{\\sqrt{3} i}{2}\\right)\\right ]$$"
      ],
      "text/plain": [
       "⎡     3 ___       3 ___ ⎛  1   √3⋅ⅈ⎞       3 ___ ⎛  1   √3⋅ⅈ⎞⎤\n",
       "⎢-2 - ╲╱ 6 , -2 - ╲╱ 6 ⋅⎜- ─ - ────⎟, -2 - ╲╱ 6 ⋅⎜- ─ + ────⎟⎥\n",
       "⎣                       ⎝  2    2  ⎠             ⎝  2    2  ⎠⎦"
      ]
     },
     "execution_count": 112,
     "metadata": {},
     "output_type": "execute_result"
    }
   ],
   "source": [
    "solutions=sp.solve(A-1,m)\n",
    "solutions"
   ]
  },
  {
   "cell_type": "code",
   "execution_count": 113,
   "metadata": {},
   "outputs": [
    {
     "data": {
      "image/png": "[encoded data removed]",
      "text/latex": [
       "$$1.0$$"
      ],
      "text/plain": [
       "1.00000000000000"
      ]
     },
     "execution_count": 113,
     "metadata": {},
     "output_type": "execute_result"
    }
   ],
   "source": [
    "s0=solutions[0]\n",
    "A.subs(m,s0).evalf()"
   ]
  },
  {
   "cell_type": "markdown",
   "metadata": {},
   "source": [
    "## Differential equations \n",
    "\n",
    "Sympy can solve differential equations like\n",
    "\n",
    "$$u'(t)=a u(t) \\qquad a \\in R$$ \n",
    "\n",
    "which is an example for exponential growth (a>0) or exponential decay (a<0). Such equations can model \n",
    "the growth of microbes or radioactive disintegration."
   ]
  },
  {
   "cell_type": "code",
   "execution_count": 114,
   "metadata": {},
   "outputs": [
    {
     "data": {
      "image/png": "[encoded data removed]",
      "text/latex": [
       "$$u{\\left (t \\right )} = C_{1} e^{a t}$$"
      ],
      "text/plain": [
       "           a⋅t\n",
       "u(t) = C₁⋅ℯ   "
      ]
     },
     "execution_count": 114,
     "metadata": {},
     "output_type": "execute_result"
    }
   ],
   "source": [
    "u=sp.Function('u')\n",
    "t=sp.symbols('t')\n",
    "a=sp.symbols('a')\n",
    "sp.dsolve(u(t).diff(t, 1) - a*u(t))"
   ]
  },
  {
   "cell_type": "markdown",
   "metadata": {},
   "source": [
    "## Task \n",
    "\n",
    "Solve the problem for the logistic equation\n",
    "\n",
    "$$ u'(t) = au(t) - bu^2(t) $$\n",
    "\n",
    "and interpret the solution for $a=b=1$. Find out if there exist equilibrium states where $u(t)=const$ which is equivalent to $u'(t)=0$\n",
    "\n"
   ]
  },
  {
   "cell_type": "code",
   "execution_count": 118,
   "metadata": {},
   "outputs": [
    {
     "data": {
      "image/png": "[encoded data removed]",
      "text/latex": [
       "$$u{\\left (t \\right )} = \\frac{a e^{a \\left(C_{1} + t\\right)}}{b \\left(e^{a \\left(C_{1} + t\\right)} - 1\\right)}$$"
      ],
      "text/plain": [
       "             a⋅(C₁ + t)   \n",
       "          a⋅ℯ             \n",
       "u(t) = ───────────────────\n",
       "         ⎛ a⋅(C₁ + t)    ⎞\n",
       "       b⋅⎝ℯ           - 1⎠"
      ]
     },
     "execution_count": 118,
     "metadata": {},
     "output_type": "execute_result"
    }
   ],
   "source": [
    "u=sp.Function('u')\n",
    "t=sp.symbols('t')\n",
    "a=sp.symbols('a')\n",
    "b=sp.symbols('b')\n",
    "logestic_solutions=sp.dsolve(u(t).diff(t,1)-a*u(t)+b*u(t)**2 )\n",
    "logestic_solutions"
   ]
  },
  {
   "cell_type": "code",
   "execution_count": 124,
   "metadata": {},
   "outputs": [],
   "source": [
    "logestic_solutions11=logestic_solutions.subs([(a,1),(b,1)])"
   ]
  },
  {
   "cell_type": "code",
   "execution_count": 125,
   "metadata": {},
   "outputs": [
    {
     "data": {
      "image/png": "[encoded data removed]",
      "text/latex": [
       "$$\\left [ \\right ]$$"
      ],
      "text/plain": [
       "[]"
      ]
     },
     "execution_count": 125,
     "metadata": {},
     "output_type": "execute_result"
    }
   ],
   "source": [
    "sp.solve(sp.diff(logestic_solutions11,t)) # Does it wat we need?"
   ]
  },
  {
   "cell_type": "code",
   "execution_count": null,
   "metadata": {},
   "outputs": [],
   "source": []
  }
 ],
 "metadata": {
  "kernelspec": {
   "display_name": "Python 3",
   "language": "python",
   "name": "python3"
  },
  "language_info": {
   "codemirror_mode": {
    "name": "ipython",
    "version": 3
   },
   "file_extension": ".py",
   "mimetype": "text/x-python",
   "name": "python",
   "nbconvert_exporter": "python",
   "pygments_lexer": "ipython3",
   "version": "3.7.1"
  }
 },
 "nbformat": 4,
 "nbformat_minor": 4
}
