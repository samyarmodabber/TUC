{
 "cells": [
  {
   "cell_type": "markdown",
   "metadata": {},
   "source": [
    "## Solve the linear system\n",
    "We want to solve the linear system $$Ax=b$$ and we split the matrix into first unknown matrices $M$ and $N$\n",
    "as follows \n",
    "$$A=M-N$$\n",
    "where we assume that $M$ is invertible. We can then write our linear system as follows\n",
    "\\begin{align}\n",
    "Ax&=b\\\\\n",
    "\\Leftrightarrow&\\quad =b\\\\\n",
    "\\Leftrightarrow&\\quad  Mx-Nx=b\\\\\n",
    "\\Leftrightarrow&\\quad  Mx=b+Nx\\\\\n",
    "\\Leftrightarrow&\\quad  x=M^{-1}b+M^{-1}Nx\\\\\n",
    "\\Leftrightarrow&\\quad  x=M^{-1}b+M^{-1}(M-A)x\\\\\n",
    "\\Leftrightarrow&\\quad  x=M^{-1}b+(I-M^{-1}A)x\\\\\n",
    "\\Leftrightarrow&\\quad  x=x+M^{-1}(b-Ax)\\\\\n",
    "\\end{align}\n",
    "so far it seems nothing is gained but let's turn this into an iteration\n",
    "$$\n",
    "x^{(k+1)}=x^{(k)}+M^{-1}(b-Ax^{(k)}).\n",
    "$$\n",
    "This method does work quite well under certain circumstances. We now want to create an actual example and for that choose \n",
    "$$\n",
    "M=D\n",
    "$$\n",
    "with $D$ the diagonal of $A$. This is the so-called Jacobi iteration. Please implement a function that given a right hand side and a matrix implements this method. You can use the norm of the residual as a measure of convergence, i.e.,\n",
    "$$\n",
    "r^{(k)}=b-Ax^{(k)}.\n",
    "$$\n",
    "You can start with the zero vector for $x^{(0)}$.\n"
   ]
  },
  {
   "cell_type": "code",
   "execution_count": 1,
   "metadata": {},
   "outputs": [],
   "source": [
    "import numpy as np\n",
    "import scipy\n",
    "from scipy import linalg as la\n",
    "from scipy import optimize\n",
    "import scipy.sparse as spsp"
   ]
  },
  {
   "cell_type": "code",
   "execution_count": 2,
   "metadata": {},
   "outputs": [],
   "source": [
    "# function should return solution x and \n",
    "# number of iteration, such it can be called as\n",
    "# (x,it)=jacobi(A,b,maxiter,tol,verbose)\n",
    "# if verbose==0 the function should not print out messages\n",
    "def jacobi(A,b,maxiter,tol,verbose):\n",
    "    xOld=np.zeros(len(b))\n",
    "    D = np.diag(np.diag(A))\n",
    "    LU = A - D\n",
    "    DInv = np.diag(1 / np.diag(D))\n",
    "    for i in range(maxiter):\n",
    "        \n",
    "        xNew = np.dot(DInv, b - np.dot(LU, xOld))\n",
    "        if np.linalg.norm(xNew - xOld) < tol:\n",
    "            if verbose==1:\n",
    "                print(f'number of iteration:{i}')\n",
    "            return (xNew ,i)\n",
    "        xOld = xNew    "
   ]
  },
  {
   "cell_type": "markdown",
   "metadata": {},
   "source": [
    "Now check out if our iteration converges, at first with random matrx and random right hand side"
   ]
  },
  {
   "cell_type": "code",
   "execution_count": 3,
   "metadata": {},
   "outputs": [],
   "source": [
    "n = 50\n",
    "A = np.random.rand(n,n)\n",
    "b = np.random.rand(n,1)"
   ]
  },
  {
   "cell_type": "code",
   "execution_count": 4,
   "metadata": {},
   "outputs": [
    {
     "ename": "TypeError",
     "evalue": "cannot unpack non-iterable NoneType object",
     "output_type": "error",
     "traceback": [
      "\u001b[1;31m---------------------------------------------------------------------------\u001b[0m",
      "\u001b[1;31mTypeError\u001b[0m                                 Traceback (most recent call last)",
      "\u001b[1;32m<ipython-input-4-1014afcb6ac8>\u001b[0m in \u001b[0;36m<module>\u001b[1;34m\u001b[0m\n\u001b[1;32m----> 1\u001b[1;33m \u001b[1;33m(\u001b[0m\u001b[0mx\u001b[0m\u001b[1;33m,\u001b[0m\u001b[0mit\u001b[0m\u001b[1;33m)\u001b[0m\u001b[1;33m=\u001b[0m\u001b[0mjacobi\u001b[0m\u001b[1;33m(\u001b[0m\u001b[0mA\u001b[0m\u001b[1;33m,\u001b[0m\u001b[0mb\u001b[0m\u001b[1;33m,\u001b[0m\u001b[1;36m10\u001b[0m\u001b[1;33m,\u001b[0m\u001b[1;36m1e-5\u001b[0m\u001b[1;33m,\u001b[0m\u001b[1;36m1\u001b[0m\u001b[1;33m)\u001b[0m\u001b[1;33m\u001b[0m\u001b[1;33m\u001b[0m\u001b[0m\n\u001b[0m\u001b[0;32m      2\u001b[0m \u001b[0mprint\u001b[0m\u001b[1;33m(\u001b[0m\u001b[0mx\u001b[0m\u001b[1;33m)\u001b[0m\u001b[1;33m\u001b[0m\u001b[1;33m\u001b[0m\u001b[0m\n",
      "\u001b[1;31mTypeError\u001b[0m: cannot unpack non-iterable NoneType object"
     ]
    }
   ],
   "source": [
    "(x,it)=jacobi(A,b,10,1e-5,1)\n",
    "print(x)"
   ]
  },
  {
   "cell_type": "markdown",
   "metadata": {},
   "source": [
    "It seems not to converge, lets try another matrix, for example we make A diagonal dominant by replacing \n",
    "$A_{ii}$ with the sum of row $i$.\n",
    "\n"
   ]
  },
  {
   "cell_type": "code",
   "execution_count": 9,
   "metadata": {},
   "outputs": [
    {
     "name": "stdout",
     "output_type": "stream",
     "text": [
      "number of iteration:561\n",
      "[[0.01980736 0.01980736 0.01980736 ... 0.01980736 0.01980736 0.01980736]\n",
      " [0.00326201 0.00326201 0.00326201 ... 0.00326201 0.00326201 0.00326201]\n",
      " [0.02849689 0.02849689 0.02849689 ... 0.02849689 0.02849689 0.02849689]\n",
      " ...\n",
      " [0.01135086 0.01135086 0.01135086 ... 0.01135086 0.01135086 0.01135086]\n",
      " [0.02267074 0.02267074 0.02267074 ... 0.02267074 0.02267074 0.02267074]\n",
      " [0.00785194 0.00785194 0.00785194 ... 0.00785194 0.00785194 0.00785194]]\n"
     ]
    }
   ],
   "source": [
    "A2=A.copy()\n",
    "n1=np.ones((n,1))\n",
    "rs=A2@n1\n",
    "#print(n1)\n",
    "#print(rs)\n",
    "\n",
    "for i in range (n):\n",
    "    A2[i,i]=rs[i]\n",
    "#print(A2)   \n",
    "(x,it)=jacobi(A2,b,1000,1e-5,1)\n",
    "print(x)"
   ]
  },
  {
   "cell_type": "markdown",
   "metadata": {},
   "source": [
    "The Jacobi iteration computes the vector \n",
    "$ x^{(k+1)} $ from values of vector $ x^{(k)} $. \n",
    "Now the idea comes up to use for the computation of the component $i$ of $x^{(k+1)}$ the already computed components $x^{(k+1)}_1 \\cdots x^{(k+1)}_{i-1}$ from the new vector $x^{(k+1)}$  instead the components of the old vector $x^{(k)}$.\n",
    "\n",
    "This leads to the Gauss-Seidel iteration,\n",
    "instead of choosing\n",
    "$$ M=D $$ with $D$ the diagonal of $A$ in the Jacobi iteration now choose\n",
    "$$ M=(D+L) $$ where $L$ is the lower triangle of $A$.\n",
    "\n",
    "Please implement again a function that given a right hand side and a matrix implements this method. \n",
    "You can use the norm of the residual as a measure of convergence, i.e.,\n",
    "$$\n",
    "r^{(k)}=b-Ax^{(k)}.\n",
    "$$\n",
    "You can start with the zero vector for $x^{(0)}$.\n"
   ]
  },
  {
   "cell_type": "code",
   "execution_count": 10,
   "metadata": {},
   "outputs": [],
   "source": [
    "# function should return solution x and \n",
    "# number of iteration, such it can be called as\n",
    "# (x,it)=gauss_seidel(A,b,maxiter,tol,verbose)\n",
    "# if verbose==0 the function should not print out messages\n",
    "def gauss_seidel(A,b,maxiter,tol,verbose):\n",
    "    xOld=np.zeros(len(b))\n",
    "    M = np.tril(A)\n",
    "    MI=np.linalg.inv(M)\n",
    "    U = A - M\n",
    "    MIb=MI@b\n",
    "    MIU=MI@U\n",
    "    for i in range(maxiter):\n",
    "        xNew = MIb-MIU@xOld\n",
    "        if np.linalg.norm(xNew - xOld) < tol:\n",
    "            if verbose==1:\n",
    "                print(f'number of iteration:{i}')\n",
    "            return (xNew ,i)\n",
    "        xOld = xNew    \n",
    "\n",
    "    return (xold,k)\n"
   ]
  },
  {
   "cell_type": "code",
   "execution_count": 11,
   "metadata": {},
   "outputs": [
    {
     "name": "stdout",
     "output_type": "stream",
     "text": [
      "number of iteration:8\n",
      "[[0.01980744 0.01980744 0.01980744 ... 0.01980744 0.01980744 0.01980744]\n",
      " [0.0032621  0.0032621  0.0032621  ... 0.0032621  0.0032621  0.0032621 ]\n",
      " [0.02849698 0.02849698 0.02849698 ... 0.02849698 0.02849698 0.02849698]\n",
      " ...\n",
      " [0.01135096 0.01135096 0.01135096 ... 0.01135096 0.01135096 0.01135096]\n",
      " [0.02267083 0.02267083 0.02267083 ... 0.02267083 0.02267083 0.02267083]\n",
      " [0.00785204 0.00785204 0.00785204 ... 0.00785204 0.00785204 0.00785204]]\n",
      "8\n"
     ]
    }
   ],
   "source": [
    "(x,it)=gauss_seidel(A2,b,1000,1e-5,verbose=1)\n",
    "print(x)\n",
    "print(it)"
   ]
  },
  {
   "cell_type": "code",
   "execution_count": null,
   "metadata": {},
   "outputs": [],
   "source": []
  },
  {
   "cell_type": "markdown",
   "metadata": {},
   "source": [
    "Now we want to examine the convergence of Jacobi and Gauss-Seidel iteration for different system sizes.\n",
    "Create a plot of iteration numbers for system sizes $n=5,10,15,20,25,30,40,50$. Use a matrix $A$ and vector $b$\n",
    "of your choice but ensure that this matrix will converge at all."
   ]
  },
  {
   "cell_type": "code",
   "execution_count": null,
   "metadata": {},
   "outputs": [],
   "source": [
    "# TODO\n",
    "\n",
    "\n",
    "# get the plot lib \n",
    "import matplotlib.pyplot as plt\n",
    "\n",
    "\n",
    "# TODO\n",
    "\n",
    "#plt.show\n",
    "    \n",
    "    "
   ]
  }
 ],
 "metadata": {
  "kernelspec": {
   "display_name": "Python 3",
   "language": "python",
   "name": "python3"
  },
  "language_info": {
   "codemirror_mode": {
    "name": "ipython",
    "version": 3
   },
   "file_extension": ".py",
   "mimetype": "text/x-python",
   "name": "python",
   "nbconvert_exporter": "python",
   "pygments_lexer": "ipython3",
   "version": "3.8.3"
  }
 },
 "nbformat": 4,
 "nbformat_minor": 4
}
