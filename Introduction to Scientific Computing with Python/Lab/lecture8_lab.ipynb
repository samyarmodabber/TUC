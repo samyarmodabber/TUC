{
 "cells": [
  {
   "cell_type": "markdown",
   "metadata": {},
   "source": [
    "# Working with networks and Graphs\n",
    "\n",
    "In this lab we will use **networkx** to work with graphs and use it to analyse social networks, like given in the lecture.\n",
    "\n"
   ]
  },
  {
   "cell_type": "code",
   "execution_count": 28,
   "metadata": {},
   "outputs": [
    {
     "name": "stdout",
     "output_type": "stream",
     "text": [
      "8\n",
      "6\n"
     ]
    },
    {
     "data": {
      "image/png": "[encoded data removed]",
      "text/plain": [
       "<Figure size 432x288 with 1 Axes>"
      ]
     },
     "metadata": {},
     "output_type": "display_data"
    }
   ],
   "source": [
    "\n",
    "import networkx as nx\n",
    "import matplotlib.pyplot as plt\n",
    "import scipy as sp\n",
    "\n",
    "\n",
    "G=nx.Graph()\n",
    "\n",
    "G.add_nodes_from([1,2,3,4,5,6,7,8])\n",
    "G.add_edges_from([(1, 2), (1, 3),(3,4),(5,8),(5,7),(6,8) ])\n",
    "\n",
    "print(G.number_of_nodes())\n",
    "print(G.number_of_edges())\n",
    "\n",
    "plt.subplot(121)\n",
    "nx.draw(G, with_labels=True, font_weight='bold')\n",
    "plt.show()\n"
   ]
  },
  {
   "cell_type": "markdown",
   "metadata": {},
   "source": [
    "## Task \n",
    " \n",
    "Write a function which creates for given Graph G the **Graph-Laplacian-Matrix**, computes her eigenvalues and counts the number of zero eigenvalues. Return this number of zero eigenvalues. Think about this number and components of the graph."
   ]
  },
  {
   "cell_type": "code",
   "execution_count": 29,
   "metadata": {},
   "outputs": [],
   "source": [
    "def components(G):\n",
    "    #TODO\n",
    "    c=0\n",
    "    return c\n",
    "\n"
   ]
  },
  {
   "cell_type": "code",
   "execution_count": 30,
   "metadata": {},
   "outputs": [
    {
     "name": "stdout",
     "output_type": "stream",
     "text": [
      "G has 0 components\n"
     ]
    }
   ],
   "source": [
    "# now check this function for our graph\n",
    "print ( 'G has %d components' % ( components(G) ) )"
   ]
  },
  {
   "cell_type": "markdown",
   "metadata": {},
   "source": [
    "Now add 1 edge between the componnts of the graph and check again:"
   ]
  },
  {
   "cell_type": "code",
   "execution_count": 31,
   "metadata": {},
   "outputs": [
    {
     "name": "stdout",
     "output_type": "stream",
     "text": [
      "G has 0 components\n"
     ]
    }
   ],
   "source": [
    "G.add_edge(3,5)\n",
    "print ( 'G has %d components' % ( components(G) ) )"
   ]
  },
  {
   "cell_type": "markdown",
   "metadata": {},
   "source": [
    "## The Complete Graph\n",
    "\n",
    "Write a function which creates the so called **Complete Graph**, consisting of n nodes and edges between all nodes."
   ]
  },
  {
   "cell_type": "code",
   "execution_count": 32,
   "metadata": {},
   "outputs": [],
   "source": [
    "# Own implementation instead of\n",
    "# G = nx.complete_graph(n) \n",
    "def compl_graph(n):\n",
    "    # TODO\n",
    "    0\n",
    "    #return T\n",
    "\n",
    "    "
   ]
  },
  {
   "cell_type": "markdown",
   "metadata": {},
   "source": [
    "Now create the complete graphs for n=1,2 ... let's say 6 , count the edges, plot the graphs and think about:\n",
    "* a formula for the number of edges\n",
    "* which of the graphs can be plotted without having edge intersections ? "
   ]
  },
  {
   "cell_type": "code",
   "execution_count": 33,
   "metadata": {},
   "outputs": [
    {
     "name": "stdout",
     "output_type": "stream",
     "text": [
      "#TODO\n",
      "#TODO\n",
      "#TODO\n",
      "#TODO\n",
      "#TODO\n",
      "#TODO\n"
     ]
    }
   ],
   "source": [
    "nmax=6\n",
    "# TODO\n",
    "for i in range(1,nmax+1):\n",
    "    print('#TODO')\n",
    "    "
   ]
  },
  {
   "cell_type": "markdown",
   "metadata": {},
   "source": [
    "## Social networks\n",
    "\n",
    "Here we want to create a random social network and analyse it.\n",
    "At first write a function which creates randomly the graph of a social network for a list of given names and a probability for a connection between two names."
   ]
  },
  {
   "cell_type": "code",
   "execution_count": 34,
   "metadata": {},
   "outputs": [],
   "source": [
    "import random\n",
    "def make_network(p,names):\n",
    "    print('TODO')\n",
    "    \n",
    "    \n",
    "    "
   ]
  },
  {
   "cell_type": "code",
   "execution_count": 35,
   "metadata": {},
   "outputs": [
    {
     "name": "stdout",
     "output_type": "stream",
     "text": [
      "TODO\n"
     ]
    }
   ],
   "source": [
    "names=['Anton','Berta','Cäsar','Dieter','Elli','Franz','Greta']\n",
    "p=0.6\n",
    "G=make_network(p,names)\n"
   ]
  },
  {
   "cell_type": "code",
   "execution_count": null,
   "metadata": {},
   "outputs": [],
   "source": []
  },
  {
   "cell_type": "markdown",
   "metadata": {},
   "source": [
    "Now write a function which analyses the network, like in the lecture. Play around with different connection probabilities p."
   ]
  },
  {
   "cell_type": "code",
   "execution_count": 36,
   "metadata": {},
   "outputs": [],
   "source": [
    "# TODO"
   ]
  },
  {
   "cell_type": "markdown",
   "metadata": {},
   "source": [
    "Now we change the input, such that we no longer use a global probability p for all people,\n",
    "we give everybody hist own probability how he likes to interact with other.\n",
    "Use a list of dictionaries, like given in the example:"
   ]
  },
  {
   "cell_type": "code",
   "execution_count": 37,
   "metadata": {},
   "outputs": [
    {
     "name": "stdout",
     "output_type": "stream",
     "text": [
      "[{'name': 'Anton', 'prob': 0.2}, {'name': 'Berta', 'prob': 0.8}]\n"
     ]
    }
   ],
   "source": [
    "mynetwork2=[\n",
    "   {\"name\":\"Anton\",\"prob\":0.2},\n",
    "   {\"name\":\"Berta\",\"prob\":0.8}\n",
    "]\n",
    "\n",
    "print(mynetwork2)"
   ]
  },
  {
   "cell_type": "code",
   "execution_count": 38,
   "metadata": {},
   "outputs": [],
   "source": [
    "# create the Graph for given network dictionary list\n",
    "def make_network2(npdict_list):\n",
    "    print(\"TODO\")"
   ]
  },
  {
   "cell_type": "markdown",
   "metadata": {},
   "source": [
    "Expand the dictionary list from above to approx. 20 names with different connectivity-probabilities. ( Hint: create influencer and outsider too).\n",
    "Analyse the network again.\n",
    "\n"
   ]
  },
  {
   "cell_type": "code",
   "execution_count": 39,
   "metadata": {},
   "outputs": [],
   "source": [
    "#TODO"
   ]
  }
 ],
 "metadata": {
  "kernelspec": {
   "display_name": "Python 3",
   "language": "python",
   "name": "python3"
  },
  "language_info": {
   "codemirror_mode": {
    "name": "ipython",
    "version": 3
   },
   "file_extension": ".py",
   "mimetype": "text/x-python",
   "name": "python",
   "nbconvert_exporter": "python",
   "pygments_lexer": "ipython3",
   "version": "3.7.1"
  }
 },
 "nbformat": 4,
 "nbformat_minor": 4
}
