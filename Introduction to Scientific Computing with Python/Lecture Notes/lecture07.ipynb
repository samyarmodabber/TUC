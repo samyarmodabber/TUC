{
 "cells": [
  {
   "cell_type": "markdown",
   "metadata": {
    "slideshow": {
     "slide_type": "slide"
    }
   },
   "source": [
    "# Logistic regression\n",
    "\n",
    "To quote Daniela Witten, one of the authors of the book *An introduction to statistical learning* says\n",
    "\n",
    "> \"When we raise money it’s AI, when we hire it's machine learning, and when we do the work it's logistic regression.\"\n",
    "\n",
    "This is one of the most important methods in statistics and machine learning to learn/compute a classification method. "
   ]
  },
  {
   "cell_type": "markdown",
   "metadata": {
    "slideshow": {
     "slide_type": "slide"
    }
   },
   "source": [
    "It relies on the sigmoid function\n",
    "$$\n",
    "\\sigma(x)=\\frac{1}{1+\\mathrm{exp}(-x)}.\n",
    "$$"
   ]
  },
  {
   "cell_type": "code",
   "execution_count": 65,
   "metadata": {
    "slideshow": {
     "slide_type": "slide"
    }
   },
   "outputs": [
    {
     "data": {
      "text/plain": [
       "[<matplotlib.lines.Line2D at 0x7fcc47ff09d0>]"
      ]
     },
     "execution_count": 65,
     "metadata": {},
     "output_type": "execute_result"
    },
    {
     "data": {
      "image/png": "[encoded data removed]",
      "text/plain": [
       "<Figure size 432x288 with 1 Axes>"
      ]
     },
     "metadata": {
      "needs_background": "light"
     },
     "output_type": "display_data"
    }
   ],
   "source": [
    "import matplotlib.pylab as plt\n",
    "import numpy as np\n",
    "import sklearn.datasets\n",
    "x = np.arange(-12, 12, 0.1)\n",
    "f = 1 / (1 + np.exp(-x))\n",
    "plt.plot(x, f)"
   ]
  },
  {
   "cell_type": "markdown",
   "metadata": {
    "slideshow": {
     "slide_type": "slide"
    }
   },
   "source": [
    "# The Math: Defining a Likelihood Function\n",
    "\n",
    "The logistic regression problem is based on a statistical viewpoint of machine learning. The basis is the assumption for a binary classification to put things into a category $0$ and $1$. We want to understand the binary outcome given explanatory variables. This can be achieved using a Bernoulli distribution\n",
    "$$\n",
    "0, 0, 1, 0, 1,0,1,1,0\n",
    "$$"
   ]
  },
  {
   "cell_type": "markdown",
   "metadata": {
    "slideshow": {
     "slide_type": "slide"
    }
   },
   "source": [
    "and a basic statistics course tells us that the probability density function of a Bernoulli distributed variable is\n",
    "$$\n",
    "P(Y=y\\mid X=x,p)=p^y(1-p)^{1-y}\n",
    "$$\n",
    "with $y\\in\\left\\lbrace0,1\\right\\rbrace$ the response, where $1$ has probability $p$ and $0$ probability $1-p$, and an observed input $x$. We now want to find the $p$ that generates the above numbers with $p^{y_1}(1-p)^{1-y_1}$ for the first number and $p^{y_2}(1-p)^{1-y_2}$ for the second and so on. "
   ]
  },
  {
   "cell_type": "markdown",
   "metadata": {
    "slideshow": {
     "slide_type": "slide"
    }
   },
   "source": [
    "If we assume independence of the variable the joint probability distribution is the product of such terms. It can be shown that an important function in this context is the sigmoid function\n",
    "$$\n",
    "\\sigma(z)=\\frac{1}{1+e^{-z}}\n",
    "$$\n",
    "used to model the probability density. Assuming a linear relationship\n",
    "$$\n",
    "y=\\mathbf{X}^{T}\\beta+\\varepsilon\n",
    "$$\n",
    "with $\\mathbf{X}=[x_1,x_2,\\ldots,x_n]$ with $x_i\\in\\mathbb{R}^d$. "
   ]
  },
  {
   "cell_type": "markdown",
   "metadata": {
    "slideshow": {
     "slide_type": "slide"
    }
   },
   "source": [
    "The components in the error vector $\\varepsilon$ \n",
    "are computed from\n",
    "$$\n",
    "\\varepsilon_i=\n",
    "\\left\\lbrace\n",
    "\\begin{array}{cc}\n",
    "1-p_i&y_i=1\\textrm{ with probability } p_i\\\\\n",
    "-p_i&y_i=0\\textrm{ with probability } 1-p_i\\\\\n",
    "\\end{array}\n",
    "\\right.\n",
    "$$"
   ]
  },
  {
   "cell_type": "markdown",
   "metadata": {
    "slideshow": {
     "slide_type": "slide"
    }
   },
   "source": [
    "We can write this also as\n",
    "$$\n",
    "\\sigma(\\beta^Tx)=\\frac{1}{1+e^{-\\beta^Tx}}\n",
    "$$\n",
    "where this represents the unknown probability $p$. Using the sigmoid or logistic function as probability $p$ we obtain now\n",
    "$$\n",
    "P(Y=y\\mid X=x,p)=\\sigma(\\beta^Tx)^y(1-\\sigma(\\beta^Tx))^{1-y}.\n",
    "$$ \n",
    "We now consider the likelihood function\n",
    "$$\n",
    "L(\\beta)=\n",
    "\\prod_{i=1}^{n}P(Y=y_i\\mid X=x_i)\n",
    "$$\n",
    "for independent variables or equivalently\n",
    "$$\n",
    "L(\\beta)=\n",
    "\\prod_{i=1}^{n}\\sigma(\\beta^Tx_i)^{y_i}(1-\\sigma(\\beta^Tx_i))^{1-y_{i}}.\n",
    "$$"
   ]
  },
  {
   "cell_type": "markdown",
   "metadata": {
    "slideshow": {
     "slide_type": "slide"
    }
   },
   "source": [
    "We then obtain the log-likelihood function  as\n",
    "$$\n",
    "L_{\\log}(\\beta)=\n",
    "\\sum_{i=1}^{n}{y_i}\\log(\\sigma(\\beta^Tx_i))+\\left(1-y_{i}\\right)\\log(1-\\sigma(\\beta^Tx_i)).\n",
    "$$\n",
    "and we are interested in maximization of this quantity. We consider the gradient of $L_{\\log}(\\beta)$ via"
   ]
  },
  {
   "cell_type": "markdown",
   "metadata": {
    "slideshow": {
     "slide_type": "slide"
    }
   },
   "source": [
    "\\begin{align}\n",
    "\\frac{\\partial L_{\\log}(\\beta)}{\\partial \\beta_j}&=\\frac{\\partial }{\\partial \\beta_j}\\left(\t\\sum_{i=1}^{n}{y_i}\\log(\\sigma(\\beta^Tx_i))+\\left(1-y_{i}\\right)\\log(1-\\sigma(\\beta^Tx_i))\\right)\\\\\n",
    "&=\\sum_{i=1}^{n}{y_i}\\frac{\\partial }{\\partial \\beta_j}\\log(\\sigma(\\beta^Tx_i))+\\left(1-y_{i}\\right)\\frac{\\partial }{\\partial \\beta_j}\\log(1-\\sigma(\\beta^Tx_i))\\\\\n",
    "&=\\sum_{i=1}^{n}{y_i}\\frac{x_i^{(j)}\\sigma'(\\beta^Tx_i)}{\\sigma(\\beta^Tx_i)}+\\left(1-y_{i}\\right)\\frac{(-x_i^{(j)}\\sigma'(\\beta^Tx_i)) }{(1-\\sigma(\\beta^Tx_i))}\\\\\n",
    "&=\\sum_{i=1}^{n}{y_i}\\frac{x_i^{(j)}\\sigma(\\beta^Tx_i)(1-\\sigma(\\beta^Tx_i))}{\\sigma(\\beta^Tx_i)}+\\left(1-y_{i}\\right)\\frac{(-x_i^{(j)}\\sigma(\\beta^Tx_i)(1-\\sigma(\\beta^Tx_i)) }{(1-\\sigma(\\beta^Tx_i))}\\\\\n",
    "&=\\sum_{i=1}^{n}{y_i}x_i^{(j)}(1-\\sigma(\\beta^Tx_i))+\\left(1-y_{i}\\right)(-x_i^{(j)}\\sigma(\\beta^Tx_i)\\\\\n",
    "&=\\sum_{i=1}^{n}{y_i}x_i^{(j)}(1-\\sigma(\\beta^Tx_i))+y_{i}x_i^{(j)}\\sigma(\\beta^Tx_i)-x_i^{(j)}\\sigma(\\beta^Tx_i)\\\\\n",
    "&=\\sum_{i=1}^{n}{y_i}x_i^{(j)}-x_i^{(j)}\\sigma(\\beta^Tx_i)\\\\\n",
    "&=\\sum_{i=1}^{n}x_i^{(j)}\\left({y_i}-\\sigma(\\beta^Tx_i)\\right)\n",
    "\\end{align}"
   ]
  },
  {
   "cell_type": "markdown",
   "metadata": {
    "slideshow": {
     "slide_type": "slide"
    }
   },
   "source": [
    "and based on this the gradient is given as\n",
    "$$\n",
    "\\nabla L_{\\log}(\\beta)=\\mathbf{X}\\left({y}-\\mathbf{p}\\right)\n",
    "$$\n",
    "with \n",
    "$\\mathbf{p}_i=\\sigma(\\beta^Tx_i)$."
   ]
  },
  {
   "cell_type": "markdown",
   "metadata": {
    "slideshow": {
     "slide_type": "slide"
    }
   },
   "source": [
    "Now, we also need the Hessian matrix, which can be computed entry-wise via the following formula\n",
    "\n",
    "\\begin{align}\n",
    "\\frac{\\partial^2 L_{\\log}(\\beta)}{\\partial \\beta_k\\partial \\beta_j}\n",
    "&=\\frac{\\partial}{\\partial \\beta_k}\\sum_{i=1}^{n}{y_i}x_i^{(j)}-x_i^{(j)}\\sigma(\\beta^Tx_i)\\\\\n",
    "&=\\sum_{i=1}^{n}-x_i^{(j)}x_i^{(k)}\\sigma(\\beta^Tx_i)(1-\\sigma(\\beta^Tx_i))\\\\\n",
    "&=\\sum_{i=1}^{n}-x_i^{(j)}x_i^{(k)}\\mathbf{p}_i(1-\\mathbf{p}_i):=(-\\mathbf{X} D\\mathbf{X}^T)_{kj}\\\\\n",
    "\\end{align}\n",
    "with\n",
    "$$\n",
    "D:=\n",
    "\\begin{bmatrix}\n",
    "\\sigma(\\beta^Tx_1)(1-\\sigma(\\beta^Tx_1))&&&\\\\\n",
    "&\\sigma(\\beta^Tx_2)(1-\\sigma(\\beta^Tx_2))&&\\\\\n",
    "&&\\ddots&\\\\\n",
    "&&&\\sigma(\\beta^Tx_n)(1-\\sigma(\\beta^Tx_n))\\\\\n",
    "\\end{bmatrix}.\n",
    "$$\t"
   ]
  },
  {
   "cell_type": "markdown",
   "metadata": {
    "slideshow": {
     "slide_type": "slide"
    }
   },
   "source": [
    "This leads us to the following Newton iteration\n",
    "$$\n",
    "\\beta=\\bar{\\beta}+(\\mathbf{X}D\\mathbf{X}^{T})^{-1}\\mathbf{X}\\left({y}-\\mathbf{p}\\right)\n",
    "$$\n",
    "where $\\bar{\\beta}$ indicates the iterate from the previous Newton iteration. "
   ]
  },
  {
   "cell_type": "markdown",
   "metadata": {
    "slideshow": {
     "slide_type": "slide"
    }
   },
   "source": [
    "If we decide to include a regularization term in the log-likelihood\n",
    "$$\n",
    "L_{\\log}(\\beta)=\n",
    "\\sum_{i=1}^{n}{y_i}\\log(\\sigma(\\beta^Tx_i))+\\left(1-y_{i}\\right)\\log(1-\\sigma(\\beta^Tx_i))-\\frac{\\lambda}{2}\\Vert{\\beta}\\Vert^2\n",
    "$$"
   ]
  },
  {
   "cell_type": "markdown",
   "metadata": {
    "slideshow": {
     "slide_type": "slide"
    }
   },
   "source": [
    "\\begin{align}\n",
    "\\frac{\\partial L_{\\log}(\\beta)}{\\partial \\beta_j}&=\\frac{\\partial }{\\partial \\beta_j}\\left(\t\\sum_{i=1}^{n}{y_i}\\log(\\sigma(\\beta^Tx_i))+\\left(1-y_{i}\\right)\\log(1-\\sigma(\\beta^Tx_i))\\right)-\\frac{\\partial }{\\partial \\beta_j} \\frac{\\lambda}{2}\\Vert{\\beta}\\Vert^2\\\\\n",
    "&=\\sum_{i=1}^{n}x_i^{(j)}\\left({y_i}-\\sigma(\\beta^Tx_i)\\right)-\\frac{\\partial }{\\partial \\beta_j} \\frac{\\lambda}{2}\\sum_{i=1}^{n}\\beta_i^2\\\\\n",
    "&=\\sum_{i=1}^{n}x_i^{(j)}\\left({y_i}-\\sigma(\\beta^Tx_i)\\right)-\\lambda\\beta_j\n",
    "\\end{align}\n",
    "and as a result\n",
    "$$\n",
    "\\nabla L_{\\log}(\\beta)=\\mathbf{X}\\left({y}-\\mathbf{p}\\right)-\\lambda \\beta\n",
    "$$"
   ]
  },
  {
   "cell_type": "markdown",
   "metadata": {
    "slideshow": {
     "slide_type": "slide"
    }
   },
   "source": [
    "Now, we also need the Hessian matrix, which can be computed entry-wise via the following formula\n",
    "\n",
    "\\begin{align}\n",
    "\\frac{\\partial^2 L_{\\log}(\\beta)}{\\partial \\beta_k\\partial \\beta_j}\n",
    "&=\\frac{\\partial}{\\partial \\beta_k}\\left(\\sum_{i=1}^{n}{y_i}x_i^{(j)}-x_i^{(j)}\\sigma(\\beta^Tx_i)-\\lambda \\beta_j\\right)\\\\\n",
    "&=\\sum_{i=1}^{n}-x_i^{(j)}x_i^{(k)}\\sigma(\\beta^Tx_i)(1-\\sigma(\\beta^Tx_i))-\\lambda \\delta_{kj}\\\\\n",
    "&=\\sum_{i=1}^{n}-x_i^{(j)}x_i^{(k)}\\mathbf{p}_i(1-\\mathbf{p}_i):=(-\\mathbf{X} D\\mathbf{X}^T)_{kj}-\\lambda \\delta_{kj}\\\\\n",
    "\\end{align}\n",
    "with\n",
    "$$\n",
    "D:=\n",
    "\\begin{bmatrix}\n",
    "\\sigma(\\beta^Tx_1)(1-\\sigma(\\beta^Tx_1))&&&\\\\\n",
    "&\\sigma(\\beta^Tx_2)(1-\\sigma(\\beta^Tx_2))&&\\\\\n",
    "&&\\ddots&\\\\\n",
    "&&&\\sigma(\\beta^Tx_n)(1-\\sigma(\\beta^Tx_n))\\\\\n",
    "\\end{bmatrix}.\n",
    "$$\t"
   ]
  },
  {
   "cell_type": "markdown",
   "metadata": {
    "slideshow": {
     "slide_type": "slide"
    }
   },
   "source": [
    "we obtain the following Newton scheme\n",
    "$$\n",
    "\\beta=\\bar{\\beta}+(\\mathbf{X}D\\mathbf{X}^T+\\lambda I)^{-1}\\left(\\mathbf{X}\\left({y}-\\mathbf{p}\\right)-\\lambda \\bar{\\beta}\\right)\n",
    "$$"
   ]
  },
  {
   "cell_type": "markdown",
   "metadata": {
    "slideshow": {
     "slide_type": "slide"
    }
   },
   "source": [
    "Let's try this on the famous IRIS dataset [see here](https://en.wikipedia.org/wiki/Iris_flower_data_set)\n"
   ]
  },
  {
   "cell_type": "code",
   "execution_count": 91,
   "metadata": {
    "slideshow": {
     "slide_type": "slide"
    }
   },
   "outputs": [
    {
     "name": "stdout",
     "output_type": "stream",
     "text": [
      "(150,)\n"
     ]
    }
   ],
   "source": [
    "iris = sklearn.datasets.load_iris()\n",
    "x_train = iris.data[:, :2]\n",
    "y_train = (iris.target != 0) * 1\n",
    "x_train = x_train.T\n",
    "y_train = y_train.T\n",
    "print(y_train.shape)"
   ]
  },
  {
   "cell_type": "code",
   "execution_count": 92,
   "metadata": {
    "slideshow": {
     "slide_type": "slide"
    }
   },
   "outputs": [
    {
     "data": {
      "image/png": "[encoded data removed]",
      "text/plain": [
       "<Figure size 576x432 with 1 Axes>"
      ]
     },
     "metadata": {},
     "output_type": "display_data"
    }
   ],
   "source": [
    "x_min, x_max = x_train.T[:, 0].min() - .5, x_train.T[:, 0].max() + .5\n",
    "y_min, y_max = x_train.T[:, 1].min() - .5, x_train.T[:, 1].max() + .5\n",
    "\n",
    "plt.figure(2, figsize=(8, 6))\n",
    "plt.clf()\n",
    "\n",
    "# Plot the training points\n",
    "plt.scatter(x_train[0,:], x_train[1,:], c=y_train, cmap=plt.cm.Set1,\n",
    "            edgecolor='k')\n",
    "plt.xlabel('Sepal length')\n",
    "plt.ylabel('Sepal width')\n",
    "\n",
    "plt.xlim(x_min, x_max)\n",
    "plt.ylim(y_min, y_max)\n",
    "plt.xticks(())\n",
    "plt.yticks(())\n",
    "\n",
    "intercept = np.ones((1,x_train.shape[1]))\n",
    "x_train_i = np.concatenate((x_train,intercept), axis=0)\n",
    "# x_train_i = x_train"
   ]
  },
  {
   "cell_type": "markdown",
   "metadata": {
    "slideshow": {
     "slide_type": "slide"
    }
   },
   "source": [
    "### Let's define the sigmoid function and some training data"
   ]
  },
  {
   "cell_type": "code",
   "execution_count": 93,
   "metadata": {
    "slideshow": {
     "slide_type": "slide"
    }
   },
   "outputs": [
    {
     "name": "stdout",
     "output_type": "stream",
     "text": [
      "[[0]\n",
      " [0]\n",
      " [0]\n",
      " [0]\n",
      " [0]\n",
      " [0]\n",
      " [0]\n",
      " [0]\n",
      " [0]\n",
      " [0]\n",
      " [0]\n",
      " [0]\n",
      " [0]\n",
      " [0]\n",
      " [0]\n",
      " [0]\n",
      " [0]\n",
      " [0]\n",
      " [0]\n",
      " [0]\n",
      " [0]\n",
      " [0]\n",
      " [0]\n",
      " [0]\n",
      " [0]\n",
      " [0]\n",
      " [0]\n",
      " [0]\n",
      " [0]\n",
      " [0]\n",
      " [0]\n",
      " [0]\n",
      " [0]\n",
      " [0]\n",
      " [0]\n",
      " [0]\n",
      " [0]\n",
      " [0]\n",
      " [0]\n",
      " [0]\n",
      " [0]\n",
      " [0]\n",
      " [0]\n",
      " [0]\n",
      " [0]\n",
      " [0]\n",
      " [0]\n",
      " [0]\n",
      " [0]\n",
      " [0]\n",
      " [1]\n",
      " [1]\n",
      " [1]\n",
      " [1]\n",
      " [1]\n",
      " [1]\n",
      " [1]\n",
      " [1]\n",
      " [1]\n",
      " [1]\n",
      " [1]\n",
      " [1]\n",
      " [1]\n",
      " [1]\n",
      " [1]\n",
      " [1]\n",
      " [1]\n",
      " [1]\n",
      " [1]\n",
      " [1]\n",
      " [1]\n",
      " [1]\n",
      " [1]\n",
      " [1]\n",
      " [1]\n",
      " [1]\n",
      " [1]\n",
      " [1]\n",
      " [1]\n",
      " [1]\n",
      " [1]\n",
      " [1]\n",
      " [1]\n",
      " [1]\n",
      " [1]\n",
      " [1]\n",
      " [1]\n",
      " [1]\n",
      " [1]\n",
      " [1]\n",
      " [1]\n",
      " [1]\n",
      " [1]\n",
      " [1]\n",
      " [1]\n",
      " [1]\n",
      " [1]\n",
      " [1]\n",
      " [1]\n",
      " [1]\n",
      " [1]\n",
      " [1]\n",
      " [1]\n",
      " [1]\n",
      " [1]\n",
      " [1]\n",
      " [1]\n",
      " [1]\n",
      " [1]\n",
      " [1]\n",
      " [1]\n",
      " [1]\n",
      " [1]\n",
      " [1]\n",
      " [1]\n",
      " [1]\n",
      " [1]\n",
      " [1]\n",
      " [1]\n",
      " [1]\n",
      " [1]\n",
      " [1]\n",
      " [1]\n",
      " [1]\n",
      " [1]\n",
      " [1]\n",
      " [1]\n",
      " [1]\n",
      " [1]\n",
      " [1]\n",
      " [1]\n",
      " [1]\n",
      " [1]\n",
      " [1]\n",
      " [1]\n",
      " [1]\n",
      " [1]\n",
      " [1]\n",
      " [1]\n",
      " [1]\n",
      " [1]\n",
      " [1]\n",
      " [1]\n",
      " [1]\n",
      " [1]\n",
      " [1]\n",
      " [1]\n",
      " [1]\n",
      " [1]\n",
      " [1]]\n"
     ]
    }
   ],
   "source": [
    "y_train = y_train[:,np.newaxis]\n",
    "print(y_train)"
   ]
  },
  {
   "cell_type": "code",
   "execution_count": 96,
   "metadata": {
    "slideshow": {
     "slide_type": "slide"
    }
   },
   "outputs": [
    {
     "name": "stdout",
     "output_type": "stream",
     "text": [
      "(3, 150)\n"
     ]
    }
   ],
   "source": [
    "print(x_train_i.shape)"
   ]
  },
  {
   "cell_type": "code",
   "execution_count": 98,
   "metadata": {
    "slideshow": {
     "slide_type": "slide"
    }
   },
   "outputs": [],
   "source": [
    "import numpy as np\n",
    "import matplotlib.pyplot as plt\n",
    "from numpy.linalg import inv\n",
    "from numpy import linalg as LA\n",
    "\n",
    "n=y_train.shape[0]\n",
    "\n",
    "def sigmoid(z):\n",
    "    return 1/(1+np.exp(-z))"
   ]
  },
  {
   "cell_type": "code",
   "execution_count": 103,
   "metadata": {
    "slideshow": {
     "slide_type": "slide"
    }
   },
   "outputs": [
    {
     "data": {
      "text/plain": [
       "[<matplotlib.lines.Line2D at 0x7fcc476dcd90>]"
      ]
     },
     "execution_count": 103,
     "metadata": {},
     "output_type": "execute_result"
    },
    {
     "data": {
      "image/png": "[encoded data removed]",
      "text/plain": [
       "<Figure size 432x288 with 1 Axes>"
      ]
     },
     "metadata": {
      "needs_background": "light"
     },
     "output_type": "display_data"
    }
   ],
   "source": [
    "pos = np.flatnonzero(y_train == 1)\n",
    "neg = np.flatnonzero(y_train == 0)\n",
    "\n",
    "D = np.zeros((x_train_i.shape[1],x_train_i.shape[1]))\n",
    "\n",
    "plt.plot(x_train_i[0, pos], x_train_i[1, pos], 'ro')\n",
    "plt.plot(x_train_i[0, neg], x_train_i[1, neg], 'bo')  "
   ]
  },
  {
   "cell_type": "markdown",
   "metadata": {
    "slideshow": {
     "slide_type": "slide"
    }
   },
   "source": [
    "Now the main loop!"
   ]
  },
  {
   "cell_type": "code",
   "execution_count": 104,
   "metadata": {
    "slideshow": {
     "slide_type": "slide"
    }
   },
   "outputs": [
    {
     "name": "stdout",
     "output_type": "stream",
     "text": [
      "29.99478823090076\n",
      "7.231943804354122\n",
      "6.3873372606361905\n",
      "5.795082269692554\n",
      "5.363623020737249\n",
      "5.04027181566039\n",
      "4.792588266652513\n",
      "4.599516692098444\n",
      "4.446788647042965\n",
      "4.324374516665336\n",
      "4.224994422875631\n",
      "4.143209952122904\n",
      "4.074850144530657\n",
      "4.016637841958841\n",
      "3.9659404074961837\n",
      "3.92060006404582\n",
      "3.878816649876752\n",
      "3.8390657999775204\n",
      "3.8000416763968246\n",
      "3.7606171133996624\n",
      "3.7198163661107704\n",
      "3.676797098632501\n",
      "3.6308391436938368\n",
      "3.581338113814782\n",
      "3.5278022773319115\n",
      "3.4698513260401\n",
      "3.4072158225320224\n",
      "3.3397362743804377\n",
      "3.267360970884204\n",
      "3.1901419514510843\n",
      "3.108228750583675\n",
      "3.0218598645924066\n",
      "2.9313521798094753\n",
      "2.8370888548339765\n",
      "2.739506326409844\n",
      "2.639081185392073\n",
      "2.5363176374819325\n",
      "2.4317361329463267\n",
      "2.325863547419039\n",
      "2.2192250605540367\n",
      "2.112337653335366\n",
      "2.005704965349225\n",
      "1.8998131463106525\n",
      "1.7951273109378239\n",
      "1.6920882567148827\n",
      "1.5911092102440705\n",
      "1.4925725027269765\n",
      "1.396826209720987\n",
      "1.3041809005169949\n",
      "1.214906711991938\n",
      "[[  7.63301243]\n",
      " [ -9.16127903]\n",
      " [-12.61143099]]\n"
     ]
    }
   ],
   "source": [
    "lmda = 1e-2\n",
    "theta = np.random.rand(x_train_i.shape[0],1)\n",
    "I = np.identity(theta.shape[0])\n",
    "# iterator 50 steps\n",
    "for x in range(0, 50):\n",
    "    h = sigmoid(x_train_i.T.dot(theta))\n",
    "    error = y_train-h\n",
    "    tmp = (-1)*y_train*np.log(h) - (1-y_train)*np.log((1-h)) # add the regularization in this objective function\n",
    "    J = 1/n*np.sum(tmp) # evaluate the log-likelihood function but its not used further\n",
    "    np.fill_diagonal(D, h*(1-h))\n",
    "    H = 1/n*((x_train_i).dot((D.dot(x_train_i.T)))+lmda*I)\n",
    "    dJ = 1/n*(x_train_i.dot(error)-lmda*theta)\n",
    "    step = np.linalg.solve(H,dJ)\n",
    "    print(LA.norm(step))\n",
    "    if LA.norm(step)<1e-2:\n",
    "        break\n",
    "    #update theta\n",
    "    theta = theta + .1*step\n",
    "\n",
    "        \n",
    "print(theta)"
   ]
  },
  {
   "cell_type": "code",
   "execution_count": 106,
   "metadata": {
    "slideshow": {
     "slide_type": "slide"
    }
   },
   "outputs": [
    {
     "name": "stdout",
     "output_type": "stream",
     "text": [
      "[[-15.6679642   29.36680913]\n",
      " [-37.65503387   7.37973945]]\n"
     ]
    },
    {
     "data": {
      "image/png": "[encoded data removed]",
      "text/plain": [
       "<Figure size 432x288 with 2 Axes>"
      ]
     },
     "metadata": {
      "needs_background": "light"
     },
     "output_type": "display_data"
    }
   ],
   "source": [
    "#plot boundary to separate data points\n",
    "u = np.linspace(np.ndarray.min(x_train[0:]), np.ndarray.max(x_train[0:]), num=2)\n",
    "v = np.linspace(np.ndarray.min(x_train[1:]), np.ndarray.max(x_train[1:]), num=2)\n",
    "z = np.zeros((len(u), len(v)))\n",
    "for i in range(0, len(u)):\n",
    "    for j in range(0, len(v)):\n",
    "        z[i, j] = theta[1]*v[i] + theta[0]*u[j]+theta[2]\n",
    "        \n",
    "print(z)\n",
    "plt.contourf(u, v, z)\n",
    "plt.colorbar();\n",
    "\n",
    "# plot_x = [np.ndarray.min(x_train[1:]), np.ndarray.max(x_train[1:])]\n",
    "# plot_y = np.subtract(np.multiply(-(theta[2][0]/theta[1][0]), plot_x), theta[0][0]/theta[1][0])\n",
    "# plt.plot(plot_x, plot_y, 'b-')\n",
    "\n",
    "plt.plot(x_train[0, pos], x_train[1, pos], 'ro')\n",
    "plt.plot(x_train[0, neg], x_train[1, neg], 'bo')  \n",
    "plt.show()"
   ]
  },
  {
   "cell_type": "markdown",
   "metadata": {
    "slideshow": {
     "slide_type": "slide"
    }
   },
   "source": [
    "## Lets try the gradient scheme"
   ]
  },
  {
   "cell_type": "code",
   "execution_count": 107,
   "metadata": {
    "slideshow": {
     "slide_type": "slide"
    }
   },
   "outputs": [
    {
     "name": "stdout",
     "output_type": "stream",
     "text": [
      "1.0833254467443032\n",
      "0.3967390410267632\n",
      "0.253880339708813\n",
      "0.25048477189513413\n",
      "0.24875367042035454\n",
      "0.24703230127762024\n",
      "0.24531647830518077\n",
      "0.24360661720059154\n",
      "0.2419031435733602\n",
      "0.2402064686980325\n",
      "0.23851698862620221\n",
      "0.2368350840079264\n",
      "0.23516111998892622\n",
      "0.23349544615354997\n",
      "0.23183839651017277\n",
      "0.2301902895168571\n",
      "0.22855142814505544\n",
      "0.22692209997909155\n",
      "0.22530257734910977\n",
      "0.22369311749517018\n",
      "0.22209396276014948\n",
      "0.22050534080913142\n",
      "0.21892746487298323\n",
      "0.2173605340138604\n",
      "0.21580473341043416\n",
      "0.2142602346606768\n",
      "0.2127271961001355\n",
      "0.21120576313367662\n",
      "0.20969606857877435\n",
      "0.20819823301850546\n",
      "0.20671236516249464\n",
      "0.205238562214157\n",
      "0.2037769102426727\n",
      "0.20232748455822058\n",
      "0.2008903500891137\n",
      "0.19946556175954258\n",
      "0.19805316486676203\n",
      "0.19665319545662385\n",
      "0.19526568069645572\n",
      "0.19389063924438601\n",
      "0.19252808161428037\n",
      "0.19117801053555344\n",
      "0.18984042130718579\n",
      "0.18851530214536463\n",
      "0.18720263452422098\n",
      "0.18590239350921883\n",
      "0.184614548082806\n",
      "0.18333906146199952\n",
      "0.1820758914076327\n",
      "0.18082499052504308\n",
      "0.17958630655603255\n",
      "0.1783597826619659\n",
      "0.17714535769793052\n",
      "0.17594296647789862\n",
      "0.17475254003088403\n",
      "0.17357400584811292\n",
      "0.17240728812124492\n",
      "0.17125230797172394\n",
      "0.17010898367135255\n",
      "0.16897723085419317\n",
      "0.1678569627199479\n",
      "0.16674809022894221\n",
      "0.1656505222888921\n",
      "0.16456416593362194\n",
      "0.16348892649390875\n",
      "0.16242470776066062\n",
      "0.1613714121406106\n",
      "0.16032894080474347\n",
      "0.15929719382965482\n",
      "0.1582760703320574\n",
      "0.15726546859664645\n",
      "0.15626528619753827\n",
      "0.1552754201134938\n",
      "0.1542957668371465\n",
      "0.15332622247843722\n",
      "0.1523666828624722\n",
      "0.1514170436220143\n",
      "0.15047720028480005\n",
      "0.1495470483558989\n",
      "0.14862648339529821\n",
      "0.14771540109091502\n",
      "0.14681369732722288\n",
      "0.14592126824967191\n",
      "0.14503801032508984\n",
      "0.14416382039823333\n",
      "0.14329859574465875\n",
      "0.142442234120085\n",
      "0.14159463380639192\n",
      "0.14075569365443052\n",
      "0.13992531312377457\n",
      "0.13910339231956764\n",
      "0.13828983202660788\n",
      "0.13748453374079525\n",
      "0.13668739969807733\n",
      "0.13589833290102055\n",
      "0.135117237143117\n",
      "0.13434401703095225\n",
      "0.1335785780043396\n",
      "0.1328208263545274\n",
      "0.1320706692405822\n",
      "0.13132801470404334\n",
      "0.13059277168194633\n",
      "0.12986485001829992\n",
      "0.12914416047410615\n",
      "0.1284306147360019\n",
      "0.12772412542360304\n",
      "0.12702460609562358\n",
      "0.12633197125484505\n",
      "0.125646136351995\n",
      "0.12496701778861388\n",
      "0.12429453291895595\n",
      "0.12362860005099698\n",
      "0.12296913844659543\n",
      "0.12231606832086513\n",
      "0.12166931084080908\n",
      "0.12102878812326151\n",
      "0.12039442323218734\n",
      "0.11976614017537782\n",
      "0.11914386390058782\n",
      "0.11852752029115265\n",
      "0.11791703616112013\n",
      "0.11731233924993759\n",
      "0.11671335821672114\n",
      "0.11612002263414523\n",
      "0.11553226298197716\n",
      "0.1149500106402896\n",
      "0.11437319788237457\n",
      "0.11380175786738604\n",
      "0.11323562463273583\n",
      "0.11267473308626291\n",
      "0.1121190189982005\n",
      "0.11156841899296063\n",
      "0.11102287054075319\n",
      "0.11048231194905993\n",
      "0.10994668235398021\n",
      "0.10941592171146204\n",
      "0.1088899707884366\n",
      "0.1083687711538692\n",
      "0.10785226516973838\n",
      "0.10734039598196037\n"
     ]
    }
   ],
   "source": [
    "lmda = 1e-2\n",
    "theta = np.random.rand(x_train_i.shape[0],1)\n",
    "#iterator 500 steps\n",
    "for x in range(0, 140):\n",
    "    h = sigmoid(x_train_i.T.dot(theta))\n",
    "    error = y_train-h\n",
    "    tmp = (-1)*y_train*np.log(h) - (1-y_train)*np.log((1-h))\n",
    "    J = 1/n*np.sum(tmp)\n",
    "    np.fill_diagonal(D, h*(1-h))\n",
    "    step = 1/n*(x_train_i.dot(error)-lmda*theta)\n",
    "    print(LA.norm(step))\n",
    "    if LA.norm(step)<1e-2:\n",
    "        break\n",
    "    #update theta\n",
    "    theta = theta + .1*step"
   ]
  },
  {
   "cell_type": "markdown",
   "metadata": {},
   "source": [
    "# Speed up with Newton?"
   ]
  },
  {
   "cell_type": "code",
   "execution_count": 111,
   "metadata": {
    "slideshow": {
     "slide_type": "slide"
    }
   },
   "outputs": [
    {
     "name": "stdout",
     "output_type": "stream",
     "text": [
      "0.007267524438509921\n"
     ]
    }
   ],
   "source": [
    "lmda = 1e-2\n",
    "#iterator 500 steps\n",
    "for x in range(0, 100):\n",
    "    h = sigmoid(x_train_i.T.dot(theta))\n",
    "    # print(h)\n",
    "    error = y_train-h\n",
    "    tmp = (-1)*y_train*np.log(h) - (1-y_train)*np.log((1-h))\n",
    "    J = 1/n*np.sum(tmp)\n",
    "    np.fill_diagonal(D, h*(1-h))\n",
    "    H = 1/n*((x_train_i).dot((D.dot(x_train_i.T)))+lmda*I)\n",
    "    dJ = 1/n*(x_train_i.dot(error)-lmda*theta)\n",
    "    step = np.linalg.solve(H,dJ)\n",
    "    print(LA.norm(step))\n",
    "    if LA.norm(step)<1e-2:\n",
    "        break\n",
    "    #update theta\n",
    "    theta = theta + .3*step"
   ]
  },
  {
   "cell_type": "code",
   "execution_count": 112,
   "metadata": {
    "slideshow": {
     "slide_type": "slide"
    }
   },
   "outputs": [
    {
     "name": "stdout",
     "output_type": "stream",
     "text": [
      "(3, 1)\n",
      "[[-16.95298391  31.84029078]\n",
      " [-41.18466395   7.60861074]]\n"
     ]
    },
    {
     "data": {
      "image/png": "[encoded data removed]",
      "text/plain": [
       "<Figure size 432x288 with 2 Axes>"
      ]
     },
     "metadata": {
      "needs_background": "light"
     },
     "output_type": "display_data"
    }
   ],
   "source": [
    "#plot boundary to separate data points\n",
    "print(theta.shape)\n",
    "u = np.linspace(np.ndarray.min(x_train[0:]), np.ndarray.max(x_train[0:]), num=2)\n",
    "v = np.linspace(np.ndarray.min(x_train[1:]), np.ndarray.max(x_train[1:]), num=2)\n",
    "z = np.zeros((len(u), len(v)))\n",
    "for i in range(0, len(u)):\n",
    "    for j in range(0, len(v)):\n",
    "        z[i, j] = theta[1]*v[i] + theta[0]*u[j]+theta[2]\n",
    "        \n",
    "print(z)\n",
    "plt.contourf(u, v, z)\n",
    "plt.colorbar();\n",
    "\n",
    "# plot_x = [np.ndarray.min(x_train[1:]), np.ndarray.max(x_train[1:])]\n",
    "# plot_y = np.subtract(np.multiply(-(theta[2][0]/theta[1][0]), plot_x), theta[0][0]/theta[1][0])\n",
    "# plt.plot(plot_x, plot_y, 'b-')\n",
    "\n",
    "plt.plot(x_train[0, pos], x_train[1, pos], 'ro')\n",
    "plt.plot(x_train[0, neg], x_train[1, neg], 'bo')  \n",
    "plt.show()"
   ]
  },
  {
   "cell_type": "code",
   "execution_count": 134,
   "metadata": {
    "slideshow": {
     "slide_type": "slide"
    }
   },
   "outputs": [
    {
     "data": {
      "text/plain": [
       "LogisticRegression(C=1.0, class_weight=None, dual=False, fit_intercept=True,\n",
       "                   intercept_scaling=1, l1_ratio=None, max_iter=100,\n",
       "                   multi_class='auto', n_jobs=None, penalty='l2',\n",
       "                   random_state=None, solver='lbfgs', tol=0.0001, verbose=0,\n",
       "                   warm_start=False)"
      ]
     },
     "execution_count": 134,
     "metadata": {},
     "output_type": "execute_result"
    }
   ],
   "source": [
    "import numpy as np\n",
    "import pylab as pl\n",
    "from sklearn.linear_model import LogisticRegression\n",
    "\n",
    "logreg = LogisticRegression()\n",
    "\n",
    "# fit the model with data\n",
    "logreg.fit(x_train_i.T,np.ravel(y_train))"
   ]
  },
  {
   "cell_type": "code",
   "execution_count": 135,
   "metadata": {
    "slideshow": {
     "slide_type": "slide"
    }
   },
   "outputs": [
    {
     "name": "stdout",
     "output_type": "stream",
     "text": [
      "[[ 3.38822960e+00 -3.16424935e+00  2.82754169e-04]]\n",
      "[-8.32412399]\n"
     ]
    }
   ],
   "source": [
    "print(logreg.coef_)\n",
    "print(logreg.intercept_)\n",
    "theta=logreg.coef_\n",
    "theta=theta.T"
   ]
  },
  {
   "cell_type": "code",
   "execution_count": 136,
   "metadata": {
    "slideshow": {
     "slide_type": "slide"
    }
   },
   "outputs": [
    {
     "name": "stdout",
     "output_type": "stream",
     "text": [
      "(3, 1)\n"
     ]
    },
    {
     "data": {
      "image/png": "[encoded data removed]",
      "text/plain": [
       "<Figure size 432x288 with 2 Axes>"
      ]
     },
     "metadata": {
      "needs_background": "light"
     },
     "output_type": "display_data"
    }
   ],
   "source": [
    "#plot boundary to separate data points\n",
    "print(theta.shape)\n",
    "u = np.linspace(np.ndarray.min(x_train[0:]), np.ndarray.max(x_train[0:]), num=2)\n",
    "v = np.linspace(np.ndarray.min(x_train[1:]), np.ndarray.max(x_train[1:]), num=2)\n",
    "z = np.zeros((len(u), len(v)))\n",
    "for i in range(0, len(u)):\n",
    "    for j in range(0, len(v)):\n",
    "        z[i, j] = theta[1]*v[i] + theta[0]*u[j]+logreg.intercept_\n",
    "        \n",
    "plt.contourf(u, v, z)\n",
    "plt.colorbar();\n",
    "\n",
    "# plot_x = [np.ndarray.min(x_train[1:]), np.ndarray.max(x_train[1:])]\n",
    "# plot_y = np.subtract(np.multiply(-(theta[2][0]/theta[1][0]), plot_x), theta[0][0]/theta[1][0])\n",
    "# plt.plot(plot_x, plot_y, 'b-')\n",
    "\n",
    "plt.plot(x_train[0, pos], x_train[1, pos], 'ro')\n",
    "plt.plot(x_train[0, neg], x_train[1, neg], 'bo')  \n",
    "plt.show()"
   ]
  }
 ],
 "metadata": {
  "celltoolbar": "Slideshow",
  "kernelspec": {
   "display_name": "Python 3",
   "language": "python",
   "name": "python3"
  },
  "language_info": {
   "codemirror_mode": {
    "name": "ipython",
    "version": 3
   },
   "file_extension": ".py",
   "mimetype": "text/x-python",
   "name": "python",
   "nbconvert_exporter": "python",
   "pygments_lexer": "ipython3",
   "version": "3.8.3"
  }
 },
 "nbformat": 4,
 "nbformat_minor": 2
}
