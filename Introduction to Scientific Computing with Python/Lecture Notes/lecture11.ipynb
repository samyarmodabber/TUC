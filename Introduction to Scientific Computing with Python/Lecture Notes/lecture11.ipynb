{
 "cells": [
  {
   "cell_type": "markdown",
   "metadata": {
    "slideshow": {
     "slide_type": "slide"
    }
   },
   "source": [
    "## Parallel programming with Python's multiprocessing library\n",
    "\n",
    "Here you will learn how to write programs that perform\n",
    "several tasks in parallel using Python's built-in <a href=\"https://docs.python.org/3/library/multiprocessing.html\" target=\"_blank\">multiprocessing</a> library. Please \n",
    "consult <a href=\"https://docs.python.org/3/library/multiprocessing.html\"\n",
    "target=\"_blank\">documentation</a> to learn more, or to answer any\n",
    "detailed questions as we will only cover a small subset of the\n",
    "library's functionality. Most of the material here is taken from [this tutorial](http://localhost:8888/?token=48ec7adcec6bfaaa914d17f70e47b9f8bd67f8cac78f4052)\n"
   ]
  },
  {
   "cell_type": "markdown",
   "metadata": {
    "slideshow": {
     "slide_type": "slide"
    }
   },
   "source": [
    "Parallelism (aka parallel programming) is when two or more tasks run at the same time. There's important terminology to understand regarding parallelism too.\n",
    "\n",
    "A **thread** is an execution context for code.\n",
    "\n",
    "A **process** is a program and state of all threads executing in a program.\n",
    "\n",
    "One process can have several threads running at the same time. One program could also have several proccesses running at the same time."
   ]
  },
  {
   "cell_type": "markdown",
   "metadata": {
    "slideshow": {
     "slide_type": "slide"
    }
   },
   "source": [
    "In Python, by default programs run as a single process with a single thread of execution; this uses just a single CPU.\n",
    "\n",
    "Examples parallelism can help with:\n",
    "\n",
    "  *  executing database queries\n",
    "  *  pre-processing lots of images to use for machine learning\n",
    "  *  web crawling"
   ]
  },
  {
   "cell_type": "markdown",
   "metadata": {
    "slideshow": {
     "slide_type": "slide"
    }
   },
   "source": [
    "## Parallel programming models\n",
    "\n",
    "Parallel programming has been important to scientific computing for\n",
    "decades as a way to decrease program run times, making more complex\n",
    "analyses possible (e.g. climate modeling, gene sequencing,\n",
    "pharmaceutical development, aircraft design).\n",
    "\n",
    "One of the motivations for parallel programming has been the\n",
    "diminishing marginal increases in single CPU performance with each new\n",
    "generation of CPU (see <a href=\"http://www.gotw.ca/publications/concurrency-ddj.htm\"\n",
    "target=\"_blank\">The Free Lunch is over</a>).  In response, computer\n",
    "makers have introduced multi-core processors that contain more than\n",
    "one processing core.  It's not uncommon for desktop, laptop, and even\n",
    "tablets and smart phones to have two or more CPU cores."
   ]
  },
  {
   "cell_type": "code",
   "execution_count": 1,
   "metadata": {
    "slideshow": {
     "slide_type": "slide"
    }
   },
   "outputs": [
    {
     "data": {
      "text/plain": [
       "8"
      ]
     },
     "execution_count": 1,
     "metadata": {},
     "output_type": "execute_result"
    }
   ],
   "source": [
    "import multiprocessing\n",
    "\n",
    "multiprocessing.cpu_count()"
   ]
  },
  {
   "cell_type": "markdown",
   "metadata": {
    "slideshow": {
     "slide_type": "slide"
    }
   },
   "source": [
    "### GPU and heterogeneous computing\n",
    "\n",
    "In addition to multi-core CPUs, **Graphics Processing Units (GPU)** have\n",
    "become more powerful recently (often having hundreds of parallel\n",
    "execution units). GPUs are increasingly being use not just for drawing\n",
    "graphics to the screen, but for general purpose computation.  GPUs can\n",
    "even be used in conjunction with CPUs to boost parallel computing\n",
    "performance (this is known as *heterogeneous computing*).  GPUs are best\n",
    "*suited to applying the same computation over arrays of data*, while\n",
    "*CPUs are better suited to algorithms that include conditional branches\n",
    "of execution* (e.g. different paths through the code based on if\n",
    "statements). Emerging tools, such as <a href=\"http://en.wikipedia.org/wiki/OpenCL\" target=\"_blank\">OpenCL</a>\n",
    "help coordinate parallel execution across heterogeneous computer\n",
    "platforms that contain differing CPU and GPU resources."
   ]
  },
  {
   "cell_type": "markdown",
   "metadata": {
    "slideshow": {
     "slide_type": "slide"
    }
   },
   "source": [
    "### CPU multi-processing / Distributed-memory parallelism\n",
    "\n",
    "Unfortunately, most computer programs cannot take advantage of\n",
    "performance increases offered by GPUs or multi-core CPUs unless we\n",
    "modify these programs.  In this lesson we will develop an example\n",
    "program that uses the Python multiprocessing library to simultaneously\n",
    "execute tasks on a multi-core CPU, decreasing the overall program run\n",
    "time."
   ]
  },
  {
   "cell_type": "markdown",
   "metadata": {
    "slideshow": {
     "slide_type": "slide"
    }
   },
   "source": [
    "Multi-processing is one way to execute tasks in parallel on a\n",
    "multi-core CPU, or across multiple computers in a computing cluster.\n",
    "In multi-processing, each task runs in its own process; each program\n",
    "running on your computer is represented by one or more processes. For\n",
    "example, if you are running a web browser, a text editor, and an\n",
    "e-mail client, you are running at least three processes (and likely\n",
    "many more background processes). On modern operating systems, each\n",
    "process gets its own portion of your computer's memory, ensuring that\n",
    "no process can interfere with the execution of another (though tools\n",
    "like <a href=\"http://en.wikipedia.org/wiki/Message_Passing_Interface\"\n",
    "target=\"_blank\">MPI</a> and even Python's multiprocessing library can\n",
    "be used to share data between processes running locally or in\n",
    "distributed computing environments)."
   ]
  },
  {
   "cell_type": "markdown",
   "metadata": {
    "slideshow": {
     "slide_type": "slide"
    }
   },
   "source": [
    "### CPU multi-threading (shared memory parallelism)\n",
    "\n",
    "Multi-processing is not to be confused with multi-threading, or\n",
    "shared-memory parallelism. In modern operating systems, each process\n",
    "contains one or more threads of execution.  These threads share the\n",
    "same portion of memory assigned to their parent process; each thread\n",
    "can run in parallel if the computer has more than one CPU core. For\n",
    "certain algorithms, multi-threading can be more efficient than\n",
    "multi-processing (though multi-processing solutions such as MPI often\n",
    "scale better to larger problem sizes).  However, multi-threading is\n",
    "more error-prone to program and is generally only done directly by\n",
    "expert systems programmers.  Tools such as <a href=\"http://openmp.org/\" target=\"_blank\">OpenMP</a> should in general\n",
    "be used for multi-threading in scientific computing."
   ]
  },
  {
   "cell_type": "markdown",
   "metadata": {
    "slideshow": {
     "slide_type": "slide"
    }
   },
   "source": [
    "\n",
    "## Python's Global Interpreter Lock\n",
    "\n",
    "CPython (the standard python implementation) has something called the GIL (Global Interpreter Lock); the GIL prevents two threads from executing simultaneously in the same program. However, two threads can run concurrently and one can run code while another may be waiting.\n",
    "\n",
    "The GIL limits parallel programming in Python out of the box.\n",
    "\n",
    "\n"
   ]
  },
  {
   "cell_type": "markdown",
   "metadata": {
    "slideshow": {
     "slide_type": "slide"
    }
   },
   "source": [
    "\n",
    "# `map` Function and Example\n",
    "\n",
    "The use of `map` will be applied in our parallel programming examples later so we look at this a bit.\n",
    "\n",
    "Below we will see a function called `number_times_two` to take in a number, multiply it by two and return the result.\n",
    "\n",
    "`map` is a built-in Python function that helps us easily apply a function over every item in an iterable such as a list.\n",
    "\n",
    "We'll use the `map` function to apply `number_times_two` to every element in the list of numbers [1, 2, 3, 4]."
   ]
  },
  {
   "cell_type": "code",
   "execution_count": 2,
   "metadata": {
    "slideshow": {
     "slide_type": "slide"
    }
   },
   "outputs": [],
   "source": [
    "def number_times_two(number):\n",
    "    \"\"\"\n",
    "    Multiply a number by 2\n",
    "    \n",
    "    :param number: a value we'll use in our computation\n",
    "    :type number: (preferably an) int\n",
    "    \n",
    "    :returns: number*2\n",
    "    \"\"\"\n",
    "    return number*2"
   ]
  },
  {
   "cell_type": "code",
   "execution_count": 3,
   "metadata": {
    "slideshow": {
     "slide_type": "slide"
    }
   },
   "outputs": [
    {
     "data": {
      "text/plain": [
       "function"
      ]
     },
     "execution_count": 3,
     "metadata": {},
     "output_type": "execute_result"
    }
   ],
   "source": [
    "type(number_times_two)"
   ]
  },
  {
   "cell_type": "markdown",
   "metadata": {
    "slideshow": {
     "slide_type": "slide"
    }
   },
   "source": [
    "The `map` function returns an map object that is an iterator."
   ]
  },
  {
   "cell_type": "code",
   "execution_count": 3,
   "metadata": {
    "slideshow": {
     "slide_type": "slide"
    }
   },
   "outputs": [
    {
     "data": {
      "text/plain": [
       "<map at 0x24ea6b51b38>"
      ]
     },
     "execution_count": 3,
     "metadata": {},
     "output_type": "execute_result"
    }
   ],
   "source": [
    "map(number_times_two, [1, 2, 3, 4])"
   ]
  },
  {
   "cell_type": "markdown",
   "metadata": {
    "slideshow": {
     "slide_type": "slide"
    }
   },
   "source": [
    "We can call the built-in `list` function to output our result, the `map` object, as a list."
   ]
  },
  {
   "cell_type": "code",
   "execution_count": 4,
   "metadata": {
    "slideshow": {
     "slide_type": "slide"
    }
   },
   "outputs": [
    {
     "data": {
      "text/plain": [
       "[2, 4, 6, 8]"
      ]
     },
     "execution_count": 4,
     "metadata": {},
     "output_type": "execute_result"
    }
   ],
   "source": [
    "list(map(number_times_two, [1, 2, 3, 4]))"
   ]
  },
  {
   "cell_type": "markdown",
   "metadata": {
    "slideshow": {
     "slide_type": "slide"
    }
   },
   "source": [
    "# Parallelism"
   ]
  },
  {
   "cell_type": "code",
   "execution_count": 5,
   "metadata": {
    "slideshow": {
     "slide_type": "slide"
    }
   },
   "outputs": [],
   "source": [
    "from requests import get\n",
    "from multiprocessing.dummy import Pool as ThreadPool \n",
    "from multiprocessing import Pool\n",
    "from concurrent.futures import ThreadPoolExecutor\n",
    "from concurrent.futures import ProcessPoolExecutor\n",
    "import matplotlib.pyplot as plt\n",
    "from time import time\n",
    "from random import sample\n",
    "import numpy as np\n",
    "%matplotlib inline"
   ]
  },
  {
   "cell_type": "markdown",
   "metadata": {
    "slideshow": {
     "slide_type": "slide"
    }
   },
   "source": [
    "We use some functions for visualizing the different techniques"
   ]
  },
  {
   "cell_type": "code",
   "execution_count": 6,
   "metadata": {
    "slideshow": {
     "slide_type": "slide"
    }
   },
   "outputs": [],
   "source": [
    "def multithreading(function, iterable, number_of_threads):\n",
    "    \"\"\"\n",
    "    Maps a function across an iterable (such as a list of elements) with the optional use of multithreading.\n",
    "    \n",
    "    :param function: name of a function\n",
    "    :type function: function\n",
    "    \n",
    "    :param iterable: elements used as inputs to function parameter\n",
    "    :type iterable: list\n",
    "    \n",
    "    :param number_of_threads: number of threads to use in map operation\n",
    "    :type number_of_threads: int\n",
    "    \n",
    "    :returns list_objects: return objects from our function parameter calls\n",
    "    :return type: list\n",
    "    \"\"\"    \n",
    "    with ThreadPoolExecutor(max_workers=number_of_threads) as executor:\n",
    "        responses = executor.map(function, iterable)\n",
    "    return list(responses)\n"
   ]
  },
  {
   "cell_type": "code",
   "execution_count": 7,
   "metadata": {
    "slideshow": {
     "slide_type": "slide"
    }
   },
   "outputs": [],
   "source": [
    "def do_multiprocessing(function, iterable, number_of_concurrent_processes):\n",
    "    \"\"\"\n",
    "    Maps a function across an iterable (such as a list of elements) with the optional use of multiprocessing.\n",
    "    \n",
    "    :param function: name of a function\n",
    "    :type function: function\n",
    "    \n",
    "    :param iterable: elements used as inputs to function parameter\n",
    "    :type iterable: list\n",
    "    \n",
    "    :param number_of_concurrent_processes: number of concurrent processes in multiprocessing\n",
    "    :type number_of_concurrent_processes: int\n",
    "    \n",
    "    :returns list_objects: return objects from our function parameter calls\n",
    "    :return type: list\n",
    "    \"\"\"    \n",
    "    with ProcessPoolExecutor(max_workers=number_of_concurrent_processes) as executor:\n",
    "        responses = executor.map(function, iterable)\n",
    "    return list(responses)"
   ]
  },
  {
   "cell_type": "code",
   "execution_count": 8,
   "metadata": {
    "slideshow": {
     "slide_type": "slide"
    }
   },
   "outputs": [],
   "source": [
    "def transform_timestamps_to_be_seconds_from_process_start_time(process_start_time, all_task_timestamps):\n",
    "    \"\"\"\n",
    "    Take list of start and end timestamps of # of seconds since epoch, and subtract the process start time from them all\n",
    "    \n",
    "    Therefore we'll know how far timestamps are from the 0th second, the start of the program.\n",
    "    \n",
    "    :param process_start_time: # of seconds since epoch for start of task\n",
    "    :type process_start_time: float\n",
    "    \n",
    "    :param all_task_timestamps: # of seconds since epoch for end of task\n",
    "    :type all_task_timestamps: list\n",
    "    \n",
    "    :return function_timestamps_starting_from_zero: same shape as all_task_timestamps but all values subtracted by process_start_time\n",
    "    :type function_timestamps_starting_from_zero: numpy array\n",
    "    \"\"\"\n",
    "    function_timestamps_starting_from_zero = np.array(all_task_timestamps) - process_start_time\n",
    "    return function_timestamps_starting_from_zero"
   ]
  },
  {
   "cell_type": "code",
   "execution_count": 9,
   "metadata": {
    "slideshow": {
     "slide_type": "slide"
    }
   },
   "outputs": [],
   "source": [
    "def separate_list_elements(list_of_lists):\n",
    "    \"\"\"\n",
    "    Given a list structure such as [[x, y], [x, y]] return a list of just the x's and another of just y's\n",
    "    \n",
    "    :param list_of_lists: list with nested lists\n",
    "    :type list_of_list: list\n",
    "    \n",
    "    :return start_values, end_values: two lists - one of all 0-th index values and another of 1st index values in each nested list\n",
    "    :return type: tuple storing two lists\n",
    "    \"\"\"\n",
    "    start_values = [inner_list[0] for inner_list in list_of_lists]\n",
    "    start_values = np.array(start_values)\n",
    "    \n",
    "    end_values = [inner_list[1] for inner_list in list_of_lists]\n",
    "    end_values = np.array(end_values)\n",
    "    return start_values, end_values"
   ]
  },
  {
   "cell_type": "code",
   "execution_count": 10,
   "metadata": {
    "slideshow": {
     "slide_type": "slide"
    }
   },
   "outputs": [],
   "source": [
    "def generate_bar_colors(number_of_threads_or_subprocesses):\n",
    "    \"\"\"\n",
    "    Make a list of colors the same length as the number of threads or number of concurrent subprocesses\n",
    "    \n",
    "    :param number_of_threads_or_subprocesses: number of threads used in multithreading or number of processes used in multiprocessing\n",
    "    :type number_of_threads_or_subprocesses: int\n",
    "    \n",
    "    :return colors: list of colors chosen from good_colors\n",
    "    :type colors: list\n",
    "    \"\"\"\n",
    "    good_colors = ['firebrick', 'darkgreen', 'royalblue', 'rebeccapurple', 'dimgrey', 'teal', 'chocolate', 'darkgoldenrod']\n",
    "    colors = sample(good_colors, number_of_threads_or_subprocesses)\n",
    "    return colors\n",
    "\n"
   ]
  },
  {
   "cell_type": "code",
   "execution_count": 11,
   "metadata": {
    "slideshow": {
     "slide_type": "slide"
    }
   },
   "outputs": [],
   "source": [
    "def visualize_task_times(start_times, end_times, plot_title, colors):\n",
    "    \"\"\"\n",
    "    Use Matplotlib module to create a horizontal bar chart of the time elapsed for each task.\n",
    "    \n",
    "    :param start_times: start times of tasks\n",
    "    :type start_times: list\n",
    "    \n",
    "    :param end_times: end times of tasks\n",
    "    :type end_times: list\n",
    "    \n",
    "    :param plot_title: title of plot\n",
    "    :type plot_title: string\n",
    "    \n",
    "    :param colors: colors of bars\n",
    "    :type colors: list\n",
    "    \n",
    "    :return: None\n",
    "    \"\"\"\n",
    "    plt.barh(range(len(start_times)), end_times-start_times, left=start_times, color=colors);\n",
    "    plt.grid(axis='x');\n",
    "    plt.ylabel(\"Tasks\");\n",
    "    plt.xlabel(\"Seconds\");\n",
    "    plt.title(plot_title);\n",
    "    plt.figure(figsize=(12, 10));\n",
    "    plt.show();\n",
    "    return None;\n"
   ]
  },
  {
   "cell_type": "code",
   "execution_count": 12,
   "metadata": {
    "slideshow": {
     "slide_type": "slide"
    }
   },
   "outputs": [],
   "source": [
    "def visualize_multiprocessing_effect(number_of_concurrent_processes, function_name, iterable, plot_title):\n",
    "    \"\"\"\n",
    "    Perform multithreading given a function_name and number_of_threads and visualize tasks as bar chart\n",
    "    \n",
    "    :param number_of_concurrent_processes: number of concurrent processes in multiprocessing\n",
    "    :type number_of_concurrent_processes: int\n",
    "    \n",
    "    :param function_name: name of function applied in multithreading operation\n",
    "    :type function_name: function\n",
    "    \n",
    "    :param iterable: elements used as inputs to function parameter\n",
    "    :type iterable: list\n",
    "    \n",
    "    :param plot_title: title of plot\n",
    "    :type plot_title: string\n",
    "    \n",
    "    :return: None\n",
    "    \"\"\"\n",
    "    process_start_time = time() # we track time here \n",
    "    time_logs_multiprocessing_op = do_multiprocessing(function_name, iterable, number_of_concurrent_processes)\n",
    "    multiprocessing_task_timestamps = transform_timestamps_to_be_seconds_from_process_start_time(process_start_time, time_logs_multiprocessing_op)\n",
    "    start_times, end_times = separate_list_elements(multiprocessing_task_timestamps)\n",
    "    colors = generate_bar_colors(number_of_concurrent_processes)\n",
    "    visualize_task_times(start_times, end_times, plot_title, colors)"
   ]
  },
  {
   "cell_type": "code",
   "execution_count": 13,
   "metadata": {
    "slideshow": {
     "slide_type": "slide"
    }
   },
   "outputs": [],
   "source": [
    "def visualize_multithreading_effect(number_of_threads, function_name, iterable, plot_title):\n",
    "    \"\"\"\n",
    "    Perform multithreading given a function_name and number_of_threads and visualize tasks as bar chart\n",
    "    \n",
    "    :param number_of_threads: number of threads used in multithreading\n",
    "    :type number_of_threads: int\n",
    "    \n",
    "    :param function_name: name of function applied in multithreading operation\n",
    "    :type function_name: function\n",
    "    \n",
    "    :param iterable: elements used as inputs to function parameter\n",
    "    :type iterable: list\n",
    "    \n",
    "    :param plot_title: title of plot\n",
    "    :type plot_title: string\n",
    "    \n",
    "    :return: None\n",
    "    \"\"\"\n",
    "    process_start_time = time() # we track time here \n",
    "    time_logs_multithreading_op = multithreading(function_name, iterable, number_of_threads)\n",
    "    multithreading_task_timestamps = transform_timestamps_to_be_seconds_from_process_start_time(process_start_time, time_logs_multithreading_op)\n",
    "    start_times, end_times = separate_list_elements(multithreading_task_timestamps)\n",
    "    colors = generate_bar_colors(number_of_threads)\n",
    "    visualize_task_times(start_times, end_times, plot_title, colors)\n"
   ]
  },
  {
   "cell_type": "markdown",
   "metadata": {
    "slideshow": {
     "slide_type": "slide"
    }
   },
   "source": [
    "\n",
    "# Measure Server Response Times\n",
    "\n",
    "This is a popular example on the web. For a list of URLs, we'll use the requests module to get a `response object`.\n",
    "\n",
    "With this `response object`, we could later perform operations to see the status of the request, get the contents of the site and more!\n"
   ]
  },
  {
   "cell_type": "code",
   "execution_count": 14,
   "metadata": {
    "slideshow": {
     "slide_type": "slide"
    }
   },
   "outputs": [
    {
     "data": {
      "text/plain": [
       "['https://tu-chemnitz.de',\n",
       " 'https://tu-chemnitz.de',\n",
       " 'https://tu-chemnitz.de',\n",
       " 'https://tu-chemnitz.de',\n",
       " 'https://tu-chemnitz.de',\n",
       " 'https://tu-chemnitz.de',\n",
       " 'https://tu-chemnitz.de',\n",
       " 'https://tu-chemnitz.de',\n",
       " 'https://tu-chemnitz.de',\n",
       " 'https://tu-chemnitz.de',\n",
       " 'https://tu-chemnitz.de',\n",
       " 'https://tu-chemnitz.de']"
      ]
     },
     "execution_count": 14,
     "metadata": {},
     "output_type": "execute_result"
    }
   ],
   "source": [
    "twelve_urls = ['https://tu-chemnitz.de']*12\n",
    "twelve_urls"
   ]
  },
  {
   "cell_type": "code",
   "execution_count": 16,
   "metadata": {
    "slideshow": {
     "slide_type": "slide"
    }
   },
   "outputs": [],
   "source": [
    "def get_response_time_measurements(url):\n",
    "    \"\"\"\n",
    "    mark start time, then call the get method and pass in a url to receive a server response object, then mark end time\n",
    "    \n",
    "    :param url: address of a worldwide web page \n",
    "    :type url: string\n",
    "    \n",
    "    :returns: start_time and stop_time of this task\n",
    "    :type returns: list\n",
    "    \"\"\"\n",
    "    start_time = time()\n",
    "    try:\n",
    "        response = get(url)\n",
    "    except Exception as exception_object:\n",
    "        print('Error with request for url: {0}'.format(url))\n",
    "    stop_time = time()\n",
    "    return [start_time, stop_time]"
   ]
  },
  {
   "cell_type": "code",
   "execution_count": 17,
   "metadata": {
    "slideshow": {
     "slide_type": "slide"
    }
   },
   "outputs": [
    {
     "data": {
      "text/plain": [
       "[[1593852054.6060383, 1593852054.943841],\n",
       " [1593852054.943841, 1593852055.246668],\n",
       " [1593852055.2476676, 1593852055.5474944],\n",
       " [1593852055.5474944, 1593852055.8413253],\n",
       " [1593852055.8413253, 1593852056.1381543],\n",
       " [1593852056.1381543, 1593852056.436982],\n",
       " [1593852056.436982, 1593852056.738806],\n",
       " [1593852056.738806, 1593852057.0436313],\n",
       " [1593852057.0436313, 1593852057.351453],\n",
       " [1593852057.351453, 1593852057.6562831],\n",
       " [1593852057.6562831, 1593852057.962103],\n",
       " [1593852057.962103, 1593852058.2609308]]"
      ]
     },
     "execution_count": 17,
     "metadata": {},
     "output_type": "execute_result"
    }
   ],
   "source": [
    "multithreading(function=get_response_time_measurements, iterable=twelve_urls, number_of_threads=1)"
   ]
  },
  {
   "cell_type": "markdown",
   "metadata": {
    "slideshow": {
     "slide_type": "slide"
    }
   },
   "source": [
    "# Multithreading"
   ]
  },
  {
   "cell_type": "code",
   "execution_count": 18,
   "metadata": {
    "slideshow": {
     "slide_type": "slide"
    }
   },
   "outputs": [
    {
     "data": {
      "image/png": "[encoded data removed]",
      "text/plain": [
       "<Figure size 432x288 with 1 Axes>"
      ]
     },
     "metadata": {
      "needs_background": "light"
     },
     "output_type": "display_data"
    },
    {
     "data": {
      "text/plain": [
       "<Figure size 864x720 with 0 Axes>"
      ]
     },
     "metadata": {},
     "output_type": "display_data"
    }
   ],
   "source": [
    "visualize_multithreading_effect(number_of_threads=1,\n",
    "                                function_name=get_response_time_measurements,\n",
    "                                iterable=twelve_urls,\n",
    "                                plot_title=\"Tasks for URL Server Responses; 1 Thread\")"
   ]
  },
  {
   "cell_type": "code",
   "execution_count": 19,
   "metadata": {
    "slideshow": {
     "slide_type": "slide"
    }
   },
   "outputs": [
    {
     "data": {
      "image/png": "[encoded data removed]",
      "text/plain": [
       "<Figure size 432x288 with 1 Axes>"
      ]
     },
     "metadata": {
      "needs_background": "light"
     },
     "output_type": "display_data"
    },
    {
     "data": {
      "text/plain": [
       "<Figure size 864x720 with 0 Axes>"
      ]
     },
     "metadata": {},
     "output_type": "display_data"
    }
   ],
   "source": [
    "visualize_multithreading_effect(number_of_threads=2,\n",
    "                                function_name=get_response_time_measurements,\n",
    "                                iterable=twelve_urls,\n",
    "                                plot_title=\"Tasks for URL Server Responses; 2 Threads\")"
   ]
  },
  {
   "cell_type": "code",
   "execution_count": 20,
   "metadata": {
    "slideshow": {
     "slide_type": "slide"
    }
   },
   "outputs": [
    {
     "data": {
      "image/png": "[encoded data removed]",
      "text/plain": [
       "<Figure size 432x288 with 1 Axes>"
      ]
     },
     "metadata": {
      "needs_background": "light"
     },
     "output_type": "display_data"
    },
    {
     "data": {
      "text/plain": [
       "<Figure size 864x720 with 0 Axes>"
      ]
     },
     "metadata": {},
     "output_type": "display_data"
    }
   ],
   "source": [
    "visualize_multithreading_effect(number_of_threads=4,\n",
    "                                function_name=get_response_time_measurements,\n",
    "                                iterable=twelve_urls,\n",
    "                                plot_title=\"Tasks for URL Server Responses; 4 Threads\")"
   ]
  },
  {
   "cell_type": "code",
   "execution_count": 25,
   "metadata": {
    "slideshow": {
     "slide_type": "slide"
    }
   },
   "outputs": [
    {
     "data": {
      "image/png": "[encoded data removed]",
      "text/plain": [
       "<Figure size 432x288 with 1 Axes>"
      ]
     },
     "metadata": {
      "needs_background": "light"
     },
     "output_type": "display_data"
    },
    {
     "data": {
      "text/plain": [
       "<Figure size 864x720 with 0 Axes>"
      ]
     },
     "metadata": {},
     "output_type": "display_data"
    }
   ],
   "source": [
    "visualize_multithreading_effect(number_of_threads=5,\n",
    "                                function_name=get_response_time_measurements,\n",
    "                                iterable=twelve_urls,\n",
    "                                plot_title=\"Tasks for URL Server Responses; 6 Threads\")"
   ]
  },
  {
   "cell_type": "markdown",
   "metadata": {
    "slideshow": {
     "slide_type": "slide"
    }
   },
   "source": [
    "# Multiprocessing"
   ]
  },
  {
   "cell_type": "code",
   "execution_count": 26,
   "metadata": {
    "slideshow": {
     "slide_type": "slide"
    }
   },
   "outputs": [
    {
     "ename": "BrokenProcessPool",
     "evalue": "A process in the process pool was terminated abruptly while the future was running or pending.",
     "output_type": "error",
     "traceback": [
      "\u001b[1;31m---------------------------------------------------------------------------\u001b[0m",
      "\u001b[1;31mBrokenProcessPool\u001b[0m                         Traceback (most recent call last)",
      "\u001b[1;32m<ipython-input-26-52f1658973e0>\u001b[0m in \u001b[0;36m<module>\u001b[1;34m\u001b[0m\n\u001b[0;32m      2\u001b[0m                                 \u001b[0mfunction_name\u001b[0m\u001b[1;33m=\u001b[0m\u001b[0mget_response_time_measurements\u001b[0m\u001b[1;33m,\u001b[0m\u001b[1;33m\u001b[0m\u001b[1;33m\u001b[0m\u001b[0m\n\u001b[0;32m      3\u001b[0m                                 \u001b[0miterable\u001b[0m\u001b[1;33m=\u001b[0m\u001b[0mtwelve_urls\u001b[0m\u001b[1;33m,\u001b[0m\u001b[1;33m\u001b[0m\u001b[1;33m\u001b[0m\u001b[0m\n\u001b[1;32m----> 4\u001b[1;33m                                 plot_title=\"Tasks for URL Server Responses; 1 Process\")\n\u001b[0m",
      "\u001b[1;32m<ipython-input-12-cceb75ff69f7>\u001b[0m in \u001b[0;36mvisualize_multiprocessing_effect\u001b[1;34m(number_of_concurrent_processes, function_name, iterable, plot_title)\u001b[0m\n\u001b[0;32m     18\u001b[0m     \"\"\"\n\u001b[0;32m     19\u001b[0m     \u001b[0mprocess_start_time\u001b[0m \u001b[1;33m=\u001b[0m \u001b[0mtime\u001b[0m\u001b[1;33m(\u001b[0m\u001b[1;33m)\u001b[0m \u001b[1;31m# we track time here\u001b[0m\u001b[1;33m\u001b[0m\u001b[1;33m\u001b[0m\u001b[0m\n\u001b[1;32m---> 20\u001b[1;33m     \u001b[0mtime_logs_multiprocessing_op\u001b[0m \u001b[1;33m=\u001b[0m \u001b[0mdo_multiprocessing\u001b[0m\u001b[1;33m(\u001b[0m\u001b[0mfunction_name\u001b[0m\u001b[1;33m,\u001b[0m \u001b[0miterable\u001b[0m\u001b[1;33m,\u001b[0m \u001b[0mnumber_of_concurrent_processes\u001b[0m\u001b[1;33m)\u001b[0m\u001b[1;33m\u001b[0m\u001b[1;33m\u001b[0m\u001b[0m\n\u001b[0m\u001b[0;32m     21\u001b[0m     \u001b[0mmultiprocessing_task_timestamps\u001b[0m \u001b[1;33m=\u001b[0m \u001b[0mtransform_timestamps_to_be_seconds_from_process_start_time\u001b[0m\u001b[1;33m(\u001b[0m\u001b[0mprocess_start_time\u001b[0m\u001b[1;33m,\u001b[0m \u001b[0mtime_logs_multiprocessing_op\u001b[0m\u001b[1;33m)\u001b[0m\u001b[1;33m\u001b[0m\u001b[1;33m\u001b[0m\u001b[0m\n\u001b[0;32m     22\u001b[0m     \u001b[0mstart_times\u001b[0m\u001b[1;33m,\u001b[0m \u001b[0mend_times\u001b[0m \u001b[1;33m=\u001b[0m \u001b[0mseparate_list_elements\u001b[0m\u001b[1;33m(\u001b[0m\u001b[0mmultiprocessing_task_timestamps\u001b[0m\u001b[1;33m)\u001b[0m\u001b[1;33m\u001b[0m\u001b[1;33m\u001b[0m\u001b[0m\n",
      "\u001b[1;32m<ipython-input-7-c62cde7a7d23>\u001b[0m in \u001b[0;36mdo_multiprocessing\u001b[1;34m(function, iterable, number_of_concurrent_processes)\u001b[0m\n\u001b[0;32m     17\u001b[0m     \u001b[1;32mwith\u001b[0m \u001b[0mProcessPoolExecutor\u001b[0m\u001b[1;33m(\u001b[0m\u001b[0mmax_workers\u001b[0m\u001b[1;33m=\u001b[0m\u001b[0mnumber_of_concurrent_processes\u001b[0m\u001b[1;33m)\u001b[0m \u001b[1;32mas\u001b[0m \u001b[0mexecutor\u001b[0m\u001b[1;33m:\u001b[0m\u001b[1;33m\u001b[0m\u001b[1;33m\u001b[0m\u001b[0m\n\u001b[0;32m     18\u001b[0m         \u001b[0mresponses\u001b[0m \u001b[1;33m=\u001b[0m \u001b[0mexecutor\u001b[0m\u001b[1;33m.\u001b[0m\u001b[0mmap\u001b[0m\u001b[1;33m(\u001b[0m\u001b[0mfunction\u001b[0m\u001b[1;33m,\u001b[0m \u001b[0miterable\u001b[0m\u001b[1;33m)\u001b[0m\u001b[1;33m\u001b[0m\u001b[1;33m\u001b[0m\u001b[0m\n\u001b[1;32m---> 19\u001b[1;33m     \u001b[1;32mreturn\u001b[0m \u001b[0mlist\u001b[0m\u001b[1;33m(\u001b[0m\u001b[0mresponses\u001b[0m\u001b[1;33m)\u001b[0m\u001b[1;33m\u001b[0m\u001b[1;33m\u001b[0m\u001b[0m\n\u001b[0m",
      "\u001b[1;32m~\\Anaconda3\\lib\\concurrent\\futures\\process.py\u001b[0m in \u001b[0;36m_chain_from_iterable_of_lists\u001b[1;34m(iterable)\u001b[0m\n\u001b[0;32m    474\u001b[0m     \u001b[0mcareful\u001b[0m \u001b[1;32mnot\u001b[0m \u001b[0mto\u001b[0m \u001b[0mkeep\u001b[0m \u001b[0mreferences\u001b[0m \u001b[0mto\u001b[0m \u001b[0myielded\u001b[0m \u001b[0mobjects\u001b[0m\u001b[1;33m.\u001b[0m\u001b[1;33m\u001b[0m\u001b[1;33m\u001b[0m\u001b[0m\n\u001b[0;32m    475\u001b[0m     \"\"\"\n\u001b[1;32m--> 476\u001b[1;33m     \u001b[1;32mfor\u001b[0m \u001b[0melement\u001b[0m \u001b[1;32min\u001b[0m \u001b[0miterable\u001b[0m\u001b[1;33m:\u001b[0m\u001b[1;33m\u001b[0m\u001b[1;33m\u001b[0m\u001b[0m\n\u001b[0m\u001b[0;32m    477\u001b[0m         \u001b[0melement\u001b[0m\u001b[1;33m.\u001b[0m\u001b[0mreverse\u001b[0m\u001b[1;33m(\u001b[0m\u001b[1;33m)\u001b[0m\u001b[1;33m\u001b[0m\u001b[1;33m\u001b[0m\u001b[0m\n\u001b[0;32m    478\u001b[0m         \u001b[1;32mwhile\u001b[0m \u001b[0melement\u001b[0m\u001b[1;33m:\u001b[0m\u001b[1;33m\u001b[0m\u001b[1;33m\u001b[0m\u001b[0m\n",
      "\u001b[1;32m~\\Anaconda3\\lib\\concurrent\\futures\\_base.py\u001b[0m in \u001b[0;36mresult_iterator\u001b[1;34m()\u001b[0m\n\u001b[0;32m    584\u001b[0m                     \u001b[1;31m# Careful not to keep a reference to the popped future\u001b[0m\u001b[1;33m\u001b[0m\u001b[1;33m\u001b[0m\u001b[1;33m\u001b[0m\u001b[0m\n\u001b[0;32m    585\u001b[0m                     \u001b[1;32mif\u001b[0m \u001b[0mtimeout\u001b[0m \u001b[1;32mis\u001b[0m \u001b[1;32mNone\u001b[0m\u001b[1;33m:\u001b[0m\u001b[1;33m\u001b[0m\u001b[1;33m\u001b[0m\u001b[0m\n\u001b[1;32m--> 586\u001b[1;33m                         \u001b[1;32myield\u001b[0m \u001b[0mfs\u001b[0m\u001b[1;33m.\u001b[0m\u001b[0mpop\u001b[0m\u001b[1;33m(\u001b[0m\u001b[1;33m)\u001b[0m\u001b[1;33m.\u001b[0m\u001b[0mresult\u001b[0m\u001b[1;33m(\u001b[0m\u001b[1;33m)\u001b[0m\u001b[1;33m\u001b[0m\u001b[1;33m\u001b[0m\u001b[0m\n\u001b[0m\u001b[0;32m    587\u001b[0m                     \u001b[1;32melse\u001b[0m\u001b[1;33m:\u001b[0m\u001b[1;33m\u001b[0m\u001b[1;33m\u001b[0m\u001b[0m\n\u001b[0;32m    588\u001b[0m                         \u001b[1;32myield\u001b[0m \u001b[0mfs\u001b[0m\u001b[1;33m.\u001b[0m\u001b[0mpop\u001b[0m\u001b[1;33m(\u001b[0m\u001b[1;33m)\u001b[0m\u001b[1;33m.\u001b[0m\u001b[0mresult\u001b[0m\u001b[1;33m(\u001b[0m\u001b[0mend_time\u001b[0m \u001b[1;33m-\u001b[0m \u001b[0mtime\u001b[0m\u001b[1;33m.\u001b[0m\u001b[0mmonotonic\u001b[0m\u001b[1;33m(\u001b[0m\u001b[1;33m)\u001b[0m\u001b[1;33m)\u001b[0m\u001b[1;33m\u001b[0m\u001b[1;33m\u001b[0m\u001b[0m\n",
      "\u001b[1;32m~\\Anaconda3\\lib\\concurrent\\futures\\_base.py\u001b[0m in \u001b[0;36mresult\u001b[1;34m(self, timeout)\u001b[0m\n\u001b[0;32m    423\u001b[0m                 \u001b[1;32mraise\u001b[0m \u001b[0mCancelledError\u001b[0m\u001b[1;33m(\u001b[0m\u001b[1;33m)\u001b[0m\u001b[1;33m\u001b[0m\u001b[1;33m\u001b[0m\u001b[0m\n\u001b[0;32m    424\u001b[0m             \u001b[1;32melif\u001b[0m \u001b[0mself\u001b[0m\u001b[1;33m.\u001b[0m\u001b[0m_state\u001b[0m \u001b[1;33m==\u001b[0m \u001b[0mFINISHED\u001b[0m\u001b[1;33m:\u001b[0m\u001b[1;33m\u001b[0m\u001b[1;33m\u001b[0m\u001b[0m\n\u001b[1;32m--> 425\u001b[1;33m                 \u001b[1;32mreturn\u001b[0m \u001b[0mself\u001b[0m\u001b[1;33m.\u001b[0m\u001b[0m__get_result\u001b[0m\u001b[1;33m(\u001b[0m\u001b[1;33m)\u001b[0m\u001b[1;33m\u001b[0m\u001b[1;33m\u001b[0m\u001b[0m\n\u001b[0m\u001b[0;32m    426\u001b[0m \u001b[1;33m\u001b[0m\u001b[0m\n\u001b[0;32m    427\u001b[0m             \u001b[0mself\u001b[0m\u001b[1;33m.\u001b[0m\u001b[0m_condition\u001b[0m\u001b[1;33m.\u001b[0m\u001b[0mwait\u001b[0m\u001b[1;33m(\u001b[0m\u001b[0mtimeout\u001b[0m\u001b[1;33m)\u001b[0m\u001b[1;33m\u001b[0m\u001b[1;33m\u001b[0m\u001b[0m\n",
      "\u001b[1;32m~\\Anaconda3\\lib\\concurrent\\futures\\_base.py\u001b[0m in \u001b[0;36m__get_result\u001b[1;34m(self)\u001b[0m\n\u001b[0;32m    382\u001b[0m     \u001b[1;32mdef\u001b[0m \u001b[0m__get_result\u001b[0m\u001b[1;33m(\u001b[0m\u001b[0mself\u001b[0m\u001b[1;33m)\u001b[0m\u001b[1;33m:\u001b[0m\u001b[1;33m\u001b[0m\u001b[1;33m\u001b[0m\u001b[0m\n\u001b[0;32m    383\u001b[0m         \u001b[1;32mif\u001b[0m \u001b[0mself\u001b[0m\u001b[1;33m.\u001b[0m\u001b[0m_exception\u001b[0m\u001b[1;33m:\u001b[0m\u001b[1;33m\u001b[0m\u001b[1;33m\u001b[0m\u001b[0m\n\u001b[1;32m--> 384\u001b[1;33m             \u001b[1;32mraise\u001b[0m \u001b[0mself\u001b[0m\u001b[1;33m.\u001b[0m\u001b[0m_exception\u001b[0m\u001b[1;33m\u001b[0m\u001b[1;33m\u001b[0m\u001b[0m\n\u001b[0m\u001b[0;32m    385\u001b[0m         \u001b[1;32melse\u001b[0m\u001b[1;33m:\u001b[0m\u001b[1;33m\u001b[0m\u001b[1;33m\u001b[0m\u001b[0m\n\u001b[0;32m    386\u001b[0m             \u001b[1;32mreturn\u001b[0m \u001b[0mself\u001b[0m\u001b[1;33m.\u001b[0m\u001b[0m_result\u001b[0m\u001b[1;33m\u001b[0m\u001b[1;33m\u001b[0m\u001b[0m\n",
      "\u001b[1;31mBrokenProcessPool\u001b[0m: A process in the process pool was terminated abruptly while the future was running or pending."
     ]
    }
   ],
   "source": [
    "visualize_multiprocessing_effect(number_of_concurrent_processes=1,\n",
    "                                function_name=get_response_time_measurements,\n",
    "                                iterable=twelve_urls,\n",
    "                                plot_title=\"Tasks for URL Server Responses; 1 Process\")"
   ]
  },
  {
   "cell_type": "code",
   "execution_count": 23,
   "metadata": {
    "slideshow": {
     "slide_type": "slide"
    }
   },
   "outputs": [
    {
     "ename": "BrokenProcessPool",
     "evalue": "A process in the process pool was terminated abruptly while the future was running or pending.",
     "output_type": "error",
     "traceback": [
      "\u001b[1;31m---------------------------------------------------------------------------\u001b[0m",
      "\u001b[1;31mBrokenProcessPool\u001b[0m                         Traceback (most recent call last)",
      "\u001b[1;32m<ipython-input-23-8a48aa7eb32b>\u001b[0m in \u001b[0;36m<module>\u001b[1;34m\u001b[0m\n\u001b[0;32m      2\u001b[0m                                 \u001b[0mfunction_name\u001b[0m\u001b[1;33m=\u001b[0m\u001b[0mget_response_time_measurements\u001b[0m\u001b[1;33m,\u001b[0m\u001b[1;33m\u001b[0m\u001b[1;33m\u001b[0m\u001b[0m\n\u001b[0;32m      3\u001b[0m                                 \u001b[0miterable\u001b[0m\u001b[1;33m=\u001b[0m\u001b[0mtwelve_urls\u001b[0m\u001b[1;33m,\u001b[0m\u001b[1;33m\u001b[0m\u001b[1;33m\u001b[0m\u001b[0m\n\u001b[1;32m----> 4\u001b[1;33m                                 plot_title=\"Tasks for URL Server Responses; 2 Processes\")\n\u001b[0m",
      "\u001b[1;32m<ipython-input-12-cceb75ff69f7>\u001b[0m in \u001b[0;36mvisualize_multiprocessing_effect\u001b[1;34m(number_of_concurrent_processes, function_name, iterable, plot_title)\u001b[0m\n\u001b[0;32m     18\u001b[0m     \"\"\"\n\u001b[0;32m     19\u001b[0m     \u001b[0mprocess_start_time\u001b[0m \u001b[1;33m=\u001b[0m \u001b[0mtime\u001b[0m\u001b[1;33m(\u001b[0m\u001b[1;33m)\u001b[0m \u001b[1;31m# we track time here\u001b[0m\u001b[1;33m\u001b[0m\u001b[1;33m\u001b[0m\u001b[0m\n\u001b[1;32m---> 20\u001b[1;33m     \u001b[0mtime_logs_multiprocessing_op\u001b[0m \u001b[1;33m=\u001b[0m \u001b[0mdo_multiprocessing\u001b[0m\u001b[1;33m(\u001b[0m\u001b[0mfunction_name\u001b[0m\u001b[1;33m,\u001b[0m \u001b[0miterable\u001b[0m\u001b[1;33m,\u001b[0m \u001b[0mnumber_of_concurrent_processes\u001b[0m\u001b[1;33m)\u001b[0m\u001b[1;33m\u001b[0m\u001b[1;33m\u001b[0m\u001b[0m\n\u001b[0m\u001b[0;32m     21\u001b[0m     \u001b[0mmultiprocessing_task_timestamps\u001b[0m \u001b[1;33m=\u001b[0m \u001b[0mtransform_timestamps_to_be_seconds_from_process_start_time\u001b[0m\u001b[1;33m(\u001b[0m\u001b[0mprocess_start_time\u001b[0m\u001b[1;33m,\u001b[0m \u001b[0mtime_logs_multiprocessing_op\u001b[0m\u001b[1;33m)\u001b[0m\u001b[1;33m\u001b[0m\u001b[1;33m\u001b[0m\u001b[0m\n\u001b[0;32m     22\u001b[0m     \u001b[0mstart_times\u001b[0m\u001b[1;33m,\u001b[0m \u001b[0mend_times\u001b[0m \u001b[1;33m=\u001b[0m \u001b[0mseparate_list_elements\u001b[0m\u001b[1;33m(\u001b[0m\u001b[0mmultiprocessing_task_timestamps\u001b[0m\u001b[1;33m)\u001b[0m\u001b[1;33m\u001b[0m\u001b[1;33m\u001b[0m\u001b[0m\n",
      "\u001b[1;32m<ipython-input-7-c62cde7a7d23>\u001b[0m in \u001b[0;36mdo_multiprocessing\u001b[1;34m(function, iterable, number_of_concurrent_processes)\u001b[0m\n\u001b[0;32m     17\u001b[0m     \u001b[1;32mwith\u001b[0m \u001b[0mProcessPoolExecutor\u001b[0m\u001b[1;33m(\u001b[0m\u001b[0mmax_workers\u001b[0m\u001b[1;33m=\u001b[0m\u001b[0mnumber_of_concurrent_processes\u001b[0m\u001b[1;33m)\u001b[0m \u001b[1;32mas\u001b[0m \u001b[0mexecutor\u001b[0m\u001b[1;33m:\u001b[0m\u001b[1;33m\u001b[0m\u001b[1;33m\u001b[0m\u001b[0m\n\u001b[0;32m     18\u001b[0m         \u001b[0mresponses\u001b[0m \u001b[1;33m=\u001b[0m \u001b[0mexecutor\u001b[0m\u001b[1;33m.\u001b[0m\u001b[0mmap\u001b[0m\u001b[1;33m(\u001b[0m\u001b[0mfunction\u001b[0m\u001b[1;33m,\u001b[0m \u001b[0miterable\u001b[0m\u001b[1;33m)\u001b[0m\u001b[1;33m\u001b[0m\u001b[1;33m\u001b[0m\u001b[0m\n\u001b[1;32m---> 19\u001b[1;33m     \u001b[1;32mreturn\u001b[0m \u001b[0mlist\u001b[0m\u001b[1;33m(\u001b[0m\u001b[0mresponses\u001b[0m\u001b[1;33m)\u001b[0m\u001b[1;33m\u001b[0m\u001b[1;33m\u001b[0m\u001b[0m\n\u001b[0m",
      "\u001b[1;32m~\\Anaconda3\\lib\\concurrent\\futures\\process.py\u001b[0m in \u001b[0;36m_chain_from_iterable_of_lists\u001b[1;34m(iterable)\u001b[0m\n\u001b[0;32m    474\u001b[0m     \u001b[0mcareful\u001b[0m \u001b[1;32mnot\u001b[0m \u001b[0mto\u001b[0m \u001b[0mkeep\u001b[0m \u001b[0mreferences\u001b[0m \u001b[0mto\u001b[0m \u001b[0myielded\u001b[0m \u001b[0mobjects\u001b[0m\u001b[1;33m.\u001b[0m\u001b[1;33m\u001b[0m\u001b[1;33m\u001b[0m\u001b[0m\n\u001b[0;32m    475\u001b[0m     \"\"\"\n\u001b[1;32m--> 476\u001b[1;33m     \u001b[1;32mfor\u001b[0m \u001b[0melement\u001b[0m \u001b[1;32min\u001b[0m \u001b[0miterable\u001b[0m\u001b[1;33m:\u001b[0m\u001b[1;33m\u001b[0m\u001b[1;33m\u001b[0m\u001b[0m\n\u001b[0m\u001b[0;32m    477\u001b[0m         \u001b[0melement\u001b[0m\u001b[1;33m.\u001b[0m\u001b[0mreverse\u001b[0m\u001b[1;33m(\u001b[0m\u001b[1;33m)\u001b[0m\u001b[1;33m\u001b[0m\u001b[1;33m\u001b[0m\u001b[0m\n\u001b[0;32m    478\u001b[0m         \u001b[1;32mwhile\u001b[0m \u001b[0melement\u001b[0m\u001b[1;33m:\u001b[0m\u001b[1;33m\u001b[0m\u001b[1;33m\u001b[0m\u001b[0m\n",
      "\u001b[1;32m~\\Anaconda3\\lib\\concurrent\\futures\\_base.py\u001b[0m in \u001b[0;36mresult_iterator\u001b[1;34m()\u001b[0m\n\u001b[0;32m    584\u001b[0m                     \u001b[1;31m# Careful not to keep a reference to the popped future\u001b[0m\u001b[1;33m\u001b[0m\u001b[1;33m\u001b[0m\u001b[1;33m\u001b[0m\u001b[0m\n\u001b[0;32m    585\u001b[0m                     \u001b[1;32mif\u001b[0m \u001b[0mtimeout\u001b[0m \u001b[1;32mis\u001b[0m \u001b[1;32mNone\u001b[0m\u001b[1;33m:\u001b[0m\u001b[1;33m\u001b[0m\u001b[1;33m\u001b[0m\u001b[0m\n\u001b[1;32m--> 586\u001b[1;33m                         \u001b[1;32myield\u001b[0m \u001b[0mfs\u001b[0m\u001b[1;33m.\u001b[0m\u001b[0mpop\u001b[0m\u001b[1;33m(\u001b[0m\u001b[1;33m)\u001b[0m\u001b[1;33m.\u001b[0m\u001b[0mresult\u001b[0m\u001b[1;33m(\u001b[0m\u001b[1;33m)\u001b[0m\u001b[1;33m\u001b[0m\u001b[1;33m\u001b[0m\u001b[0m\n\u001b[0m\u001b[0;32m    587\u001b[0m                     \u001b[1;32melse\u001b[0m\u001b[1;33m:\u001b[0m\u001b[1;33m\u001b[0m\u001b[1;33m\u001b[0m\u001b[0m\n\u001b[0;32m    588\u001b[0m                         \u001b[1;32myield\u001b[0m \u001b[0mfs\u001b[0m\u001b[1;33m.\u001b[0m\u001b[0mpop\u001b[0m\u001b[1;33m(\u001b[0m\u001b[1;33m)\u001b[0m\u001b[1;33m.\u001b[0m\u001b[0mresult\u001b[0m\u001b[1;33m(\u001b[0m\u001b[0mend_time\u001b[0m \u001b[1;33m-\u001b[0m \u001b[0mtime\u001b[0m\u001b[1;33m.\u001b[0m\u001b[0mmonotonic\u001b[0m\u001b[1;33m(\u001b[0m\u001b[1;33m)\u001b[0m\u001b[1;33m)\u001b[0m\u001b[1;33m\u001b[0m\u001b[1;33m\u001b[0m\u001b[0m\n",
      "\u001b[1;32m~\\Anaconda3\\lib\\concurrent\\futures\\_base.py\u001b[0m in \u001b[0;36mresult\u001b[1;34m(self, timeout)\u001b[0m\n\u001b[0;32m    423\u001b[0m                 \u001b[1;32mraise\u001b[0m \u001b[0mCancelledError\u001b[0m\u001b[1;33m(\u001b[0m\u001b[1;33m)\u001b[0m\u001b[1;33m\u001b[0m\u001b[1;33m\u001b[0m\u001b[0m\n\u001b[0;32m    424\u001b[0m             \u001b[1;32melif\u001b[0m \u001b[0mself\u001b[0m\u001b[1;33m.\u001b[0m\u001b[0m_state\u001b[0m \u001b[1;33m==\u001b[0m \u001b[0mFINISHED\u001b[0m\u001b[1;33m:\u001b[0m\u001b[1;33m\u001b[0m\u001b[1;33m\u001b[0m\u001b[0m\n\u001b[1;32m--> 425\u001b[1;33m                 \u001b[1;32mreturn\u001b[0m \u001b[0mself\u001b[0m\u001b[1;33m.\u001b[0m\u001b[0m__get_result\u001b[0m\u001b[1;33m(\u001b[0m\u001b[1;33m)\u001b[0m\u001b[1;33m\u001b[0m\u001b[1;33m\u001b[0m\u001b[0m\n\u001b[0m\u001b[0;32m    426\u001b[0m \u001b[1;33m\u001b[0m\u001b[0m\n\u001b[0;32m    427\u001b[0m             \u001b[0mself\u001b[0m\u001b[1;33m.\u001b[0m\u001b[0m_condition\u001b[0m\u001b[1;33m.\u001b[0m\u001b[0mwait\u001b[0m\u001b[1;33m(\u001b[0m\u001b[0mtimeout\u001b[0m\u001b[1;33m)\u001b[0m\u001b[1;33m\u001b[0m\u001b[1;33m\u001b[0m\u001b[0m\n",
      "\u001b[1;32m~\\Anaconda3\\lib\\concurrent\\futures\\_base.py\u001b[0m in \u001b[0;36m__get_result\u001b[1;34m(self)\u001b[0m\n\u001b[0;32m    382\u001b[0m     \u001b[1;32mdef\u001b[0m \u001b[0m__get_result\u001b[0m\u001b[1;33m(\u001b[0m\u001b[0mself\u001b[0m\u001b[1;33m)\u001b[0m\u001b[1;33m:\u001b[0m\u001b[1;33m\u001b[0m\u001b[1;33m\u001b[0m\u001b[0m\n\u001b[0;32m    383\u001b[0m         \u001b[1;32mif\u001b[0m \u001b[0mself\u001b[0m\u001b[1;33m.\u001b[0m\u001b[0m_exception\u001b[0m\u001b[1;33m:\u001b[0m\u001b[1;33m\u001b[0m\u001b[1;33m\u001b[0m\u001b[0m\n\u001b[1;32m--> 384\u001b[1;33m             \u001b[1;32mraise\u001b[0m \u001b[0mself\u001b[0m\u001b[1;33m.\u001b[0m\u001b[0m_exception\u001b[0m\u001b[1;33m\u001b[0m\u001b[1;33m\u001b[0m\u001b[0m\n\u001b[0m\u001b[0;32m    385\u001b[0m         \u001b[1;32melse\u001b[0m\u001b[1;33m:\u001b[0m\u001b[1;33m\u001b[0m\u001b[1;33m\u001b[0m\u001b[0m\n\u001b[0;32m    386\u001b[0m             \u001b[1;32mreturn\u001b[0m \u001b[0mself\u001b[0m\u001b[1;33m.\u001b[0m\u001b[0m_result\u001b[0m\u001b[1;33m\u001b[0m\u001b[1;33m\u001b[0m\u001b[0m\n",
      "\u001b[1;31mBrokenProcessPool\u001b[0m: A process in the process pool was terminated abruptly while the future was running or pending."
     ]
    }
   ],
   "source": [
    "visualize_multiprocessing_effect(number_of_concurrent_processes=2,\n",
    "                                function_name=get_response_time_measurements,\n",
    "                                iterable=twelve_urls,\n",
    "                                plot_title=\"Tasks for URL Server Responses; 2 Processes\")\n"
   ]
  },
  {
   "cell_type": "code",
   "execution_count": 24,
   "metadata": {
    "slideshow": {
     "slide_type": "slide"
    }
   },
   "outputs": [
    {
     "ename": "BrokenProcessPool",
     "evalue": "A process in the process pool was terminated abruptly while the future was running or pending.",
     "output_type": "error",
     "traceback": [
      "\u001b[1;31m---------------------------------------------------------------------------\u001b[0m",
      "\u001b[1;31mBrokenProcessPool\u001b[0m                         Traceback (most recent call last)",
      "\u001b[1;32m<ipython-input-24-ccdbc9b1025a>\u001b[0m in \u001b[0;36m<module>\u001b[1;34m\u001b[0m\n\u001b[0;32m      2\u001b[0m                                 \u001b[0mfunction_name\u001b[0m\u001b[1;33m=\u001b[0m\u001b[0mget_response_time_measurements\u001b[0m\u001b[1;33m,\u001b[0m\u001b[1;33m\u001b[0m\u001b[1;33m\u001b[0m\u001b[0m\n\u001b[0;32m      3\u001b[0m                                 \u001b[0miterable\u001b[0m\u001b[1;33m=\u001b[0m\u001b[0mtwelve_urls\u001b[0m\u001b[1;33m,\u001b[0m\u001b[1;33m\u001b[0m\u001b[1;33m\u001b[0m\u001b[0m\n\u001b[1;32m----> 4\u001b[1;33m                                 plot_title=\"Tasks for URL Server Responses; 3 Process\")\n\u001b[0m",
      "\u001b[1;32m<ipython-input-12-cceb75ff69f7>\u001b[0m in \u001b[0;36mvisualize_multiprocessing_effect\u001b[1;34m(number_of_concurrent_processes, function_name, iterable, plot_title)\u001b[0m\n\u001b[0;32m     18\u001b[0m     \"\"\"\n\u001b[0;32m     19\u001b[0m     \u001b[0mprocess_start_time\u001b[0m \u001b[1;33m=\u001b[0m \u001b[0mtime\u001b[0m\u001b[1;33m(\u001b[0m\u001b[1;33m)\u001b[0m \u001b[1;31m# we track time here\u001b[0m\u001b[1;33m\u001b[0m\u001b[1;33m\u001b[0m\u001b[0m\n\u001b[1;32m---> 20\u001b[1;33m     \u001b[0mtime_logs_multiprocessing_op\u001b[0m \u001b[1;33m=\u001b[0m \u001b[0mdo_multiprocessing\u001b[0m\u001b[1;33m(\u001b[0m\u001b[0mfunction_name\u001b[0m\u001b[1;33m,\u001b[0m \u001b[0miterable\u001b[0m\u001b[1;33m,\u001b[0m \u001b[0mnumber_of_concurrent_processes\u001b[0m\u001b[1;33m)\u001b[0m\u001b[1;33m\u001b[0m\u001b[1;33m\u001b[0m\u001b[0m\n\u001b[0m\u001b[0;32m     21\u001b[0m     \u001b[0mmultiprocessing_task_timestamps\u001b[0m \u001b[1;33m=\u001b[0m \u001b[0mtransform_timestamps_to_be_seconds_from_process_start_time\u001b[0m\u001b[1;33m(\u001b[0m\u001b[0mprocess_start_time\u001b[0m\u001b[1;33m,\u001b[0m \u001b[0mtime_logs_multiprocessing_op\u001b[0m\u001b[1;33m)\u001b[0m\u001b[1;33m\u001b[0m\u001b[1;33m\u001b[0m\u001b[0m\n\u001b[0;32m     22\u001b[0m     \u001b[0mstart_times\u001b[0m\u001b[1;33m,\u001b[0m \u001b[0mend_times\u001b[0m \u001b[1;33m=\u001b[0m \u001b[0mseparate_list_elements\u001b[0m\u001b[1;33m(\u001b[0m\u001b[0mmultiprocessing_task_timestamps\u001b[0m\u001b[1;33m)\u001b[0m\u001b[1;33m\u001b[0m\u001b[1;33m\u001b[0m\u001b[0m\n",
      "\u001b[1;32m<ipython-input-7-c62cde7a7d23>\u001b[0m in \u001b[0;36mdo_multiprocessing\u001b[1;34m(function, iterable, number_of_concurrent_processes)\u001b[0m\n\u001b[0;32m     17\u001b[0m     \u001b[1;32mwith\u001b[0m \u001b[0mProcessPoolExecutor\u001b[0m\u001b[1;33m(\u001b[0m\u001b[0mmax_workers\u001b[0m\u001b[1;33m=\u001b[0m\u001b[0mnumber_of_concurrent_processes\u001b[0m\u001b[1;33m)\u001b[0m \u001b[1;32mas\u001b[0m \u001b[0mexecutor\u001b[0m\u001b[1;33m:\u001b[0m\u001b[1;33m\u001b[0m\u001b[1;33m\u001b[0m\u001b[0m\n\u001b[0;32m     18\u001b[0m         \u001b[0mresponses\u001b[0m \u001b[1;33m=\u001b[0m \u001b[0mexecutor\u001b[0m\u001b[1;33m.\u001b[0m\u001b[0mmap\u001b[0m\u001b[1;33m(\u001b[0m\u001b[0mfunction\u001b[0m\u001b[1;33m,\u001b[0m \u001b[0miterable\u001b[0m\u001b[1;33m)\u001b[0m\u001b[1;33m\u001b[0m\u001b[1;33m\u001b[0m\u001b[0m\n\u001b[1;32m---> 19\u001b[1;33m     \u001b[1;32mreturn\u001b[0m \u001b[0mlist\u001b[0m\u001b[1;33m(\u001b[0m\u001b[0mresponses\u001b[0m\u001b[1;33m)\u001b[0m\u001b[1;33m\u001b[0m\u001b[1;33m\u001b[0m\u001b[0m\n\u001b[0m",
      "\u001b[1;32m~\\Anaconda3\\lib\\concurrent\\futures\\process.py\u001b[0m in \u001b[0;36m_chain_from_iterable_of_lists\u001b[1;34m(iterable)\u001b[0m\n\u001b[0;32m    474\u001b[0m     \u001b[0mcareful\u001b[0m \u001b[1;32mnot\u001b[0m \u001b[0mto\u001b[0m \u001b[0mkeep\u001b[0m \u001b[0mreferences\u001b[0m \u001b[0mto\u001b[0m \u001b[0myielded\u001b[0m \u001b[0mobjects\u001b[0m\u001b[1;33m.\u001b[0m\u001b[1;33m\u001b[0m\u001b[1;33m\u001b[0m\u001b[0m\n\u001b[0;32m    475\u001b[0m     \"\"\"\n\u001b[1;32m--> 476\u001b[1;33m     \u001b[1;32mfor\u001b[0m \u001b[0melement\u001b[0m \u001b[1;32min\u001b[0m \u001b[0miterable\u001b[0m\u001b[1;33m:\u001b[0m\u001b[1;33m\u001b[0m\u001b[1;33m\u001b[0m\u001b[0m\n\u001b[0m\u001b[0;32m    477\u001b[0m         \u001b[0melement\u001b[0m\u001b[1;33m.\u001b[0m\u001b[0mreverse\u001b[0m\u001b[1;33m(\u001b[0m\u001b[1;33m)\u001b[0m\u001b[1;33m\u001b[0m\u001b[1;33m\u001b[0m\u001b[0m\n\u001b[0;32m    478\u001b[0m         \u001b[1;32mwhile\u001b[0m \u001b[0melement\u001b[0m\u001b[1;33m:\u001b[0m\u001b[1;33m\u001b[0m\u001b[1;33m\u001b[0m\u001b[0m\n",
      "\u001b[1;32m~\\Anaconda3\\lib\\concurrent\\futures\\_base.py\u001b[0m in \u001b[0;36mresult_iterator\u001b[1;34m()\u001b[0m\n\u001b[0;32m    584\u001b[0m                     \u001b[1;31m# Careful not to keep a reference to the popped future\u001b[0m\u001b[1;33m\u001b[0m\u001b[1;33m\u001b[0m\u001b[1;33m\u001b[0m\u001b[0m\n\u001b[0;32m    585\u001b[0m                     \u001b[1;32mif\u001b[0m \u001b[0mtimeout\u001b[0m \u001b[1;32mis\u001b[0m \u001b[1;32mNone\u001b[0m\u001b[1;33m:\u001b[0m\u001b[1;33m\u001b[0m\u001b[1;33m\u001b[0m\u001b[0m\n\u001b[1;32m--> 586\u001b[1;33m                         \u001b[1;32myield\u001b[0m \u001b[0mfs\u001b[0m\u001b[1;33m.\u001b[0m\u001b[0mpop\u001b[0m\u001b[1;33m(\u001b[0m\u001b[1;33m)\u001b[0m\u001b[1;33m.\u001b[0m\u001b[0mresult\u001b[0m\u001b[1;33m(\u001b[0m\u001b[1;33m)\u001b[0m\u001b[1;33m\u001b[0m\u001b[1;33m\u001b[0m\u001b[0m\n\u001b[0m\u001b[0;32m    587\u001b[0m                     \u001b[1;32melse\u001b[0m\u001b[1;33m:\u001b[0m\u001b[1;33m\u001b[0m\u001b[1;33m\u001b[0m\u001b[0m\n\u001b[0;32m    588\u001b[0m                         \u001b[1;32myield\u001b[0m \u001b[0mfs\u001b[0m\u001b[1;33m.\u001b[0m\u001b[0mpop\u001b[0m\u001b[1;33m(\u001b[0m\u001b[1;33m)\u001b[0m\u001b[1;33m.\u001b[0m\u001b[0mresult\u001b[0m\u001b[1;33m(\u001b[0m\u001b[0mend_time\u001b[0m \u001b[1;33m-\u001b[0m \u001b[0mtime\u001b[0m\u001b[1;33m.\u001b[0m\u001b[0mmonotonic\u001b[0m\u001b[1;33m(\u001b[0m\u001b[1;33m)\u001b[0m\u001b[1;33m)\u001b[0m\u001b[1;33m\u001b[0m\u001b[1;33m\u001b[0m\u001b[0m\n",
      "\u001b[1;32m~\\Anaconda3\\lib\\concurrent\\futures\\_base.py\u001b[0m in \u001b[0;36mresult\u001b[1;34m(self, timeout)\u001b[0m\n\u001b[0;32m    423\u001b[0m                 \u001b[1;32mraise\u001b[0m \u001b[0mCancelledError\u001b[0m\u001b[1;33m(\u001b[0m\u001b[1;33m)\u001b[0m\u001b[1;33m\u001b[0m\u001b[1;33m\u001b[0m\u001b[0m\n\u001b[0;32m    424\u001b[0m             \u001b[1;32melif\u001b[0m \u001b[0mself\u001b[0m\u001b[1;33m.\u001b[0m\u001b[0m_state\u001b[0m \u001b[1;33m==\u001b[0m \u001b[0mFINISHED\u001b[0m\u001b[1;33m:\u001b[0m\u001b[1;33m\u001b[0m\u001b[1;33m\u001b[0m\u001b[0m\n\u001b[1;32m--> 425\u001b[1;33m                 \u001b[1;32mreturn\u001b[0m \u001b[0mself\u001b[0m\u001b[1;33m.\u001b[0m\u001b[0m__get_result\u001b[0m\u001b[1;33m(\u001b[0m\u001b[1;33m)\u001b[0m\u001b[1;33m\u001b[0m\u001b[1;33m\u001b[0m\u001b[0m\n\u001b[0m\u001b[0;32m    426\u001b[0m \u001b[1;33m\u001b[0m\u001b[0m\n\u001b[0;32m    427\u001b[0m             \u001b[0mself\u001b[0m\u001b[1;33m.\u001b[0m\u001b[0m_condition\u001b[0m\u001b[1;33m.\u001b[0m\u001b[0mwait\u001b[0m\u001b[1;33m(\u001b[0m\u001b[0mtimeout\u001b[0m\u001b[1;33m)\u001b[0m\u001b[1;33m\u001b[0m\u001b[1;33m\u001b[0m\u001b[0m\n",
      "\u001b[1;32m~\\Anaconda3\\lib\\concurrent\\futures\\_base.py\u001b[0m in \u001b[0;36m__get_result\u001b[1;34m(self)\u001b[0m\n\u001b[0;32m    382\u001b[0m     \u001b[1;32mdef\u001b[0m \u001b[0m__get_result\u001b[0m\u001b[1;33m(\u001b[0m\u001b[0mself\u001b[0m\u001b[1;33m)\u001b[0m\u001b[1;33m:\u001b[0m\u001b[1;33m\u001b[0m\u001b[1;33m\u001b[0m\u001b[0m\n\u001b[0;32m    383\u001b[0m         \u001b[1;32mif\u001b[0m \u001b[0mself\u001b[0m\u001b[1;33m.\u001b[0m\u001b[0m_exception\u001b[0m\u001b[1;33m:\u001b[0m\u001b[1;33m\u001b[0m\u001b[1;33m\u001b[0m\u001b[0m\n\u001b[1;32m--> 384\u001b[1;33m             \u001b[1;32mraise\u001b[0m \u001b[0mself\u001b[0m\u001b[1;33m.\u001b[0m\u001b[0m_exception\u001b[0m\u001b[1;33m\u001b[0m\u001b[1;33m\u001b[0m\u001b[0m\n\u001b[0m\u001b[0;32m    385\u001b[0m         \u001b[1;32melse\u001b[0m\u001b[1;33m:\u001b[0m\u001b[1;33m\u001b[0m\u001b[1;33m\u001b[0m\u001b[0m\n\u001b[0;32m    386\u001b[0m             \u001b[1;32mreturn\u001b[0m \u001b[0mself\u001b[0m\u001b[1;33m.\u001b[0m\u001b[0m_result\u001b[0m\u001b[1;33m\u001b[0m\u001b[1;33m\u001b[0m\u001b[0m\n",
      "\u001b[1;31mBrokenProcessPool\u001b[0m: A process in the process pool was terminated abruptly while the future was running or pending."
     ]
    }
   ],
   "source": [
    "visualize_multiprocessing_effect(number_of_concurrent_processes=3,\n",
    "                                function_name=get_response_time_measurements,\n",
    "                                iterable=twelve_urls,\n",
    "                                plot_title=\"Tasks for URL Server Responses; 3 Process\")\n"
   ]
  },
  {
   "cell_type": "code",
   "execution_count": 32,
   "metadata": {
    "slideshow": {
     "slide_type": "slide"
    }
   },
   "outputs": [
    {
     "data": {
      "image/png": "[encoded data removed]",
      "text/plain": [
       "<Figure size 432x288 with 1 Axes>"
      ]
     },
     "metadata": {
      "needs_background": "light"
     },
     "output_type": "display_data"
    },
    {
     "data": {
      "text/plain": [
       "<Figure size 864x720 with 0 Axes>"
      ]
     },
     "metadata": {},
     "output_type": "display_data"
    }
   ],
   "source": [
    "visualize_multiprocessing_effect(number_of_concurrent_processes=6,\n",
    "                                function_name=get_response_time_measurements,\n",
    "                                iterable=twelve_urls,\n",
    "                                plot_title=\"Tasks for URL Server Responses; 6 Processes\")\n"
   ]
  },
  {
   "cell_type": "markdown",
   "metadata": {
    "slideshow": {
     "slide_type": "slide"
    }
   },
   "source": [
    "# Single Process and Thread\n",
    "\n",
    "Now, let's perform the same operation without the overhead of setting up multithreading.\n"
   ]
  },
  {
   "cell_type": "code",
   "execution_count": 33,
   "metadata": {
    "slideshow": {
     "slide_type": "slide"
    }
   },
   "outputs": [
    {
     "name": "stdout",
     "output_type": "stream",
     "text": [
      "CPU times: user 518 ms, sys: 35.9 ms, total: 554 ms\n",
      "Wall time: 11.2 s\n"
     ]
    }
   ],
   "source": [
    "%%time\n",
    "\n",
    "# traditional python program without multithreading\n",
    "task_timestamps = list(map(get_response_time_measurements, twelve_urls));"
   ]
  },
  {
   "cell_type": "markdown",
   "metadata": {
    "slideshow": {
     "slide_type": "slide"
    }
   },
   "source": [
    "**Conclusion:** both multithreading and multiprocessing complete much quicker than a single thread & program.\n",
    "\n",
    "The reason parallel programming is much faster here is because the processor isn't working very hard to retreive the contents on the sites; however, the bottleneck is waiting for the site's server response to our HTTP request - an external resource. While one task is performing an operation of getting/waiting for a server response for one URL, another task can start for a different URL."
   ]
  },
  {
   "cell_type": "markdown",
   "metadata": {
    "slideshow": {
     "slide_type": "slide"
    }
   },
   "source": [
    "Threads are also fairly quick to combine their results too. So if we were web crawling and constantly wanted to combine results from multiple crawlers, it'd be ideal to use multiple threads to spawn multiple web crawlers rather than multiple processes which take longer to combine results."
   ]
  },
  {
   "cell_type": "markdown",
   "metadata": {
    "slideshow": {
     "slide_type": "slide"
    }
   },
   "source": [
    "# Example: Squares of Numbers\n",
    "\n",
    "Given this big list of numbers in `big_list`, we want to output a new list that has the square of all numbers in `big_list`.\n",
    "\n",
    "Think of this as a lot of small operations.\n"
   ]
  },
  {
   "cell_type": "code",
   "execution_count": 35,
   "metadata": {
    "slideshow": {
     "slide_type": "slide"
    }
   },
   "outputs": [],
   "source": [
    "big_list = range(1, 12000000)"
   ]
  },
  {
   "cell_type": "code",
   "execution_count": 36,
   "metadata": {
    "slideshow": {
     "slide_type": "slide"
    }
   },
   "outputs": [],
   "source": [
    "def square_value(x):\n",
    "    return x**2"
   ]
  },
  {
   "cell_type": "markdown",
   "metadata": {
    "slideshow": {
     "slide_type": "slide"
    }
   },
   "source": [
    "# Multithreading\n",
    "\n",
    "Below we utilize code from another module of the Python standard library, multiprocessing, to perform multithreading for this operation.\n",
    "\n",
    "By default, we will use all available threads on our computer."
   ]
  },
  {
   "cell_type": "code",
   "execution_count": 37,
   "metadata": {
    "slideshow": {
     "slide_type": "slide"
    }
   },
   "outputs": [
    {
     "name": "stdout",
     "output_type": "stream",
     "text": [
      "CPU times: user 7.92 s, sys: 601 ms, total: 8.52 s\n",
      "Wall time: 8.35 s\n"
     ]
    }
   ],
   "source": [
    "%%time\n",
    "\n",
    "pool = ThreadPool() \n",
    "\n",
    "squares_pool_results = pool.map(square_value, big_list)\n",
    "\n",
    "pool.close()\n",
    "pool.join()"
   ]
  },
  {
   "cell_type": "markdown",
   "metadata": {
    "slideshow": {
     "slide_type": "slide"
    }
   },
   "source": [
    "# Multiprocessing\n",
    "\n",
    "Below we utilize code from the lower-level module of the Python standard library, multiprocessing, to perform multiprocessing for this operation.\n",
    "\n",
    "We'll use 2 concurrent processes.\n"
   ]
  },
  {
   "cell_type": "code",
   "execution_count": 38,
   "metadata": {
    "slideshow": {
     "slide_type": "slide"
    }
   },
   "outputs": [
    {
     "name": "stdout",
     "output_type": "stream",
     "text": [
      "CPU times: user 1.65 s, sys: 654 ms, total: 2.31 s\n",
      "Wall time: 3.53 s\n"
     ]
    }
   ],
   "source": [
    "%%time\n",
    "\n",
    "with Pool(processes=2) as multiprocessing_operation:\n",
    "    multiprocessing_operation.map(square_value, big_list)\n"
   ]
  },
  {
   "cell_type": "markdown",
   "metadata": {
    "slideshow": {
     "slide_type": "slide"
    }
   },
   "source": [
    "# Single Process & Thread"
   ]
  },
  {
   "cell_type": "code",
   "execution_count": 39,
   "metadata": {
    "slideshow": {
     "slide_type": "slide"
    }
   },
   "outputs": [
    {
     "name": "stdout",
     "output_type": "stream",
     "text": [
      "CPU times: user 14 µs, sys: 2 µs, total: 16 µs\n",
      "Wall time: 24.1 µs\n"
     ]
    }
   ],
   "source": [
    "%%time\n",
    "    \n",
    "squares_results = map(square_value, big_list)"
   ]
  },
  {
   "cell_type": "markdown",
   "metadata": {
    "slideshow": {
     "slide_type": "slide"
    }
   },
   "source": [
    "**Conclusion:** process completes much faster without parallel programming.\n",
    "\n",
    "This may come as a surprise that parallel programming hurts our performance here.\n",
    "\n",
    "Using parallel programming in Python or any other interpreted language with a global interpreter lock (GIL) can actually result in reduced performance if you're just doing a CPU bound task. This program must carry parallel programming's additional overhead of creating new threads or processes and synchronizing their results.\n"
   ]
  },
  {
   "cell_type": "markdown",
   "metadata": {
    "slideshow": {
     "slide_type": "slide"
    }
   },
   "source": [
    "# Example: CPU Heavy Computations\n",
    "\n",
    "In this example, we'll only perform 8 tasks - with each task requiring a large amount of operations.\n"
   ]
  },
  {
   "cell_type": "code",
   "execution_count": 40,
   "metadata": {
    "slideshow": {
     "slide_type": "slide"
    }
   },
   "outputs": [],
   "source": [
    "def sum_all_intgers_from_zero_to_end_range_number(end_range_number):\n",
    "    \"\"\"\n",
    "    Calculate the sum of all integer numbers from 0 to end_range_number. \n",
    "    \n",
    "    :param end_range_number: highest value to loop over\n",
    "    :type end_range_number: integer\n",
    "    \n",
    "    :returns [start_time, stop_time]: list of start_time of task and end time of task\n",
    "    :return type: list\n",
    "    \"\"\"\n",
    "    start_time = time()\n",
    "    the_sum = 0\n",
    "    for number in range(0, end_range_number):\n",
    "        the_sum += number\n",
    "    stop_time = time()\n",
    "    return [start_time, stop_time]"
   ]
  },
  {
   "cell_type": "code",
   "execution_count": 41,
   "metadata": {
    "slideshow": {
     "slide_type": "slide"
    }
   },
   "outputs": [],
   "source": [
    "large_number = 11**7\n",
    "iterations = 8"
   ]
  },
  {
   "cell_type": "code",
   "execution_count": 43,
   "metadata": {
    "slideshow": {
     "slide_type": "slide"
    }
   },
   "outputs": [
    {
     "data": {
      "text/plain": [
       "[19487171,\n",
       " 19487171,\n",
       " 19487171,\n",
       " 19487171,\n",
       " 19487171,\n",
       " 19487171,\n",
       " 19487171,\n",
       " 19487171]"
      ]
     },
     "execution_count": 43,
     "metadata": {},
     "output_type": "execute_result"
    }
   ],
   "source": [
    "large_numbers = [large_number]*iterations\n",
    "large_numbers"
   ]
  },
  {
   "cell_type": "code",
   "execution_count": 44,
   "metadata": {
    "slideshow": {
     "slide_type": "slide"
    }
   },
   "outputs": [
    {
     "data": {
      "text/plain": [
       "[19487171,\n",
       " 19487171,\n",
       " 19487171,\n",
       " 19487171,\n",
       " 19487171,\n",
       " 19487171,\n",
       " 19487171,\n",
       " 19487171]"
      ]
     },
     "execution_count": 44,
     "metadata": {},
     "output_type": "execute_result"
    }
   ],
   "source": [
    "large_numbers"
   ]
  },
  {
   "cell_type": "markdown",
   "metadata": {
    "slideshow": {
     "slide_type": "slide"
    }
   },
   "source": [
    "# Multithreading\n",
    "\n",
    "Let's visualize the effect of multithreading with 2 concurrent threads.\n"
   ]
  },
  {
   "cell_type": "code",
   "execution_count": 44,
   "metadata": {
    "slideshow": {
     "slide_type": "slide"
    }
   },
   "outputs": [
    {
     "data": {
      "image/png": "[encoded data removed]",
      "text/plain": [
       "<Figure size 432x288 with 1 Axes>"
      ]
     },
     "metadata": {
      "needs_background": "light"
     },
     "output_type": "display_data"
    },
    {
     "data": {
      "text/plain": [
       "<Figure size 864x720 with 0 Axes>"
      ]
     },
     "metadata": {},
     "output_type": "display_data"
    }
   ],
   "source": [
    "visualize_multithreading_effect(number_of_threads=2,\n",
    "                                function_name=sum_all_intgers_from_zero_to_end_range_number,\n",
    "                                iterable=large_numbers,\n",
    "                                plot_title=\"Tasks for Heavy CPU Computations; 2 Threads\")"
   ]
  },
  {
   "cell_type": "markdown",
   "metadata": {
    "slideshow": {
     "slide_type": "slide"
    }
   },
   "source": [
    "# Multiprocessing\n",
    "\n",
    "Let's visualize the effect of multiprocessing with 2 concurrent subprocesses.\n"
   ]
  },
  {
   "cell_type": "code",
   "execution_count": 45,
   "metadata": {
    "slideshow": {
     "slide_type": "slide"
    }
   },
   "outputs": [
    {
     "data": {
      "image/png": "[encoded data removed]",
      "text/plain": [
       "<Figure size 432x288 with 1 Axes>"
      ]
     },
     "metadata": {
      "needs_background": "light"
     },
     "output_type": "display_data"
    },
    {
     "data": {
      "text/plain": [
       "<Figure size 864x720 with 0 Axes>"
      ]
     },
     "metadata": {},
     "output_type": "display_data"
    }
   ],
   "source": [
    "visualize_multiprocessing_effect(number_of_concurrent_processes=2,\n",
    "                                function_name=sum_all_intgers_from_zero_to_end_range_number,\n",
    "                                iterable=large_numbers,\n",
    "                                plot_title=\"Tasks for Heavy CPU Computations; 2 Processes\")"
   ]
  },
  {
   "cell_type": "markdown",
   "metadata": {
    "slideshow": {
     "slide_type": "slide"
    }
   },
   "source": [
    "Let's visualize the effect of multiprocessing with 4 concurrent subprocesses."
   ]
  },
  {
   "cell_type": "code",
   "execution_count": 46,
   "metadata": {
    "slideshow": {
     "slide_type": "slide"
    }
   },
   "outputs": [
    {
     "data": {
      "image/png": "[encoded data removed]",
      "text/plain": [
       "<Figure size 432x288 with 1 Axes>"
      ]
     },
     "metadata": {
      "needs_background": "light"
     },
     "output_type": "display_data"
    },
    {
     "data": {
      "text/plain": [
       "<Figure size 864x720 with 0 Axes>"
      ]
     },
     "metadata": {},
     "output_type": "display_data"
    }
   ],
   "source": [
    "visualize_multiprocessing_effect(number_of_concurrent_processes=4,\n",
    "                                function_name=sum_all_intgers_from_zero_to_end_range_number,\n",
    "                                iterable=large_numbers,\n",
    "                                plot_title=\"Tasks for Heavy CPU Computations; 4 Processes\")"
   ]
  },
  {
   "cell_type": "code",
   "execution_count": 50,
   "metadata": {
    "slideshow": {
     "slide_type": "slide"
    }
   },
   "outputs": [
    {
     "data": {
      "image/png": "[encoded data removed]",
      "text/plain": [
       "<Figure size 432x288 with 1 Axes>"
      ]
     },
     "metadata": {
      "needs_background": "light"
     },
     "output_type": "display_data"
    },
    {
     "data": {
      "text/plain": [
       "<Figure size 864x720 with 0 Axes>"
      ]
     },
     "metadata": {},
     "output_type": "display_data"
    }
   ],
   "source": [
    "visualize_multiprocessing_effect(number_of_concurrent_processes=4,\n",
    "                                function_name=sum_all_intgers_from_zero_to_end_range_number,\n",
    "                                iterable=large_numbers,\n",
    "                                plot_title=\"Tasks for Heavy CPU Computations; 4 Processes\")"
   ]
  },
  {
   "cell_type": "markdown",
   "metadata": {
    "slideshow": {
     "slide_type": "slide"
    }
   },
   "source": [
    "# Single Program & Thread"
   ]
  },
  {
   "cell_type": "code",
   "execution_count": 51,
   "metadata": {
    "slideshow": {
     "slide_type": "slide"
    }
   },
   "outputs": [
    {
     "name": "stdout",
     "output_type": "stream",
     "text": [
      "CPU times: user 7.81 s, sys: 0 ns, total: 7.81 s\n",
      "Wall time: 7.82 s\n"
     ]
    }
   ],
   "source": [
    "%%time\n",
    "\n",
    "for i in range(iterations):\n",
    "    sum_all_intgers_from_zero_to_end_range_number(large_number)"
   ]
  },
  {
   "cell_type": "markdown",
   "metadata": {
    "slideshow": {
     "slide_type": "slide"
    }
   },
   "source": [
    "**Conclusion:** program completes much faster with multiprocessing at approximately 4 subprocesses running concurrently.\n",
    "\n",
    "Multiprocessing here was helpful for this CPU intensive task because we could benefit from using multiple cores and avoid the global interpreter lock.\n",
    "\n",
    "Interestingly, spinning up additional subprocesses past 4 has no major effect on improving runtime of our program. Notice how the total program runtime with 4 subprocesses is equivalent to the program with 5 subprocesses.\n",
    "\n",
    "Threads provide no benefit in Python for CPU intensive tasks like these because of the global interpreter lock.\n"
   ]
  },
  {
   "cell_type": "markdown",
   "metadata": {
    "slideshow": {
     "slide_type": "slide"
    }
   },
   "source": [
    "**Summary:**\n",
    "\n",
    "The `threading` module uses `threads`, the `multiprocessing` module uses `processes`. The difference is that threads run in the **same memory space**, while processes have **separate memory**. This makes it a bit harder to share objects between processes with multiprocessing. Since threads use the same memory, precautions have to be taken or two threads will write to the same memory at the same time. This is what the global interpreter lock is for."
   ]
  },
  {
   "cell_type": "code",
   "execution_count": null,
   "metadata": {
    "slideshow": {
     "slide_type": "slide"
    }
   },
   "outputs": [],
   "source": []
  }
 ],
 "metadata": {
  "celltoolbar": "Slideshow",
  "kernelspec": {
   "display_name": "Python 3",
   "language": "python",
   "name": "python3"
  },
  "language_info": {
   "codemirror_mode": {
    "name": "ipython",
    "version": 3
   },
   "file_extension": ".py",
   "mimetype": "text/x-python",
   "name": "python",
   "nbconvert_exporter": "python",
   "pygments_lexer": "ipython3",
   "version": "3.7.1"
  }
 },
 "nbformat": 4,
 "nbformat_minor": 2
}
