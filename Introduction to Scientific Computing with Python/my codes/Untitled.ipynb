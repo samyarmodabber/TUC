{
 "cells": [
  {
   "cell_type": "code",
   "execution_count": 2,
   "metadata": {},
   "outputs": [
    {
     "data": {
      "text/plain": [
       "matrix([[2, 1],\n",
       "        [5, 7]])"
      ]
     },
     "execution_count": 2,
     "metadata": {},
     "output_type": "execute_result"
    }
   ],
   "source": [
    "import numpy as np\n",
    "A = np.matrix([[2 , 1], [5 , 7]])\n",
    "b=np.array([11,13])\n",
    "b\n",
    "A"
   ]
  },
  {
   "cell_type": "code",
   "execution_count": 11,
   "metadata": {},
   "outputs": [],
   "source": [
    "D=A.diagonal()\n",
    "L=np.tril(A)"
   ]
  },
  {
   "cell_type": "code",
   "execution_count": 11,
   "metadata": {},
   "outputs": [],
   "source": [
    "U=np.triu(A)"
   ]
  },
  {
   "cell_type": "code",
   "execution_count": 11,
   "metadata": {},
   "outputs": [
    {
     "data": {
      "text/plain": [
       "array([[3, 0, 0],\n",
       "       [6, 4, 0],\n",
       "       [1, 3, 5]])"
      ]
     },
     "execution_count": 11,
     "metadata": {},
     "output_type": "execute_result"
    }
   ],
   "source": [
    "L"
   ]
  },
  {
   "cell_type": "code",
   "execution_count": null,
   "metadata": {},
   "outputs": [],
   "source": []
  },
  {
   "cell_type": "code",
   "execution_count": 11,
   "metadata": {},
   "outputs": [],
   "source": [
    "D=A.diagonal()\n",
    "L=np.tril(A)"
   ]
  },
  {
   "cell_type": "code",
   "execution_count": 11,
   "metadata": {},
   "outputs": [],
   "source": [
    "U=np.triu(A)"
   ]
  },
  {
   "cell_type": "code",
   "execution_count": 11,
   "metadata": {},
   "outputs": [
    {
     "data": {
      "text/plain": [
       "array([[3, 0, 0],\n",
       "       [6, 4, 0],\n",
       "       [1, 3, 5]])"
      ]
     },
     "execution_count": 11,
     "metadata": {},
     "output_type": "execute_result"
    }
   ],
   "source": [
    "L"
   ]
  },
  {
   "cell_type": "code",
   "execution_count": 20,
   "metadata": {},
   "outputs": [
    {
     "data": {
      "text/plain": [
       "array([[ 3.33333333e-01,  3.70074342e-17, -2.37904934e-17],\n",
       "       [-5.00000000e-01,  2.50000000e-01,  3.56857401e-17],\n",
       "       [ 2.33333333e-01, -1.50000000e-01,  2.00000000e-01]])"
      ]
     },
     "execution_count": 20,
     "metadata": {},
     "output_type": "execute_result"
    }
   ],
   "source": [
    "LI=np.linalg.inv(L)\n",
    "LI"
   ]
  },
  {
   "cell_type": "code",
   "execution_count": 26,
   "metadata": {},
   "outputs": [
    {
     "data": {
      "text/plain": [
       "False"
      ]
     },
     "execution_count": 26,
     "metadata": {},
     "output_type": "execute_result"
    }
   ],
   "source": [
    "\n",
    "\n",
    "import scipy.sparse as sp\n",
    "\n",
    "T=L@LI\n",
    "sp.issparse(L)"
   ]
  },
  {
   "cell_type": "code",
   "execution_count": 4,
   "metadata": {},
   "outputs": [
    {
     "data": {
      "text/plain": [
       "array([[ 5.00000000e-01,  1.11022302e-17],\n",
       "       [-3.57142857e-01,  1.42857143e-01]])"
      ]
     },
     "execution_count": 4,
     "metadata": {},
     "output_type": "execute_result"
    }
   ],
   "source": [
    "from numpy.linalg import inv\n",
    "\n",
    "Linv = inv(L)\n",
    "\n",
    "Linv"
   ]
  },
  {
   "cell_type": "code",
   "execution_count": 5,
   "metadata": {},
   "outputs": [
    {
     "data": {
      "text/plain": [
       "array([[0.5]])"
      ]
     },
     "execution_count": 5,
     "metadata": {},
     "output_type": "execute_result"
    }
   ],
   "source": [
    "np.diag(1 / np.diag(D))"
   ]
  },
  {
   "cell_type": "code",
   "execution_count": 6,
   "metadata": {},
   "outputs": [],
   "source": [
    "S=np.array([[ 0, 0, 0],\n",
    "[ 4, 0, 0],\n",
    "[ 7, 8, 0],\n",
    "[10, 11, 12]])"
   ]
  },
  {
   "cell_type": "code",
   "execution_count": 7,
   "metadata": {},
   "outputs": [
    {
     "data": {
      "text/plain": [
       "array([[0, 0, 0],\n",
       "       [0, 0, 0],\n",
       "       [0, 0, 0],\n",
       "       [0, 0, 0]])"
      ]
     },
     "execution_count": 7,
     "metadata": {},
     "output_type": "execute_result"
    }
   ],
   "source": [
    "np.triu(S)"
   ]
  },
  {
   "cell_type": "code",
   "execution_count": 8,
   "metadata": {},
   "outputs": [],
   "source": [
    "def jacobi(A,b,maxiter,tol,verbose,xInit):\n",
    "    xOld=xInit\n",
    "    D = np.diag(np.diag(A))\n",
    "    LU = A - D\n",
    "    for i in range(maxiter):\n",
    "        DInv = np.diag(1 / np.diag(D))\n",
    "        xNew = np.dot(DInv, b - np.dot(LU, xOld))\n",
    "        if np.linalg.norm(xNew - xOld) < tol:\n",
    "            if verbose==1:\n",
    "                print(f'number of iteration:{i}')\n",
    "            return (xNew ,i)\n",
    "        xOld = xNew    "
   ]
  },
  {
   "cell_type": "code",
   "execution_count": 9,
   "metadata": {},
   "outputs": [
    {
     "ename": "TypeError",
     "evalue": "cannot unpack non-iterable NoneType object",
     "output_type": "error",
     "traceback": [
      "\u001b[1;31m---------------------------------------------------------------------------\u001b[0m",
      "\u001b[1;31mTypeError\u001b[0m                                 Traceback (most recent call last)",
      "\u001b[1;32m<ipython-input-9-6c0a76b0e8a4>\u001b[0m in \u001b[0;36m<module>\u001b[1;34m\u001b[0m\n\u001b[0;32m     17\u001b[0m \u001b[0mx0\u001b[0m \u001b[1;33m=\u001b[0m \u001b[0mnp\u001b[0m\u001b[1;33m.\u001b[0m\u001b[0mzeros\u001b[0m\u001b[1;33m(\u001b[0m\u001b[0mlen\u001b[0m\u001b[1;33m(\u001b[0m\u001b[0mb\u001b[0m\u001b[1;33m)\u001b[0m\u001b[1;33m)\u001b[0m\u001b[1;33m\u001b[0m\u001b[1;33m\u001b[0m\u001b[0m\n\u001b[0;32m     18\u001b[0m \u001b[1;33m\u001b[0m\u001b[0m\n\u001b[1;32m---> 19\u001b[1;33m \u001b[1;33m(\u001b[0m\u001b[0mx\u001b[0m \u001b[1;33m,\u001b[0m\u001b[0mi\u001b[0m\u001b[1;33m)\u001b[0m\u001b[1;33m=\u001b[0m \u001b[0mjacobi\u001b[0m\u001b[1;33m(\u001b[0m\u001b[0mA\u001b[0m\u001b[1;33m,\u001b[0m \u001b[0mb\u001b[0m\u001b[1;33m,\u001b[0m\u001b[1;36m1000\u001b[0m\u001b[1;33m,\u001b[0m\u001b[1;36m1e-5\u001b[0m\u001b[1;33m,\u001b[0m\u001b[1;36m1\u001b[0m\u001b[1;33m,\u001b[0m\u001b[0mx0\u001b[0m\u001b[1;33m)\u001b[0m\u001b[1;33m\u001b[0m\u001b[1;33m\u001b[0m\u001b[0m\n\u001b[0m\u001b[0;32m     20\u001b[0m \u001b[0mprint\u001b[0m\u001b[1;33m(\u001b[0m\u001b[1;34m'x='\u001b[0m \u001b[1;33m,\u001b[0m \u001b[0mx\u001b[0m\u001b[1;33m)\u001b[0m\u001b[1;33m\u001b[0m\u001b[1;33m\u001b[0m\u001b[0m\n\u001b[0;32m     21\u001b[0m \u001b[0mprint\u001b[0m\u001b[1;33m(\u001b[0m\u001b[1;34m\"b'=\"\u001b[0m\u001b[1;33m,\u001b[0m \u001b[0mnp\u001b[0m\u001b[1;33m.\u001b[0m\u001b[0mdot\u001b[0m\u001b[1;33m(\u001b[0m\u001b[0mA\u001b[0m\u001b[1;33m,\u001b[0m \u001b[0mx\u001b[0m\u001b[1;33m)\u001b[0m\u001b[1;33m)\u001b[0m\u001b[1;33m\u001b[0m\u001b[1;33m\u001b[0m\u001b[0m\n",
      "\u001b[1;31mTypeError\u001b[0m: cannot unpack non-iterable NoneType object"
     ]
    }
   ],
   "source": [
    "A = np.array([\n",
    "    [3, 5, 1],\n",
    "    [6, 4, 2],\n",
    "    [1, 3, 5]\n",
    "])\n",
    "b = np.array([12, 5, 20])\n",
    "\n",
    "A4 = np.array([\n",
    "    [5, 2, 1, 1],\n",
    "    [2, 6, 2, 1],\n",
    "    [1, 2, 7, 1],\n",
    "    [1, 1, 2, 8]\n",
    "])\n",
    "b4 = np.array([29, 31, 26, 19])\n",
    "\n",
    "\n",
    "x0 = np.zeros(len(b))\n",
    "\n",
    "(x ,i)= jacobi(A, b,1000,1e-5,1,x0)\n",
    "print('x=' , x)\n",
    "print(\"b'=\", np.dot(A, x))"
   ]
  },
  {
   "cell_type": "code",
   "execution_count": 19,
   "metadata": {},
   "outputs": [
    {
     "data": {
      "text/plain": [
       "array([[1.0000000e+00, 0.0000000e+00],\n",
       "       [8.8817842e-16, 1.0000000e+00]])"
      ]
     },
     "execution_count": 19,
     "metadata": {},
     "output_type": "execute_result"
    }
   ],
   "source": [
    "from scipy import linalg\n",
    "a = np.array([[1., 2.], [3., 4.]])\n",
    "linalg.inv(a)\n",
    "\n",
    "\n",
    "np.dot(a, linalg.inv(a))\n"
   ]
  },
  {
   "cell_type": "code",
   "execution_count": 5,
   "metadata": {},
   "outputs": [
    {
     "data": {
      "text/plain": [
       "4.0"
      ]
     },
     "execution_count": 5,
     "metadata": {},
     "output_type": "execute_result"
    }
   ],
   "source": [
    "a = np.array([1., 2.,4.])\n",
    "a[0]+3"
   ]
  },
  {
   "cell_type": "code",
   "execution_count": 7,
   "metadata": {},
   "outputs": [
    {
     "data": {
      "text/plain": [
       "tuple"
      ]
     },
     "execution_count": 7,
     "metadata": {},
     "output_type": "execute_result"
    }
   ],
   "source": [
    "p=(2,3,4)\n",
    "type(p)"
   ]
  },
  {
   "cell_type": "code",
   "execution_count": 8,
   "metadata": {},
   "outputs": [
    {
     "data": {
      "text/plain": [
       "3"
      ]
     },
     "execution_count": 8,
     "metadata": {},
     "output_type": "execute_result"
    }
   ],
   "source": [
    "p[1]"
   ]
  },
  {
   "cell_type": "code",
   "execution_count": 9,
   "metadata": {},
   "outputs": [
    {
     "data": {
      "text/plain": [
       "1.4142135623730951"
      ]
     },
     "execution_count": 9,
     "metadata": {},
     "output_type": "execute_result"
    }
   ],
   "source": [
    "np.sqrt(2)"
   ]
  },
  {
   "cell_type": "code",
   "execution_count": 24,
   "metadata": {},
   "outputs": [
    {
     "data": {
      "image/png": "[encoded data removed]",
      "text/latex": [
       "$$1.4142135623730951$$"
      ],
      "text/plain": [
       "1.4142135623730951"
      ]
     },
     "execution_count": 24,
     "metadata": {},
     "output_type": "execute_result"
    }
   ],
   "source": [
    "(2**0.5)\n"
   ]
  },
  {
   "cell_type": "code",
   "execution_count": 13,
   "metadata": {},
   "outputs": [
    {
     "data": {
      "text/plain": [
       "1.4142135623730951"
      ]
     },
     "execution_count": 13,
     "metadata": {},
     "output_type": "execute_result"
    }
   ],
   "source": [
    "import math \n",
    "math.sqrt(2)"
   ]
  },
  {
   "cell_type": "code",
   "execution_count": 20,
   "metadata": {},
   "outputs": [
    {
     "data": {
      "image/png": "[encoded data removed]",
      "text/latex": [
       "$$1.87082869338697$$"
      ],
      "text/plain": [
       "1.87082869338697"
      ]
     },
     "execution_count": 20,
     "metadata": {},
     "output_type": "execute_result"
    }
   ],
   "source": [
    "import sympy as sp\n",
    "sp.init_printing()\n",
    "\n",
    "sp.sqrt(3.5)"
   ]
  },
  {
   "cell_type": "code",
   "execution_count": 25,
   "metadata": {},
   "outputs": [
    {
     "data": {
      "image/png": "[encoded data removed]",
      "text/latex": [
       "$$1.4142135623730951$$"
      ],
      "text/plain": [
       "1.4142135623730951"
      ]
     },
     "execution_count": 25,
     "metadata": {},
     "output_type": "execute_result"
    }
   ],
   "source": [
    "import numpy as np\n",
    "np.sqrt(2)"
   ]
  },
  {
   "cell_type": "code",
   "execution_count": 52,
   "metadata": {},
   "outputs": [],
   "source": [
    "sp.init_printing()\n",
    "X,Y,Z = sp.symbols('X Y Z')\n",
    "\n",
    "import numpy as np\n",
    "\n",
    "class Line(Point):\n",
    "    \"\"\"Class to handle lines in R^3\"\"\"\n",
    "    \n",
    "    # ... TODO\n",
    "    def __init__(self, p, v):\n",
    "        \"\"\"\n",
    "        :param p: a point of line\n",
    "        :param v: direction of line\n",
    "        :type p,y:  Point class\n",
    "        \"\"\"\n",
    "        self.p=p\n",
    "        self.v =v\n",
    "    #def direction(self):\n",
    "        \n",
    "        \n",
    "    \n",
    "class Plane(Point): \n",
    "    \"\"\"Class to handle planes in R^3\"\"\"\n",
    "    def __init__(self, p, v , w):\n",
    "        \"\"\"\n",
    "        :param p: a point of line\n",
    "        :param v,w: direction of line\n",
    "        :type p,y,w:  Point class\n",
    "        \"\"\"\n",
    "        self.p =p\n",
    "        self.v =v\n",
    "        self.w =w\n",
    "        #self.n=n\n",
    "        \n",
    "    def normal(self):\n",
    "        vxw=Point.crossprod(self.v,self.w)\n",
    "        #print(type(vxw))\n",
    "        Point.normalize(vxw)\n",
    "        #print(vxw.show(),type(vxw))\n",
    "        self.n=vxw\n",
    "        return vxw\n",
    "    \n",
    "    \n",
    "    def line_intersection(self,g):\n",
    "        if Point.crossprod(self.normal(),g.v)==0:\n",
    "            return 'There is no intersection'\n",
    "        else:\n",
    "            v=g.v\n",
    "            P0=g.p\n",
    "            n=self.normal()\n",
    "            t0= sp.solve(n.x*(v.x*t+P0.x)+n.y*(v.y*t+P0.y)+n.z*(v.z*t+P0.z))\n",
    "            t0=t0[0]\n",
    "            intersection = Point(v.x*t0+P0.x,v.y*t0+P0.y,v.z*t0+P0.z)\n",
    "            return intersection\n",
    "        \n",
    "        \n",
    "    def plane_intersection(self,E):\n",
    "        N1=self.normal()\n",
    "        P1=self.p\n",
    "        \n",
    "        N2=E.normal()\n",
    "        P2=E.p\n",
    "        \n",
    "        N=Point.crossprod(N1,N2)\n",
    "\n",
    "        \n",
    "        #eq1=N1.x*(k-P1.x)+N1.y*(l-P1.y)\n",
    "        #eq2=N2.x*(k-P2.x)+N2.y*(l-P2.y)\n",
    "        \n",
    "        #np.solve([eq1,eq2],[k,l])\n",
    "        #print(N1.show(),N2.show())\n",
    "        print(N1.show(),N2.show(),N.show(),Point.dotprod(N1,P1))\n",
    "        A=np.array([[N1.x,N1.y,N1.z],[N2.x,N2.y,N2.z],[N.x,N.y,N.z]])\n",
    "        b=np.array([Point.dotprod(N1,P1) ,Point.dotprod(N2,P2),0])\n",
    "        print(A,b)\n",
    "        XY=np.linalg.solve(A,b)\n",
    "        print('XY',XY)\n",
    "        return 'n'\n",
    "        \n",
    "    \n",
    "    # ... TODO"
   ]
  },
  {
   "cell_type": "code",
   "execution_count": 53,
   "metadata": {},
   "outputs": [
    {
     "name": "stdout",
     "output_type": "stream",
     "text": [
      "(0.0, 0.0, 1.0) (0.0, -1.0, 0.0) (1.0, 0.0, -0.0) 0.0\n",
      "[[ 0.  0.  1.]\n",
      " [ 0. -1.  0.]\n",
      " [ 1.  0. -0.]] [0. 0. 0.]\n",
      "XY [ 0. -0.  0.]\n"
     ]
    },
    {
     "data": {
      "text/plain": [
       "'n'"
      ]
     },
     "execution_count": 53,
     "metadata": {},
     "output_type": "execute_result"
    }
   ],
   "source": [
    "# x-y plane\n",
    "x0=Point(0,0,0)\n",
    "v =Point(1,0,0)\n",
    "w =Point(0,1,0)\n",
    "E =Plane(x0,v,w) \n",
    "\n",
    "# x-z plane\n",
    "x0=Point(0,0,0)\n",
    "v =Point(1,0,0)\n",
    "w =Point(0,0,1)\n",
    "E2 =Plane(x0,v,w) \n",
    "\n",
    "E.plane_intersection(E2)"
   ]
  },
  {
   "cell_type": "code",
   "execution_count": 46,
   "metadata": {},
   "outputs": [
    {
     "name": "stdout",
     "output_type": "stream",
     "text": [
      "p1: (1, 2, 3)\n",
      "p2: (4, 5, 6)\n",
      "3.7416573867739413\n",
      "(0.2672612419124244, 0.5345224838248488, 0.8017837257372732)\n",
      "1.0\n",
      "<class '__main__.Point'>\n"
     ]
    }
   ],
   "source": [
    "p1 = Point(1,2,3)\n",
    "p2 = Point(4,5,6)\n",
    "\n",
    "print ('p1:', p1.show() )\n",
    "print ('p2:', p2.show() )\n",
    "#print(type(p1))\n",
    "\n",
    "#print(p1.move(p2).show())\n",
    "print(p1.norm())\n",
    "Point.normalize(p1)\n",
    "print(p1.show())\n",
    "print(p1.norm())\n",
    "#print(Point.dist(p1,p2))\n",
    "#print(Point.dotprod(p1,p2))\n",
    "#print(Point.crossprod(p1,p2).show())\n",
    "print(type(Point.crossprod(p1,p2)))\n",
    "#print(Point.crossprod(p1,p1).show())\n"
   ]
  },
  {
   "cell_type": "code",
   "execution_count": 29,
   "metadata": {},
   "outputs": [
    {
     "name": "stdout",
     "output_type": "stream",
     "text": [
      "[-1.  1.]\n"
     ]
    }
   ],
   "source": [
    "import numpy as np\n",
    "A=np.array([[2,3],[4,5]])\n",
    "b=np.array([1,1])\n",
    "x=np.linalg.solve(A,b)\n",
    "print(x)"
   ]
  },
  {
   "cell_type": "code",
   "execution_count": null,
   "metadata": {},
   "outputs": [],
   "source": []
  }
 ],
 "metadata": {
  "kernelspec": {
   "display_name": "Python 3",
   "language": "python",
   "name": "python3"
  },
  "language_info": {
   "codemirror_mode": {
    "name": "ipython",
    "version": 3
   },
   "file_extension": ".py",
   "mimetype": "text/x-python",
   "name": "python",
   "nbconvert_exporter": "python",
   "pygments_lexer": "ipython3",
   "version": "3.7.1"
  }
 },
 "nbformat": 4,
 "nbformat_minor": 2
}
