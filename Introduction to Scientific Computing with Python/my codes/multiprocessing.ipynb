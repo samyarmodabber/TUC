{
 "cells": [
  {
   "cell_type": "code",
   "execution_count": 17,
   "metadata": {},
   "outputs": [
    {
     "name": "stdout",
     "output_type": "stream",
     "text": [
      "I want to sleep for 2 second(s) ...\n",
      "... I wake up now.\n"
     ]
    }
   ],
   "source": [
    "import time \n",
    "s=2\n",
    "def short_sleep(s):\n",
    "    print(f'I want to sleep for {s} second(s) ...')\n",
    "    time.sleep(s)\n",
    "    print('... I wake up now.')\n",
    "\n",
    "short_sleep(s)"
   ]
  },
  {
   "cell_type": "code",
   "execution_count": 15,
   "metadata": {},
   "outputs": [
    {
     "name": "stdout",
     "output_type": "stream",
     "text": [
      "I want sleep 4 sec\n",
      "I wake up now.\n",
      "Wall time: 4 s\n"
     ]
    }
   ],
   "source": [
    "%%time\n",
    "short_sleep(4)\n",
    "#short_sleep(3)"
   ]
  },
  {
   "cell_type": "code",
   "execution_count": 19,
   "metadata": {},
   "outputs": [
    {
     "name": "stdout",
     "output_type": "stream",
     "text": [
      "I want to sleep for 5 second(s) ...\n",
      "... I wake up now.\n",
      "I sleep for 5.0 second(s)\n"
     ]
    }
   ],
   "source": [
    "##### time of a process #######\n",
    "start=time.perf_counter()\n",
    "   \n",
    "short_sleep(5)\n",
    "\n",
    "finish=time.perf_counter()\n",
    "print(f'I sleep for {round(finish-start,3)} second(s)')"
   ]
  },
  {
   "cell_type": "code",
   "execution_count": 41,
   "metadata": {},
   "outputs": [
    {
     "name": "stdout",
     "output_type": "stream",
     "text": [
      "I want to sleep for 1 second(s) ...\n",
      "... I wake up now.\n",
      "I want to sleep for 1 second(s) ...\n",
      "... I wake up now.\n",
      "I sleep for 2.093 second(s)\n",
      "Help on class Process in module multiprocessing.context:\n",
      "\n",
      "class Process(multiprocessing.process.BaseProcess)\n",
      " |  Process(group=None, target=None, name=None, args=(), kwargs={}, *, daemon=None)\n",
      " |  \n",
      " |  Process objects represent activity that is run in a separate process\n",
      " |  \n",
      " |  The class is analogous to `threading.Thread`\n",
      " |  \n",
      " |  Method resolution order:\n",
      " |      Process\n",
      " |      multiprocessing.process.BaseProcess\n",
      " |      builtins.object\n",
      " |  \n",
      " |  Data and other attributes defined here:\n",
      " |  \n",
      " |  __slotnames__ = []\n",
      " |  \n",
      " |  ----------------------------------------------------------------------\n",
      " |  Methods inherited from multiprocessing.process.BaseProcess:\n",
      " |  \n",
      " |  __init__(self, group=None, target=None, name=None, args=(), kwargs={}, *, daemon=None)\n",
      " |      Initialize self.  See help(type(self)) for accurate signature.\n",
      " |  \n",
      " |  __repr__(self)\n",
      " |      Return repr(self).\n",
      " |  \n",
      " |  close(self)\n",
      " |      Close the Process object.\n",
      " |      \n",
      " |      This method releases resources held by the Process object.  It is\n",
      " |      an error to call this method if the child process is still running.\n",
      " |  \n",
      " |  is_alive(self)\n",
      " |      Return whether process is alive\n",
      " |  \n",
      " |  join(self, timeout=None)\n",
      " |      Wait until child process terminates\n",
      " |  \n",
      " |  kill(self)\n",
      " |      Terminate process; sends SIGKILL signal or uses TerminateProcess()\n",
      " |  \n",
      " |  run(self)\n",
      " |      Method to be run in sub-process; can be overridden in sub-class\n",
      " |  \n",
      " |  start(self)\n",
      " |      Start child process\n",
      " |  \n",
      " |  terminate(self)\n",
      " |      Terminate process; sends SIGTERM signal or uses TerminateProcess()\n",
      " |  \n",
      " |  ----------------------------------------------------------------------\n",
      " |  Data descriptors inherited from multiprocessing.process.BaseProcess:\n",
      " |  \n",
      " |  __dict__\n",
      " |      dictionary for instance variables (if defined)\n",
      " |  \n",
      " |  __weakref__\n",
      " |      list of weak references to the object (if defined)\n",
      " |  \n",
      " |  authkey\n",
      " |  \n",
      " |  daemon\n",
      " |      Return whether process is a daemon\n",
      " |  \n",
      " |  exitcode\n",
      " |      Return exit code of process or `None` if it has yet to stop\n",
      " |  \n",
      " |  ident\n",
      " |      Return identifier (PID) of process or `None` if it has yet to start\n",
      " |  \n",
      " |  name\n",
      " |  \n",
      " |  pid\n",
      " |      Return identifier (PID) of process or `None` if it has yet to start\n",
      " |  \n",
      " |  sentinel\n",
      " |      Return a file descriptor (Unix) or handle (Windows) suitable for\n",
      " |      waiting for process termination.\n",
      "\n",
      "None\n"
     ]
    }
   ],
   "source": [
    "import multiprocessing as mp\n",
    "\n",
    "start=time.perf_counter()\n",
    "\n",
    "p1=mp.Process(short_sleep(1))\n",
    "p2=mp.Process(short_sleep(1))\n",
    "\n",
    "p1.start()\n",
    "p2.start()\n",
    "p1.join()\n",
    "p2.join()\n",
    "finish=time.perf_counter()\n",
    "print(f'I sleep for {round(finish-start,3)} second(s)')\n",
    "print(help(mp.Process))"
   ]
  },
  {
   "cell_type": "code",
   "execution_count": 40,
   "metadata": {},
   "outputs": [],
   "source": [
    "import multiprocessing\n",
    "\n",
    "\n",
    "def worker():\n",
    "    \"\"\"worker function\"\"\"\n",
    "    print ('Worker')\n",
    "    return\n",
    "\n",
    "\n",
    "\n",
    "jobs = []\n",
    "for i in range(5):\n",
    "    p = multiprocessing.Process(target=worker)\n",
    "    jobs.append(p)\n",
    "    p.start()\n"
   ]
  },
  {
   "cell_type": "code",
   "execution_count": null,
   "metadata": {},
   "outputs": [],
   "source": []
  }
 ],
 "metadata": {
  "kernelspec": {
   "display_name": "Python 3",
   "language": "python",
   "name": "python3"
  },
  "language_info": {
   "codemirror_mode": {
    "name": "ipython",
    "version": 3
   },
   "file_extension": ".py",
   "mimetype": "text/x-python",
   "name": "python",
   "nbconvert_exporter": "python",
   "pygments_lexer": "ipython3",
   "version": "3.7.1"
  }
 },
 "nbformat": 4,
 "nbformat_minor": 2
}
